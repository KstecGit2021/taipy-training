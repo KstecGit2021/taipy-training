{
 "cells": [
  {
   "cell_type": "markdown",
   "id": "306e5793",
   "metadata": {
    "id": "306e5793"
   },
   "source": [
    "# Taipy 설치\n",
    "\n",
    "Taipy를 설치하려면 그냥 `pip install` 하세요."
   ]
  },
  {
   "cell_type": "code",
   "execution_count": null,
   "id": "c9cd05ba",
   "metadata": {
    "id": "c9cd05ba"
   },
   "outputs": [],
   "source": [
    "pip install taipy"
   ]
  },
  {
   "cell_type": "code",
   "execution_count": null,
   "id": "c870cd8b",
   "metadata": {
    "id": "c870cd8b"
   },
   "outputs": [],
   "source": [
    "pip install pmdarima"
   ]
  },
  {
   "cell_type": "code",
   "execution_count": null,
   "id": "7186867d",
   "metadata": {
    "id": "7186867d"
   },
   "outputs": [],
   "source": [
    "pip install requests"
   ]
  },
  {
   "cell_type": "markdown",
   "id": "c42e5ded",
   "metadata": {
    "id": "c42e5ded"
   },
   "source": [
    "# 패키지 가져오기 및 초기화"
   ]
  },
  {
   "cell_type": "code",
   "execution_count": 1,
   "id": "d69871ac",
   "metadata": {
    "id": "d69871ac"
   },
   "outputs": [],
   "source": [
    "# 패키지 가져오기 및 초기화from taipy.gui import Gui, Markdown, notify\n",
    "from taipy import Config\n",
    "import taipy as tp\n",
    "\n",
    "import datetime as dt\n",
    "\n",
    "from pmdarima import auto_arima\n",
    "\n",
    "import pandas as pd\n",
    "import numpy as np\n",
    "\n",
    "import requests"
   ]
  },
  {
   "cell_type": "code",
   "execution_count": 2,
   "id": "62085243",
   "metadata": {
    "id": "62085243"
   },
   "outputs": [],
   "source": [
    "from pandas.core.common import SettingWithCopyWarning\n",
    "import warnings\n",
    "\n",
    "warnings.simplefilter(action=\"ignore\", category=SettingWithCopyWarning)\n",
    "\n",
    "data_country_date = None\n",
    "selected_country = None\n",
    "\n",
    "selected_scenario = None\n",
    "scenario_selector = None\n",
    "\n",
    "scenario_name = None\n",
    "\n",
    "result = None\n",
    "\n",
    "selected_points = []\n",
    "\n",
    "data_province_displayed = None\n",
    "\n",
    "api_year = None\n",
    "api_pop = None\n",
    "api_country = None"
   ]
  },
  {
   "cell_type": "markdown",
   "id": "81074375",
   "metadata": {
    "id": "81074375"
   },
   "source": [
    "# Taipy Gui 기본\n",
    "## 마크다운 구문"
   ]
  },
  {
   "cell_type": "markdown",
   "id": "8ad49481",
   "metadata": {
    "id": "8ad49481"
   },
   "source": [
    "Taipy는 Markdown 구문을 사용하여 요소를 표시합니다. `#` 제목을 만들고 `*` 텍스트를 기울임꼴로 표시하고 `**` 굵게 표시합니다."
   ]
  },
  {
   "cell_type": "markdown",
   "id": "929a56cf",
   "metadata": {
    "id": "929a56cf"
   },
   "source": [
    "![](img/gui_basic_eng.png)"
   ]
  },
  {
   "cell_type": "code",
   "execution_count": 3,
   "id": "a170a8e5",
   "metadata": {
    "id": "a170a8e5"
   },
   "outputs": [],
   "source": [
    "page_md = \"\"\"\n",
    "# Taipy\n",
    "\n",
    "Test **here** to put some *markdown*\n",
    "\n",
    "Click to access the [doc](https://docs.taipy.io/en/latest/)\n",
    "\"\"\""
   ]
  },
  {
   "cell_type": "code",
   "execution_count": 5,
   "id": "1cf6cf9d",
   "metadata": {
    "id": "1cf6cf9d",
    "outputId": "5ca75ca3-492f-4fce-c557-6dda2de9821d"
   },
   "outputs": [
    {
     "name": "stdout",
     "output_type": "stream",
     "text": [
      " * Server starting on http://127.0.0.1:5000\n",
      " * Serving Flask app 'Taipy' (lazy loading)\n",
      " * Environment: production\n",
      "\u001b[31m   WARNING: This is a development server. Do not use it in a production deployment.\u001b[0m\n",
      "\u001b[2m   Use a production WSGI server instead.\u001b[0m\n",
      " * Debug mode: off\n"
     ]
    }
   ],
   "source": [
    "page = Markdown(page_md)\n",
    "\n",
    "gui = Gui(page=page)\n",
    "gui.run(dark_mode=False)"
   ]
  },
  {
   "cell_type": "markdown",
   "id": "ea452214",
   "metadata": {
    "id": "ea452214"
   },
   "source": [
    "## 시각적 요소\n",
    "다양한 시각적 요소를 만듭니다. 구문은 각 시각적 요소에 대해 항상 동일합니다.  \n",
    "`<|{value}|name_of_visual_element|property_1=value_of_property_1|...|>`\n",
    "- [slider](https://docs.taipy.io/en/latest/manuals/gui/viselements/slider/) 만들기 `<|{value}|slider|>`\n",
    "\n",
    "- [date](https://docs.taipy.io/en/latest/manuals/gui/viselements/date/) 만들기 `<|{value}|date|>`\n",
    "\n",
    "- [selector](https://docs.taipy.io/en/latest/manuals/gui/viselements/selector/) 만들기 `<|{value}|selector|lov={list_of_values}|>` \n"
   ]
  },
  {
   "cell_type": "markdown",
   "id": "68f228f9",
   "metadata": {
    "id": "68f228f9"
   },
   "source": [
    "![](img/control.png)"
   ]
  },
  {
   "cell_type": "code",
   "execution_count": 6,
   "id": "eb6455bd",
   "metadata": {
    "id": "eb6455bd"
   },
   "outputs": [],
   "source": [
    "slider_value = 0\n",
    "date_value = None\n",
    "selected_value = None"
   ]
  },
  {
   "cell_type": "code",
   "execution_count": 7,
   "id": "bc42cca4",
   "metadata": {
    "id": "bc42cca4"
   },
   "outputs": [],
   "source": [
    "selector = ['Test 1', 'Test 2', 'Test 3']\n",
    "\n",
    "control_md = \"\"\"\n",
    "## Controls\n",
    "\n",
    "<|{slider_value}|slider|> <|{slider_value}|>\n",
    "\n",
    "<|...|> <|{date_value}|>\n",
    "\n",
    "<|...|>  <|{selected_value}|>\n",
    "\"\"\""
   ]
  },
  {
   "cell_type": "code",
   "execution_count": 8,
   "id": "5986d8a8",
   "metadata": {
    "id": "5986d8a8",
    "outputId": "20270115-5e0d-4dae-d205-9be8293a6ae4"
   },
   "outputs": [
    {
     "name": "stdout",
     "output_type": "stream",
     "text": [
      "Gui server has been stopped\n",
      " * Server starting on http://127.0.0.1:5000\n",
      " * Serving Flask app 'Taipy' (lazy loading)\n",
      " * Environment: production\n",
      "\u001b[31m   WARNING: This is a development server. Do not use it in a production deployment.\u001b[0m\n",
      "\u001b[2m   Use a production WSGI server instead.\u001b[0m\n",
      " * Debug mode: off\n"
     ]
    }
   ],
   "source": [
    "gui.stop()\n",
    "page.set_content(control_md)\n",
    "gui.run()"
   ]
  },
  {
   "cell_type": "markdown",
   "id": "b4ac0541",
   "metadata": {
    "id": "b4ac0541"
   },
   "source": [
    "## 데이터 비주얼리제이션\n",
    "\n",
    "다른 지역의 사망자, 확인된 사례 및 회복된 수에 대한 정보를 수집하는 데이터 세트는 대화형 대시보드를 만드는 데 사용됩니다."
   ]
  },
  {
   "cell_type": "code",
   "execution_count": 9,
   "id": "49bd29ff",
   "metadata": {
    "id": "49bd29ff",
    "outputId": "4bdee9b7-b22b-4d16-a00a-3273ad2a4933"
   },
   "outputs": [
    {
     "data": {
      "text/html": [
       "<div>\n",
       "<style scoped>\n",
       "    .dataframe tbody tr th:only-of-type {\n",
       "        vertical-align: middle;\n",
       "    }\n",
       "\n",
       "    .dataframe tbody tr th {\n",
       "        vertical-align: top;\n",
       "    }\n",
       "\n",
       "    .dataframe thead th {\n",
       "        text-align: right;\n",
       "    }\n",
       "</style>\n",
       "<table border=\"1\" class=\"dataframe\">\n",
       "  <thead>\n",
       "    <tr style=\"text-align: right;\">\n",
       "      <th></th>\n",
       "      <th>Country/Region</th>\n",
       "      <th>Province/State</th>\n",
       "      <th>Latitude</th>\n",
       "      <th>Longitude</th>\n",
       "      <th>Confirmed</th>\n",
       "      <th>Recovered</th>\n",
       "      <th>Deaths</th>\n",
       "      <th>Date</th>\n",
       "    </tr>\n",
       "  </thead>\n",
       "  <tbody>\n",
       "    <tr>\n",
       "      <th>1241947</th>\n",
       "      <td>Vietnam</td>\n",
       "      <td>NaN</td>\n",
       "      <td>14.058324</td>\n",
       "      <td>108.277199</td>\n",
       "      <td>1465.0</td>\n",
       "      <td>1325.0</td>\n",
       "      <td>35.0</td>\n",
       "      <td>2020-12-31</td>\n",
       "    </tr>\n",
       "    <tr>\n",
       "      <th>1241948</th>\n",
       "      <td>West Bank and Gaza</td>\n",
       "      <td>NaN</td>\n",
       "      <td>31.952200</td>\n",
       "      <td>35.233200</td>\n",
       "      <td>138004.0</td>\n",
       "      <td>117183.0</td>\n",
       "      <td>1400.0</td>\n",
       "      <td>2020-12-31</td>\n",
       "    </tr>\n",
       "    <tr>\n",
       "      <th>1241949</th>\n",
       "      <td>Yemen</td>\n",
       "      <td>NaN</td>\n",
       "      <td>15.552727</td>\n",
       "      <td>48.516388</td>\n",
       "      <td>2099.0</td>\n",
       "      <td>1394.0</td>\n",
       "      <td>610.0</td>\n",
       "      <td>2020-12-31</td>\n",
       "    </tr>\n",
       "    <tr>\n",
       "      <th>1241950</th>\n",
       "      <td>Zambia</td>\n",
       "      <td>NaN</td>\n",
       "      <td>-13.133897</td>\n",
       "      <td>27.849332</td>\n",
       "      <td>20725.0</td>\n",
       "      <td>18660.0</td>\n",
       "      <td>388.0</td>\n",
       "      <td>2020-12-31</td>\n",
       "    </tr>\n",
       "    <tr>\n",
       "      <th>1241951</th>\n",
       "      <td>Zimbabwe</td>\n",
       "      <td>NaN</td>\n",
       "      <td>-19.015438</td>\n",
       "      <td>29.154857</td>\n",
       "      <td>13867.0</td>\n",
       "      <td>11250.0</td>\n",
       "      <td>363.0</td>\n",
       "      <td>2020-12-31</td>\n",
       "    </tr>\n",
       "  </tbody>\n",
       "</table>\n",
       "</div>"
      ],
      "text/plain": [
       "             Country/Region Province/State   Latitude   Longitude  Confirmed  \\\n",
       "1241947             Vietnam            NaN  14.058324  108.277199     1465.0   \n",
       "1241948  West Bank and Gaza            NaN  31.952200   35.233200   138004.0   \n",
       "1241949               Yemen            NaN  15.552727   48.516388     2099.0   \n",
       "1241950              Zambia            NaN -13.133897   27.849332    20725.0   \n",
       "1241951            Zimbabwe            NaN -19.015438   29.154857    13867.0   \n",
       "\n",
       "         Recovered  Deaths        Date  \n",
       "1241947     1325.0    35.0  2020-12-31  \n",
       "1241948   117183.0  1400.0  2020-12-31  \n",
       "1241949     1394.0   610.0  2020-12-31  \n",
       "1241950    18660.0   388.0  2020-12-31  \n",
       "1241951    11250.0   363.0  2020-12-31  "
      ]
     },
     "execution_count": 9,
     "metadata": {},
     "output_type": "execute_result"
    }
   ],
   "source": [
    "path_to_data = \"data/covid-19-all.csv\"\n",
    "data = pd.read_csv(path_to_data, low_memory=False)\n",
    "data[-5:]"
   ]
  },
  {
   "cell_type": "code",
   "execution_count": 13,
   "id": "18b5bb55",
   "metadata": {
    "id": "18b5bb55"
   },
   "outputs": [],
   "source": [
    "def initialize_case_evolution(data, selected_country='France'):\n",
    "    # Aggregation of the dataframe per Country/Region\n",
    "    data_country_date = data.groupby([\"Country/Region\",'Date'])\\\n",
    "                            .sum()\\\n",
    "                            .reset_index()\n",
    "    \n",
    "    # a country is selected, here France by default\n",
    "    data_country_date = data_country_date.loc[data_country_date['Country/Region']==selected_country]\n",
    "    return data_country_date"
   ]
  },
  {
   "cell_type": "code",
   "execution_count": 14,
   "id": "f5ae821c",
   "metadata": {
    "id": "f5ae821c",
    "outputId": "ec9a2586-efb2-46ba-e25a-24e4db08fd9c"
   },
   "outputs": [
    {
     "data": {
      "text/html": [
       "<div>\n",
       "<style scoped>\n",
       "    .dataframe tbody tr th:only-of-type {\n",
       "        vertical-align: middle;\n",
       "    }\n",
       "\n",
       "    .dataframe tbody tr th {\n",
       "        vertical-align: top;\n",
       "    }\n",
       "\n",
       "    .dataframe thead th {\n",
       "        text-align: right;\n",
       "    }\n",
       "</style>\n",
       "<table border=\"1\" class=\"dataframe\">\n",
       "  <thead>\n",
       "    <tr style=\"text-align: right;\">\n",
       "      <th></th>\n",
       "      <th>Country/Region</th>\n",
       "      <th>Date</th>\n",
       "      <th>Latitude</th>\n",
       "      <th>Longitude</th>\n",
       "      <th>Confirmed</th>\n",
       "      <th>Recovered</th>\n",
       "      <th>Deaths</th>\n",
       "    </tr>\n",
       "  </thead>\n",
       "  <tbody>\n",
       "    <tr>\n",
       "      <th>18101</th>\n",
       "      <td>France</td>\n",
       "      <td>2020-01-24</td>\n",
       "      <td>14.6415</td>\n",
       "      <td>-56.3159</td>\n",
       "      <td>2.0</td>\n",
       "      <td>0.0</td>\n",
       "      <td>0.0</td>\n",
       "    </tr>\n",
       "    <tr>\n",
       "      <th>18102</th>\n",
       "      <td>France</td>\n",
       "      <td>2020-01-25</td>\n",
       "      <td>14.6415</td>\n",
       "      <td>-56.3159</td>\n",
       "      <td>3.0</td>\n",
       "      <td>0.0</td>\n",
       "      <td>0.0</td>\n",
       "    </tr>\n",
       "    <tr>\n",
       "      <th>18103</th>\n",
       "      <td>France</td>\n",
       "      <td>2020-01-26</td>\n",
       "      <td>14.6415</td>\n",
       "      <td>-56.3159</td>\n",
       "      <td>3.0</td>\n",
       "      <td>0.0</td>\n",
       "      <td>0.0</td>\n",
       "    </tr>\n",
       "    <tr>\n",
       "      <th>18104</th>\n",
       "      <td>France</td>\n",
       "      <td>2020-01-27</td>\n",
       "      <td>14.6415</td>\n",
       "      <td>-56.3159</td>\n",
       "      <td>3.0</td>\n",
       "      <td>0.0</td>\n",
       "      <td>0.0</td>\n",
       "    </tr>\n",
       "    <tr>\n",
       "      <th>18105</th>\n",
       "      <td>France</td>\n",
       "      <td>2020-01-28</td>\n",
       "      <td>14.6415</td>\n",
       "      <td>-56.3159</td>\n",
       "      <td>4.0</td>\n",
       "      <td>0.0</td>\n",
       "      <td>0.0</td>\n",
       "    </tr>\n",
       "  </tbody>\n",
       "</table>\n",
       "</div>"
      ],
      "text/plain": [
       "      Country/Region        Date  Latitude  Longitude  Confirmed  Recovered  \\\n",
       "18101         France  2020-01-24   14.6415   -56.3159        2.0        0.0   \n",
       "18102         France  2020-01-25   14.6415   -56.3159        3.0        0.0   \n",
       "18103         France  2020-01-26   14.6415   -56.3159        3.0        0.0   \n",
       "18104         France  2020-01-27   14.6415   -56.3159        3.0        0.0   \n",
       "18105         France  2020-01-28   14.6415   -56.3159        4.0        0.0   \n",
       "\n",
       "       Deaths  \n",
       "18101     0.0  \n",
       "18102     0.0  \n",
       "18103     0.0  \n",
       "18104     0.0  \n",
       "18105     0.0  "
      ]
     },
     "execution_count": 14,
     "metadata": {},
     "output_type": "execute_result"
    }
   ],
   "source": [
    "data_country_date = initialize_case_evolution(data)\n",
    "data_country_date.head()"
   ]
  },
  {
   "cell_type": "markdown",
   "id": "d1fd9854",
   "metadata": {
    "id": "d1fd9854"
   },
   "source": [
    "프랑스의 사망자수( Y 는 사망자수 , x 는 날짜 )의 변화를 보여주는 [차트](https://docs.taipy.io/en/latest/manuals/gui/viselements/chart/) 를 만듭니다 . 시각적 요소(차트)는 특정 속성(예: x , y , 유형 )이 있는 다른 요소와 동일한 구문을 사용합니다 . 다음은 [차트의 몇 가지 예](https://docs.taipy.io/en/release-1.1/manuals/gui/viselements/charts/bar/)입니다 . x 및 y 속성 은 표시할 데이터 프레임 열의 이름만 필요합니다."
   ]
  },
  {
   "cell_type": "markdown",
   "id": "bebeb0eb",
   "metadata": {
    "id": "bebeb0eb"
   },
   "source": [
    "![](img/simple_graph.png)"
   ]
  },
  {
   "cell_type": "code",
   "execution_count": 15,
   "id": "baa8dc69",
   "metadata": {
    "id": "baa8dc69"
   },
   "outputs": [],
   "source": [
    "country_md = \"(-> create a chart showing the evolution of Deaths <-)\""
   ]
  },
  {
   "cell_type": "code",
   "execution_count": null,
   "id": "e83c2f04",
   "metadata": {
    "id": "e83c2f04",
    "outputId": "a56d81ad-05ee-492c-8d9b-98755169ae4e"
   },
   "outputs": [
    {
     "name": "stdout",
     "output_type": "stream",
     "text": [
      "Gui server has been stopped\n",
      " * Server starting on http://127.0.0.1:5000\n",
      " * Serving Flask app 'Taipy' (lazy loading)\n",
      " * Environment: production\n",
      "\u001b[31m   WARNING: This is a development server. Do not use it in a production deployment.\u001b[0m\n",
      "\u001b[2m   Use a production WSGI server instead.\u001b[0m\n",
      " * Debug mode: off\n"
     ]
    }
   ],
   "source": [
    "gui.stop()\n",
    "page.set_content(country_md)\n",
    "gui.run()"
   ]
  },
  {
   "cell_type": "markdown",
   "id": "6580b5fe",
   "metadata": {
    "id": "6580b5fe"
   },
   "source": [
    "## 새 추적(traces) 추가 \n",
    "- 그래프에 확인 및 회복된 사례 수(_확증_ 및 _회복_)를 사망자 수와 함께 추가합니다.\n",
    "- y (및 x)는 더 많은 추적(`y[1]=`, `y[2]=`, `y[3]=`)을 추가하기 위해 이러한 방식으로 인덱싱될 수 있습니다."
   ]
  },
  {
   "cell_type": "markdown",
   "id": "baf9d2b6",
   "metadata": {
    "id": "baf9d2b6"
   },
   "source": [
    "![](img/multi_traces.png)"
   ]
  },
  {
   "cell_type": "code",
   "execution_count": null,
   "id": "242756d9",
   "metadata": {
    "id": "242756d9"
   },
   "outputs": [],
   "source": [
    "country_md = \"<|{data_country_date}|chart|type=bar|x=Date|y[1]=Deaths|...|>\""
   ]
  },
  {
   "cell_type": "code",
   "execution_count": null,
   "id": "4f65f1a2",
   "metadata": {
    "id": "4f65f1a2",
    "outputId": "1c17d2d9-fd87-460d-ba4f-c089b4ae5b3b"
   },
   "outputs": [
    {
     "name": "stdout",
     "output_type": "stream",
     "text": [
      "Gui server has been stopped\n",
      " * Server starting on http://127.0.0.1:5000\n",
      " * Serving Flask app 'Taipy' (lazy loading)\n",
      " * Environment: production\n",
      "\u001b[31m   WARNING: This is a development server. Do not use it in a production deployment.\u001b[0m\n",
      "\u001b[2m   Use a production WSGI server instead.\u001b[0m\n",
      " * Debug mode: off\n"
     ]
    }
   ],
   "source": [
    "gui.stop()\n",
    "page.set_content(country_md)\n",
    "gui.run()"
   ]
  },
  {
   "cell_type": "markdown",
   "id": "f84e0a88",
   "metadata": {
    "id": "f84e0a88"
   },
   "source": [
    "## 개인화된 속성으로 그래프 스타일 지정 \n",
    "_layout_ 사전(dictionnary)은 막대가 표시되는 방법을 지정합니다. 그것들은 '쌓일(stacked)'될 것입니다.\n",
    "\n",
    "_options_ 사전(dictionnary)은 선택되지 않은 마커(maker)의 불투명도(opacity)를 변경합니다 .\n",
    "\n",
    "이것들은 Plotly 속성입니다."
   ]
  },
  {
   "cell_type": "markdown",
   "id": "99c5d669",
   "metadata": {
    "id": "99c5d669"
   },
   "source": [
    "![](img/stack_chart.png)"
   ]
  },
  {
   "cell_type": "code",
   "execution_count": null,
   "id": "f068e3ba",
   "metadata": {
    "id": "f068e3ba"
   },
   "outputs": [],
   "source": [
    "layout = {'barmode':'stack'}\n",
    "options = {\"unselected\":{\"marker\":{\"opacity\":0.5}}}\n",
    "country_md = \"<|{data_country_date}|chart|type=bar|x=Date|y[1]=Deaths|y[2]=Recovered|y[3]=Confirmed|layout={layout}|options={options}|>\""
   ]
  },
  {
   "cell_type": "code",
   "execution_count": null,
   "id": "dfa787fb",
   "metadata": {
    "id": "dfa787fb",
    "outputId": "39684a71-8424-4296-9535-d827bcdab82e"
   },
   "outputs": [
    {
     "name": "stdout",
     "output_type": "stream",
     "text": [
      "Gui server has been stopped\n",
      " * Server starting on http://127.0.0.1:5000\n",
      " * Serving Flask app 'Taipy' (lazy loading)\n",
      " * Environment: production\n",
      "\u001b[31m   WARNING: This is a development server. Do not use it in a production deployment.\u001b[0m\n",
      "\u001b[2m   Use a production WSGI server instead.\u001b[0m\n",
      " * Debug mode: off\n"
     ]
    }
   ],
   "source": [
    "gui.stop()\n",
    "page.set_content(country_md)\n",
    "gui.run()"
   ]
  },
  {
   "cell_type": "markdown",
   "id": "cd4d0268",
   "metadata": {
    "id": "cd4d0268"
   },
   "source": [
    "## 데이터를 요약(sum up)하는 텍스트 추가 \n",
    "[텍스트](https://docs.taipy.io/en/latest/manuals/gui/viselements/text/) 시각적 요소를 사용합니다 .\n",
    "\n",
    "- 총 사망(Deaths)수를 추가합니다( _data_country_date_ 의 마지막 줄 ) .\n",
    "- 총 회복(Recovered)수를 추가합니다( _data_country_date_ 의 마지막 줄 ) .\n",
    "- 총 확진(Confirmed)수를 추가합니다( _data_country_date_ 의 마지막 줄 ) ."
   ]
  },
  {
   "cell_type": "code",
   "execution_count": null,
   "id": "f9060a46",
   "metadata": {
    "id": "f9060a46",
    "outputId": "be70249d-bbf4-4b4e-b317-f4fd342d1edb"
   },
   "outputs": [
    {
     "data": {
      "text/html": [
       "<div>\n",
       "<style scoped>\n",
       "    .dataframe tbody tr th:only-of-type {\n",
       "        vertical-align: middle;\n",
       "    }\n",
       "\n",
       "    .dataframe tbody tr th {\n",
       "        vertical-align: top;\n",
       "    }\n",
       "\n",
       "    .dataframe thead th {\n",
       "        text-align: right;\n",
       "    }\n",
       "</style>\n",
       "<table border=\"1\" class=\"dataframe\">\n",
       "  <thead>\n",
       "    <tr style=\"text-align: right;\">\n",
       "      <th></th>\n",
       "      <th>Country/Region</th>\n",
       "      <th>Date</th>\n",
       "      <th>Latitude</th>\n",
       "      <th>Longitude</th>\n",
       "      <th>Confirmed</th>\n",
       "      <th>Recovered</th>\n",
       "      <th>Deaths</th>\n",
       "    </tr>\n",
       "  </thead>\n",
       "  <tbody>\n",
       "    <tr>\n",
       "      <th>18101</th>\n",
       "      <td>France</td>\n",
       "      <td>2020-01-24</td>\n",
       "      <td>14.641500</td>\n",
       "      <td>-56.315900</td>\n",
       "      <td>2.0</td>\n",
       "      <td>0.0</td>\n",
       "      <td>0.0</td>\n",
       "    </tr>\n",
       "    <tr>\n",
       "      <th>18102</th>\n",
       "      <td>France</td>\n",
       "      <td>2020-01-25</td>\n",
       "      <td>14.641500</td>\n",
       "      <td>-56.315900</td>\n",
       "      <td>3.0</td>\n",
       "      <td>0.0</td>\n",
       "      <td>0.0</td>\n",
       "    </tr>\n",
       "    <tr>\n",
       "      <th>18103</th>\n",
       "      <td>France</td>\n",
       "      <td>2020-01-26</td>\n",
       "      <td>14.641500</td>\n",
       "      <td>-56.315900</td>\n",
       "      <td>3.0</td>\n",
       "      <td>0.0</td>\n",
       "      <td>0.0</td>\n",
       "    </tr>\n",
       "    <tr>\n",
       "      <th>18104</th>\n",
       "      <td>France</td>\n",
       "      <td>2020-01-27</td>\n",
       "      <td>14.641500</td>\n",
       "      <td>-56.315900</td>\n",
       "      <td>3.0</td>\n",
       "      <td>0.0</td>\n",
       "      <td>0.0</td>\n",
       "    </tr>\n",
       "    <tr>\n",
       "      <th>18105</th>\n",
       "      <td>France</td>\n",
       "      <td>2020-01-28</td>\n",
       "      <td>14.641500</td>\n",
       "      <td>-56.315900</td>\n",
       "      <td>4.0</td>\n",
       "      <td>0.0</td>\n",
       "      <td>0.0</td>\n",
       "    </tr>\n",
       "    <tr>\n",
       "      <th>...</th>\n",
       "      <td>...</td>\n",
       "      <td>...</td>\n",
       "      <td>...</td>\n",
       "      <td>...</td>\n",
       "      <td>...</td>\n",
       "      <td>...</td>\n",
       "      <td>...</td>\n",
       "    </tr>\n",
       "    <tr>\n",
       "      <th>18439</th>\n",
       "      <td>France</td>\n",
       "      <td>2020-12-27</td>\n",
       "      <td>91.463495</td>\n",
       "      <td>-238.646914</td>\n",
       "      <td>2616510.0</td>\n",
       "      <td>195861.0</td>\n",
       "      <td>62867.0</td>\n",
       "    </tr>\n",
       "    <tr>\n",
       "      <th>18440</th>\n",
       "      <td>France</td>\n",
       "      <td>2020-12-28</td>\n",
       "      <td>91.463495</td>\n",
       "      <td>-238.646914</td>\n",
       "      <td>2619616.0</td>\n",
       "      <td>196642.0</td>\n",
       "      <td>63235.0</td>\n",
       "    </tr>\n",
       "    <tr>\n",
       "      <th>18441</th>\n",
       "      <td>France</td>\n",
       "      <td>2020-12-29</td>\n",
       "      <td>91.463495</td>\n",
       "      <td>-238.646914</td>\n",
       "      <td>2631110.0</td>\n",
       "      <td>197726.0</td>\n",
       "      <td>64204.0</td>\n",
       "    </tr>\n",
       "    <tr>\n",
       "      <th>18442</th>\n",
       "      <td>France</td>\n",
       "      <td>2020-12-30</td>\n",
       "      <td>91.463495</td>\n",
       "      <td>-238.646914</td>\n",
       "      <td>2657624.0</td>\n",
       "      <td>198966.0</td>\n",
       "      <td>64508.0</td>\n",
       "    </tr>\n",
       "    <tr>\n",
       "      <th>18443</th>\n",
       "      <td>France</td>\n",
       "      <td>2020-12-31</td>\n",
       "      <td>91.463495</td>\n",
       "      <td>-238.646914</td>\n",
       "      <td>2677666.0</td>\n",
       "      <td>200142.0</td>\n",
       "      <td>64759.0</td>\n",
       "    </tr>\n",
       "  </tbody>\n",
       "</table>\n",
       "<p>343 rows × 7 columns</p>\n",
       "</div>"
      ],
      "text/plain": [
       "      Country/Region        Date   Latitude   Longitude  Confirmed  Recovered  \\\n",
       "18101         France  2020-01-24  14.641500  -56.315900        2.0        0.0   \n",
       "18102         France  2020-01-25  14.641500  -56.315900        3.0        0.0   \n",
       "18103         France  2020-01-26  14.641500  -56.315900        3.0        0.0   \n",
       "18104         France  2020-01-27  14.641500  -56.315900        3.0        0.0   \n",
       "18105         France  2020-01-28  14.641500  -56.315900        4.0        0.0   \n",
       "...              ...         ...        ...         ...        ...        ...   \n",
       "18439         France  2020-12-27  91.463495 -238.646914  2616510.0   195861.0   \n",
       "18440         France  2020-12-28  91.463495 -238.646914  2619616.0   196642.0   \n",
       "18441         France  2020-12-29  91.463495 -238.646914  2631110.0   197726.0   \n",
       "18442         France  2020-12-30  91.463495 -238.646914  2657624.0   198966.0   \n",
       "18443         France  2020-12-31  91.463495 -238.646914  2677666.0   200142.0   \n",
       "\n",
       "        Deaths  \n",
       "18101      0.0  \n",
       "18102      0.0  \n",
       "18103      0.0  \n",
       "18104      0.0  \n",
       "18105      0.0  \n",
       "...        ...  \n",
       "18439  62867.0  \n",
       "18440  63235.0  \n",
       "18441  64204.0  \n",
       "18442  64508.0  \n",
       "18443  64759.0  \n",
       "\n",
       "[343 rows x 7 columns]"
      ]
     },
     "execution_count": 13,
     "metadata": {},
     "output_type": "execute_result"
    }
   ],
   "source": [
    "data_country_date"
   ]
  },
  {
   "cell_type": "markdown",
   "id": "ec27c620",
   "metadata": {
    "id": "ec27c620"
   },
   "source": [
    "This is how we can get the total number of Deaths from the daatset for France."
   ]
  },
  {
   "cell_type": "code",
   "execution_count": null,
   "id": "c0a73440",
   "metadata": {
    "id": "c0a73440",
    "outputId": "896200ae-3149-4675-998f-54020f87fe38"
   },
   "outputs": [
    {
     "data": {
      "text/plain": [
       "64759.0"
      ]
     },
     "execution_count": 14,
     "metadata": {},
     "output_type": "execute_result"
    }
   ],
   "source": [
    "data_country_date.iloc[-1, 6] # 프랑스의 사망자 수를 제공합니다(5는 회복자 수, 4는 확진자 )"
   ]
  },
  {
   "cell_type": "markdown",
   "id": "4a043817",
   "metadata": {
    "id": "4a043817"
   },
   "source": [
    "[텍스트](https://docs.taipy.io/en/release-1.1/manuals/gui/viselements/text/) 시각적 요소를 사용합니다 . `{}` 사이에 어떤 Python 변수도 넣을 수 있지만 또한 어떠한 Python 코드도 넣을 수 있습니다."
   ]
  },
  {
   "cell_type": "markdown",
   "id": "8b5b47ec",
   "metadata": {
    "id": "8b5b47ec"
   },
   "source": [
    "![](img/control_text.png)"
   ]
  },
  {
   "cell_type": "code",
   "execution_count": null,
   "id": "beab9af4",
   "metadata": {
    "id": "beab9af4"
   },
   "outputs": [],
   "source": [
    "country_md = \"\"\"\n",
    "## Deaths <|{data_country_date.iloc[-1, 6]}|text|>\n",
    "\n",
    "## Recovered <|...|text|>\n",
    "\n",
    "## Confirmed <|...|text|>\n",
    "\n",
    "<|{data_country_date}|chart|type=bar|x=Date|y[1]=Deaths|y[2]=Recovered|y[3]=Confirmed|layout={layout}|options={options}|>\n",
    "\"\"\""
   ]
  },
  {
   "cell_type": "code",
   "execution_count": null,
   "id": "1b8e26f5",
   "metadata": {
    "id": "1b8e26f5",
    "outputId": "4da1856f-0b11-4d45-eeb3-00399558f286"
   },
   "outputs": [
    {
     "name": "stdout",
     "output_type": "stream",
     "text": [
      "Gui server has been stopped\n",
      " * Server starting on http://127.0.0.1:5000\n",
      " * Serving Flask app 'Taipy' (lazy loading)\n",
      " * Environment: production\n",
      "\u001b[31m   WARNING: This is a development server. Do not use it in a production deployment.\u001b[0m\n",
      "\u001b[2m   Use a production WSGI server instead.\u001b[0m\n",
      " * Debug mode: off\n"
     ]
    }
   ],
   "source": [
    "gui.stop()\n",
    "page.set_content(country_md)\n",
    "gui.run()"
   ]
  },
  {
   "cell_type": "markdown",
   "id": "f48f94cd",
   "metadata": {
    "id": "f48f94cd"
   },
   "source": [
    "## 로컬 on_change \n",
    "- 모든 _국가/지역_ 의 이름이 포함된 dropdown=True [selector](https://docs.taipy.io/en/latest/manuals/gui/viselements/selector/)를 추가합니다.\n",
    "- _on_change_ selector 속성에 _on_change_country_ 함수의 이름을 지정 합니다 . 이 함수는 selector가 사용될 때 호출됩니다.\n",
    "- 이 함수에는 'state' 매개변수가 있으며, 완성되어야 합니다. selector를 사용할 때 이 함수는 _state_ 인수와 함께 호출됩니다. 그것은 모든 Gui 변수를 포함합니다. 'state.data_country_date'는 GUI에서 사용되는 데이터 프레임입니다."
   ]
  },
  {
   "cell_type": "markdown",
   "id": "35953a48",
   "metadata": {
    "id": "35953a48"
   },
   "source": [
    "![](img/on_change_local.png)"
   ]
  },
  {
   "cell_type": "code",
   "execution_count": null,
   "id": "ed63f76a",
   "metadata": {
    "id": "ed63f76a"
   },
   "outputs": [],
   "source": [
    "selector_country = list(data['Country/Region'].astype(str).unique())\n",
    "selected_country = 'France'\n",
    "\n",
    "country_md = \"\"\"\n",
    "(-->create a selector with:\n",
    "        selected_country as a selection,\n",
    "        selector_country as a lov,\n",
    "        and with on_change=on_change_country in the properties <--)\n",
    "\n",
    "## Deaths <|{data_country_date.iloc[-1, 6]}|>\n",
    "\n",
    "## Recovered <|{data_country_date.iloc[-1, 5]}|>\n",
    "\n",
    "## Confirmed <|{data_country_date.iloc[-1, 4]}|>\n",
    "\n",
    "<|{data_country_date}|chart|type=bar|x=Date|y[1]=Deaths|y[2]=Recovered|y[3]=Confirmed|layout={layout}|options={options}|>\n",
    "\"\"\""
   ]
  },
  {
   "cell_type": "code",
   "execution_count": null,
   "id": "42e91877",
   "metadata": {
    "id": "42e91877"
   },
   "outputs": [],
   "source": [
    "def on_change_country(state):\n",
    "    # state는 모든 Gui 변수를 포함하며 이 state 변수를 통해 Gui를 업데이트할 수 있습니다.\n",
    "    # state.selected_country, state.data_country_date, ...\n",
    "    # 올바른 국가로 data_country_date 업데이트(initialize_case_evolution 사용)\n",
    "    print(\"Chosen country: \", state.selected_country)\n",
    "    ..."
   ]
  },
  {
   "cell_type": "code",
   "execution_count": null,
   "id": "8f2541f5",
   "metadata": {
    "id": "8f2541f5",
    "outputId": "c26e8732-871c-44f3-cc9a-a9a7d275b851"
   },
   "outputs": [
    {
     "name": "stdout",
     "output_type": "stream",
     "text": [
      "Gui server has been stopped\n",
      " * Server starting on http://127.0.0.1:5000\n",
      " * Serving Flask app 'Taipy' (lazy loading)\n",
      " * Environment: production\n",
      "\u001b[31m   WARNING: This is a development server. Do not use it in a production deployment.\u001b[0m\n",
      "\u001b[2m   Use a production WSGI server instead.\u001b[0m\n",
      " * Debug mode: off\n",
      "Chosen country:  Brazil\n"
     ]
    }
   ],
   "source": [
    "gui.stop()\n",
    "page.set_content(country_md)\n",
    "gui.run()"
   ]
  },
  {
   "cell_type": "markdown",
   "id": "6e528ce2",
   "metadata": {
    "id": "6e528ce2"
   },
   "source": [
    "## Layout\n",
    "\n",
    "[layout](https://docs.taipy.io/en/latest/manuals/gui/viselements/layout/) 블록을 사용하여 페이지 구조를 변경합니다 . 이 블록은 텍스트/시각적 요소를 넣을 보이지 않는 열을 만듭니다.\n",
    "\n",
    "구문:\n",
    "```\n",
    "<|layout|columns=1 1 1 ...|\n",
    "(firsrt column)\n",
    "\n",
    "(in second column)\n",
    "\n",
    "(third column)\n",
    "(again, third column)\n",
    "\n",
    "(...)\n",
    "|>\n",
    "```"
   ]
  },
  {
   "cell_type": "code",
   "execution_count": null,
   "id": "f89fd2fb",
   "metadata": {
    "id": "f89fd2fb"
   },
   "outputs": [],
   "source": [
    "final_country_md = \"\"\"\n",
    "(-> beginning of layout block <-)\n",
    "<|{selected_country}|selector|lov={selector_country}|on_change=on_change_country|dropdown|label=Country|>\n",
    "\n",
    "## Deaths <|{data_country_date.iloc[-1, 6]}|>\n",
    "\n",
    "## Recovered <|{data_country_date.iloc[-1, 5]}|>\n",
    "\n",
    "## Confirmed <|{data_country_date.iloc[-1, 4]}|>\n",
    "(-> end of layout block <-)\n",
    "\n",
    "<|{data_country_date}|chart|type=bar|x=Date|y[1]=Deaths|y[2]=Recovered|y[3]=Confirmed|layout={layout}|options={options}|>\n",
    "\"\"\""
   ]
  },
  {
   "cell_type": "code",
   "execution_count": null,
   "id": "a349a33f",
   "metadata": {
    "id": "a349a33f",
    "outputId": "9318dcb1-c8cf-4725-c428-77c274f13bb7"
   },
   "outputs": [
    {
     "name": "stdout",
     "output_type": "stream",
     "text": [
      "Gui server has been stopped\n",
      " * Server starting on http://127.0.0.1:5000\n",
      " * Serving Flask app 'Taipy' (lazy loading)\n",
      " * Environment: production\n",
      "\u001b[31m   WARNING: This is a development server. Do not use it in a production deployment.\u001b[0m\n",
      "\u001b[2m   Use a production WSGI server instead.\u001b[0m\n",
      " * Debug mode: off\n"
     ]
    }
   ],
   "source": [
    "gui.stop()\n",
    "page.set_content(final_country_md)\n",
    "gui.run()"
   ]
  },
  {
   "cell_type": "markdown",
   "id": "f63dcc18",
   "metadata": {
    "id": "f63dcc18"
   },
   "source": [
    "![](img/layout.png)"
   ]
  },
  {
   "cell_type": "markdown",
   "id": "e9ab05a9",
   "metadata": {
    "id": "e9ab05a9"
   },
   "source": [
    "# Map"
   ]
  },
  {
   "cell_type": "code",
   "execution_count": null,
   "id": "92212747",
   "metadata": {
    "id": "92212747"
   },
   "outputs": [],
   "source": [
    "def initialize_map(data):\n",
    "    data['Province/State'] = data['Province/State'].fillna(data[\"Country/Region\"])\n",
    "    data_province = data.groupby([\"Country/Region\",\n",
    "                                  'Province/State',\n",
    "                                  'Longitude',\n",
    "                                  'Latitude'])\\\n",
    "                         .max()\n",
    "                         \n",
    "\n",
    "    data_province_displayed = data_province[data_province['Deaths']>10].reset_index()\n",
    "\n",
    "    data_province_displayed['Size'] = np.sqrt(data_province_displayed.loc[:,'Deaths']/data_province_displayed.loc[:,'Deaths'].max())*80 + 3\n",
    "    data_province_displayed['Text'] = data_province_displayed.loc[:,'Deaths'].astype(str) + ' deaths </br> ' + data_province_displayed.loc[:,'Province/State']\n",
    "    return data_province_displayed"
   ]
  },
  {
   "cell_type": "code",
   "execution_count": null,
   "id": "5a1f5cb6",
   "metadata": {
    "id": "5a1f5cb6",
    "outputId": "f13093d0-4cbe-4621-ab92-f6fabdd2409e"
   },
   "outputs": [
    {
     "data": {
      "text/html": [
       "<div>\n",
       "<style scoped>\n",
       "    .dataframe tbody tr th:only-of-type {\n",
       "        vertical-align: middle;\n",
       "    }\n",
       "\n",
       "    .dataframe tbody tr th {\n",
       "        vertical-align: top;\n",
       "    }\n",
       "\n",
       "    .dataframe thead th {\n",
       "        text-align: right;\n",
       "    }\n",
       "</style>\n",
       "<table border=\"1\" class=\"dataframe\">\n",
       "  <thead>\n",
       "    <tr style=\"text-align: right;\">\n",
       "      <th></th>\n",
       "      <th>Country/Region</th>\n",
       "      <th>Province/State</th>\n",
       "      <th>Longitude</th>\n",
       "      <th>Latitude</th>\n",
       "      <th>Confirmed</th>\n",
       "      <th>Recovered</th>\n",
       "      <th>Deaths</th>\n",
       "      <th>Date</th>\n",
       "      <th>Size</th>\n",
       "      <th>Text</th>\n",
       "    </tr>\n",
       "  </thead>\n",
       "  <tbody>\n",
       "    <tr>\n",
       "      <th>1</th>\n",
       "      <td>Afghanistan</td>\n",
       "      <td>Afghanistan</td>\n",
       "      <td>67.709953</td>\n",
       "      <td>33.93911</td>\n",
       "      <td>51526.0</td>\n",
       "      <td>41727.0</td>\n",
       "      <td>2191.0</td>\n",
       "      <td>2020-12-31</td>\n",
       "      <td>17.771247</td>\n",
       "      <td>2191.0 deaths &lt;/br&gt; Afghanistan</td>\n",
       "    </tr>\n",
       "    <tr>\n",
       "      <th>3</th>\n",
       "      <td>Albania</td>\n",
       "      <td>Albania</td>\n",
       "      <td>20.168300</td>\n",
       "      <td>41.15330</td>\n",
       "      <td>58316.0</td>\n",
       "      <td>33634.0</td>\n",
       "      <td>1181.0</td>\n",
       "      <td>2020-12-31</td>\n",
       "      <td>13.844784</td>\n",
       "      <td>1181.0 deaths &lt;/br&gt; Albania</td>\n",
       "    </tr>\n",
       "    <tr>\n",
       "      <th>4</th>\n",
       "      <td>Algeria</td>\n",
       "      <td>Algeria</td>\n",
       "      <td>1.659600</td>\n",
       "      <td>28.03390</td>\n",
       "      <td>99610.0</td>\n",
       "      <td>67127.0</td>\n",
       "      <td>2756.0</td>\n",
       "      <td>2020-12-31</td>\n",
       "      <td>19.566684</td>\n",
       "      <td>2756.0 deaths &lt;/br&gt; Algeria</td>\n",
       "    </tr>\n",
       "    <tr>\n",
       "      <th>5</th>\n",
       "      <td>Andorra</td>\n",
       "      <td>Andorra</td>\n",
       "      <td>1.521800</td>\n",
       "      <td>42.50630</td>\n",
       "      <td>8049.0</td>\n",
       "      <td>7432.0</td>\n",
       "      <td>84.0</td>\n",
       "      <td>2020-12-31</td>\n",
       "      <td>5.892249</td>\n",
       "      <td>84.0 deaths &lt;/br&gt; Andorra</td>\n",
       "    </tr>\n",
       "    <tr>\n",
       "      <th>6</th>\n",
       "      <td>Angola</td>\n",
       "      <td>Angola</td>\n",
       "      <td>17.873900</td>\n",
       "      <td>-11.20270</td>\n",
       "      <td>17553.0</td>\n",
       "      <td>11044.0</td>\n",
       "      <td>405.0</td>\n",
       "      <td>2020-12-31</td>\n",
       "      <td>9.350728</td>\n",
       "      <td>405.0 deaths &lt;/br&gt; Angola</td>\n",
       "    </tr>\n",
       "  </tbody>\n",
       "</table>\n",
       "</div>"
      ],
      "text/plain": [
       "  Country/Region Province/State  Longitude  Latitude  Confirmed  Recovered  \\\n",
       "1    Afghanistan    Afghanistan  67.709953  33.93911    51526.0    41727.0   \n",
       "3        Albania        Albania  20.168300  41.15330    58316.0    33634.0   \n",
       "4        Algeria        Algeria   1.659600  28.03390    99610.0    67127.0   \n",
       "5        Andorra        Andorra   1.521800  42.50630     8049.0     7432.0   \n",
       "6         Angola         Angola  17.873900 -11.20270    17553.0    11044.0   \n",
       "\n",
       "   Deaths        Date       Size                             Text  \n",
       "1  2191.0  2020-12-31  17.771247  2191.0 deaths </br> Afghanistan  \n",
       "3  1181.0  2020-12-31  13.844784      1181.0 deaths </br> Albania  \n",
       "4  2756.0  2020-12-31  19.566684      2756.0 deaths </br> Algeria  \n",
       "5    84.0  2020-12-31   5.892249        84.0 deaths </br> Andorra  \n",
       "6   405.0  2020-12-31   9.350728        405.0 deaths </br> Angola  "
      ]
     },
     "execution_count": 19,
     "metadata": {},
     "output_type": "execute_result"
    }
   ],
   "source": [
    "data_province_displayed = initialize_map(data)\n",
    "data_province_displayed.head()"
   ]
  },
  {
   "cell_type": "markdown",
   "id": "fe689939",
   "metadata": {
    "id": "fe689939"
   },
   "source": [
    "지도(map) 스타일을 지정하는 속성\n",
    "- 마커(maker) color는 사망자 수 에 해당합니다(_Deaths_ 열 ).\n",
    "- 마커(maker) size는 사망자 수에 따른 _Size_ 열의 크기에 해당합니다.\n",
    "\n",
    "layout_map 매개변수로 지도의 초기 확대/축소(zoom) 및 위치(position)를 정의했습니다."
   ]
  },
  {
   "cell_type": "code",
   "execution_count": null,
   "id": "62a4cc23",
   "metadata": {
    "id": "62a4cc23"
   },
   "outputs": [],
   "source": [
    "marker_map = {\"color\":\"Deaths\", \"size\": \"Size\", \"showscale\":True, \"colorscale\":\"Viridis\"}\n",
    "layout_map = {\n",
    "            \"dragmode\": \"zoom\",\n",
    "            \"mapbox\": { \"style\": \"open-street-map\", \"center\": { \"lat\": 38, \"lon\": -90 }, \"zoom\": 3}\n",
    "            }"
   ]
  },
  {
   "cell_type": "markdown",
   "id": "fb251153",
   "metadata": {
    "id": "fb251153"
   },
   "source": [
    "우리는 Plotly에게 다음을 제공합니다:\n",
    "\n",
    "- map type(유형)\n",
    "- latitude(위도) 열의 이름\n",
    "- longitude(경도) 열의 이름\n",
    "- properties: 마커의 크기와 색상\n",
    "- points(점)의 text에 대한 열 이름"
   ]
  },
  {
   "cell_type": "code",
   "execution_count": null,
   "id": "7e65e017",
   "metadata": {
    "id": "7e65e017"
   },
   "outputs": [],
   "source": [
    "map_md = \"\"\"\n",
    "<|{data_province_displayed}|chart|type=scattermapbox|selected={selected_points}|lat=Latitude|lon=Longitude|marker={marker_map}|layout={layout_map}|text=Text|mode=markers|height=800px|options={options}|>\n",
    "\"\"\""
   ]
  },
  {
   "cell_type": "code",
   "execution_count": null,
   "id": "b068a3af",
   "metadata": {
    "id": "b068a3af",
    "outputId": "a9ed0829-9dc6-4ce4-d8b8-fd06b2f0265c"
   },
   "outputs": [
    {
     "name": "stdout",
     "output_type": "stream",
     "text": [
      "Gui server has been stopped\n",
      " * Server starting on http://127.0.0.1:5000\n",
      " * Serving Flask app 'Taipy' (lazy loading)\n",
      " * Environment: production\n",
      "\u001b[31m   WARNING: This is a development server. Do not use it in a production deployment.\u001b[0m\n",
      "\u001b[2m   Use a production WSGI server instead.\u001b[0m\n",
      " * Debug mode: off\n"
     ]
    }
   ],
   "source": [
    "gui.stop()\n",
    "page.set_content(map_md)\n",
    "gui.run()"
   ]
  },
  {
   "cell_type": "markdown",
   "id": "56c0ea66",
   "metadata": {
    "id": "56c0ea66"
   },
   "source": [
    "![](img/carte.png)"
   ]
  },
  {
   "cell_type": "markdown",
   "id": "6ab0529e",
   "metadata": {
    "id": "6ab0529e"
   },
   "source": [
    "### 포인트 선택 시 API 호출 \n",
    "\n",
    "지도에서 포인트를 선택 하면 API 호출을 통해 _expandable(확장 가능한)_ 블록에 데이터가 구현됩니다.\n",
    "\n",
    "이를 위해서는 차트 의 _selected_ 속성이 필요하고 전역 _on_change_ 함수 를 통해 변경 사항을 처리해야 합니다."
   ]
  },
  {
   "cell_type": "code",
   "execution_count": null,
   "id": "e69b465e",
   "metadata": {
    "id": "e69b465e"
   },
   "outputs": [],
   "source": [
    "map_md = \"\"\"\n",
    "<|Information|expandable|expanded=False|\n",
    "<|layout|columns=1 1|\n",
    "Country: <|{api_country}|>\n",
    "\n",
    "Population: (Year: <|{api_year}|>, Value: <|{api_pop}|>)\n",
    "|>\n",
    "|>\n",
    "\n",
    "<br/>\n",
    "<|{data_province_displayed}|chart|type=scattermapbox|selected={selected_points}|lat=Latitude|lon=Longitude|marker={marker_map}|layout={layout_map}|text=Text|mode=markers|height=800px|options={options}|>\n",
    "\"\"\""
   ]
  },
  {
   "cell_type": "code",
   "execution_count": null,
   "id": "4efc1a8f",
   "metadata": {
    "id": "4efc1a8f"
   },
   "outputs": [],
   "source": [
    "url_pop = \"https://countriesnow.space/api/v0.1/countries/population\"\n",
    "\n",
    "def api_call(state):\n",
    "    state.api_country = state.data_province_displayed.loc[state.selected_points[0], \"Country/Region\"]\n",
    "    \n",
    "    if state.api_country == 'US':\n",
    "        state.api_country = \"United States\"\n",
    "    \n",
    "    body = {\"country\": state.api_country}\n",
    "    \n",
    "    response_pop = requests.post(url_pop, body).json()\n",
    "    \n",
    "    if not response_pop['error']:\n",
    "        state.api_year = response_pop['data']['populationCounts'][-1]['year']\n",
    "        state.api_pop = response_pop['data']['populationCounts'][-1]['value']"
   ]
  },
  {
   "cell_type": "code",
   "execution_count": null,
   "id": "0d8a6754",
   "metadata": {
    "id": "0d8a6754"
   },
   "outputs": [],
   "source": [
    "def on_change(state, var_name, var_value):\n",
    "    print(var_name, var_value)\n",
    "     # on_change는 Gui 변수가 변경될 때마다 호출됩니다(Gui를 통하거나 state.xxx = yyy를 사용하여)\n",
    "     # 1) selected_points 변경 시 'api_call' 호출\n",
    "    ..."
   ]
  },
  {
   "cell_type": "code",
   "execution_count": null,
   "id": "66a79008",
   "metadata": {
    "id": "66a79008",
    "outputId": "6dfb956d-49fe-4c1b-9380-b945ee4c7ecc"
   },
   "outputs": [
    {
     "name": "stdout",
     "output_type": "stream",
     "text": [
      "Gui server has been stopped\n",
      " * Server starting on http://127.0.0.1:5000\n",
      " * Serving Flask app 'Taipy' (lazy loading)\n",
      " * Environment: production\n",
      "\u001b[31m   WARNING: This is a development server. Do not use it in a production deployment.\u001b[0m\n",
      "\u001b[2m   Use a production WSGI server instead.\u001b[0m\n",
      " * Debug mode: off\n",
      "selected_points [62]\n",
      "api_country Brazil\n",
      "api_year 2018\n",
      "api_pop 209469333\n",
      "selected_points [2505]\n",
      "api_country US\n",
      "api_year 2018\n",
      "api_pop 326687501\n"
     ]
    }
   ],
   "source": [
    "gui.stop()\n",
    "gui.on_change = on_change\n",
    "page.set_content(map_md)\n",
    "gui.run()"
   ]
  },
  {
   "cell_type": "markdown",
   "id": "cab1cacc",
   "metadata": {
    "id": "cab1cacc"
   },
   "source": [
    "# Part와 _render_ 속성 \n",
    "- 'Map'과 'Country'의 lov(list of value:변수목록) [토글(toggle)](https://docs.taipy.io/en/latest/manuals/gui/viselements/toggle/)(selctor와 동일하게 작동)을 만듭니다.\n",
    "- 토글 값에 따라 렌더링 여부를 결정하는 두 개의 part 블록을 만듭니다.\n",
    "    - 이렇게 하려면 part 블록의 render 속성 `{}` 안에 Python 코드를 삽입할 수 있다는 사실을 이용하십시오."
   ]
  },
  {
   "cell_type": "code",
   "execution_count": null,
   "id": "91bb95bc",
   "metadata": {
    "id": "91bb95bc"
   },
   "outputs": [],
   "source": [
    "representation_selector = ['Map', 'Country']\n",
    "selected_representation = representation_selector[0]"
   ]
  },
  {
   "cell_type": "code",
   "execution_count": null,
   "id": "e76ebb06",
   "metadata": {
    "id": "e76ebb06"
   },
   "outputs": [],
   "source": [
    "main_page = \"\"\"\n",
    "<|{selected_representation}|toggle|lov={representation_selector}|>\n",
    "\n",
    "<|part|render={selected_representation == \"Country\"}|\n",
    "\"\"\"+final_country_md+\"\"\"\n",
    "|>\n",
    "\n",
    "<|part|render={selected_representation == \"Map\"}|\n",
    "\"\"\"+map_md+\"\"\"\n",
    "|>\n",
    "\"\"\" "
   ]
  },
  {
   "cell_type": "code",
   "execution_count": null,
   "id": "186846ba",
   "metadata": {
    "id": "186846ba",
    "outputId": "3e259945-1e9a-48ff-9959-e0e0409e7974"
   },
   "outputs": [
    {
     "name": "stdout",
     "output_type": "stream",
     "text": [
      "Gui server has been stopped\n",
      " * Server starting on http://127.0.0.1:5000\n",
      " * Serving Flask app 'Taipy' (lazy loading)\n",
      " * Environment: production\n",
      "\u001b[31m   WARNING: This is a development server. Do not use it in a production deployment.\u001b[0m\n",
      "\u001b[2m   Use a production WSGI server instead.\u001b[0m\n",
      " * Debug mode: off\n",
      "selected_representation Pays\n",
      "Chosen country:  Mexico\n",
      "data_country_date       Country/Region        Date  Latitude  Longitude  Confirmed  Recovered  \\\n",
      "33387         Mexico  2020-01-23   20.6595  -100.3899        0.0        0.0   \n",
      "33388         Mexico  2020-02-28   20.6595  -100.3899        1.0        0.0   \n",
      "33389         Mexico  2020-02-29   20.6595  -100.3899        4.0        0.0   \n",
      "33390         Mexico  2020-03-01   23.0000  -102.0000        5.0        0.0   \n",
      "33391         Mexico  2020-03-02   23.0000  -102.0000        5.0        0.0   \n",
      "...              ...         ...       ...        ...        ...        ...   \n",
      "33691         Mexico  2020-12-27  715.7070 -3317.2631  1383434.0  1038766.0   \n",
      "33692         Mexico  2020-12-28  715.7070 -3317.2631  1389430.0  1048539.0   \n",
      "33693         Mexico  2020-12-29  715.7070 -3317.2631  1401529.0  1058429.0   \n",
      "33694         Mexico  2020-12-30  715.7070 -3317.2631  1413935.0  1066771.0   \n",
      "33695         Mexico  2020-12-31  715.7070 -3317.2631  1426094.0  1074795.0   \n",
      "\n",
      "         Deaths  \n",
      "33387       0.0  \n",
      "33388       0.0  \n",
      "33389       0.0  \n",
      "33390       0.0  \n",
      "33391       0.0  \n",
      "...         ...  \n",
      "33691  122426.0  \n",
      "33692  122855.0  \n",
      "33693  123845.0  \n",
      "33694  124897.0  \n",
      "33695  125807.0  \n",
      "\n",
      "[309 rows x 7 columns]\n"
     ]
    }
   ],
   "source": [
    "gui.stop()\n",
    "page.set_content(main_page)\n",
    "gui.run()"
   ]
  },
  {
   "cell_type": "markdown",
   "id": "47d5c7ce",
   "metadata": {
    "id": "47d5c7ce"
   },
   "source": [
    "![](img/part_render.png)"
   ]
  },
  {
   "cell_type": "markdown",
   "id": "0c8130ec",
   "metadata": {
    "id": "0c8130ec"
   },
   "source": [
    "# Taipy Core\n",
    "다음은 국가의 사망자 수를 예측하는 데 사용할 함수입니다. 우리는 다음을 진행할 것입니다:\n",
    "\n",
    "- 데이터 전처리(_preprocess_),\n",
    "- 훈련 및 테스트 데이터베이스 생성(_make_train_test_data_),\n",
    "- 모델 훈련(_train_model_),\n",
    "- 예측 생성(_forecast_),\n",
    "- 과거 데이터와 예측(_result_) 으로 데이터 프레임을 생성합니다.\n",
    "\n",
    "\n",
    "![](img/all_architecture.svg)"
   ]
  },
  {
   "cell_type": "code",
   "execution_count": null,
   "id": "688ebab8",
   "metadata": {
    "id": "688ebab8"
   },
   "outputs": [],
   "source": [
    "def preprocess(initial_data, country):\n",
    "    data = initial_data.groupby([\"Country/Region\",'Date'])\\\n",
    "                       .sum()\\\n",
    "                       .dropna()\\\n",
    "                       .reset_index()\n",
    "\n",
    "    preprocess_data = data.loc[data['Country/Region']==country].reset_index(drop=True)\n",
    "    return preprocess_data\n",
    "    \n",
    "    \n",
    "def make_train_test_data(preprocess_data):\n",
    "    perc_test = 0.3\n",
    "    nb_to_predict = int(perc_test*len(preprocess_data))\n",
    "    train_data = preprocess_data[:-nb_to_predict]\n",
    "    return train_data, nb_to_predict\n",
    "\n",
    "\n",
    "def train_model(train_data):\n",
    "    model = auto_arima(train_data['Deaths'],\n",
    "                       start_p=1, start_q=1,\n",
    "                       max_p=5, max_q=5,\n",
    "                       start_P=0, seasonal=False,\n",
    "                       d=1, D=1, trace=True,\n",
    "                       error_action='ignore',  \n",
    "                       suppress_warnings=True)\n",
    "    model.fit(train_data['Deaths'])\n",
    "    return model\n",
    "\n",
    "\n",
    "def forecast(model, nb_to_predict):\n",
    "    predictions = model.predict(n_periods=nb_to_predict)\n",
    "    return predictions\n",
    "\n",
    "\n",
    "def result(preprocess_data, predictions, nb_to_predict):\n",
    "    pred_series = pd.Series([np.NaN]*(len(preprocess_data)-nb_to_predict) + list(predictions), name='Predictions')\n",
    "    return pd.concat([preprocess_data, pred_series], axis=1)"
   ]
  },
  {
   "cell_type": "markdown",
   "id": "9d2e845f",
   "metadata": {
    "id": "9d2e845f"
   },
   "source": [
    "먼저 Data Nodes를 정의한 다음 tasks(Python 함수와 연결됨)을 정의해야 합니다. 또한 이러한 tasks을 다른 pipelines으로 수집하고 이러한 pipelines을 scenario로 수집합니다.\n",
    "\n",
    "Data Node에는 **unique id(고유 ID)** 가 필요합니다. 필요한 경우 CSV 및 SQL 용으로 스토리지 유형을 변경할 수 있습니다. 그런 다음 다른 매개변수(parameters)가 필요합니다."
   ]
  },
  {
   "cell_type": "markdown",
   "id": "b19ed6d7",
   "metadata": {
    "id": "b19ed6d7"
   },
   "source": [
    "### 전처리를 위한 데이터 노드 및 태스크(Data Nodes and Task for preprocess)"
   ]
  },
  {
   "cell_type": "markdown",
   "id": "6c0e2743",
   "metadata": {
    "id": "6c0e2743"
   },
   "source": [
    "<img src=\"img/preprocess.svg\" alt=\"drawing\" width=\"500\"/>"
   ]
  },
  {
   "cell_type": "code",
   "execution_count": null,
   "id": "a0dec60e",
   "metadata": {
    "id": "a0dec60e"
   },
   "outputs": [],
   "source": [
    "initial_data_cfg = Config.configure_data_node(id=\"initial_data\",\n",
    "                                              storage_type=\"csv\",\n",
    "                                              path=path_to_data,\n",
    "                                              cacheable=True,\n",
    "                                              validity_period=dt.timedelta(days=5))\n",
    "\n",
    "country_cfg = Config.configure_data_node(id=\"country\", default_data=\"France\",\n",
    "                                         cacheable=True, validity_period=dt.timedelta(days=5))\n",
    "\n",
    "preprocess_data_cfg =  Config.configure_data_node(id=\"preprocess_data\",\n",
    "                                                  cacheable=True, validity_period=dt.timedelta(days=5))\n",
    "\n",
    "\n",
    "task_preprocess_cfg = Config.configure_task(id=\"task_preprocess_data\",\n",
    "                                           function=preprocess,\n",
    "                                           input=[initial_data_cfg, country_cfg],\n",
    "                                           output=preprocess_data_cfg)"
   ]
  },
  {
   "cell_type": "markdown",
   "id": "e9a53d43",
   "metadata": {
    "id": "e9a53d43"
   },
   "source": [
    "### make_train_test_data에 대한 Data Nodes 및 Task"
   ]
  },
  {
   "cell_type": "markdown",
   "id": "caacd215",
   "metadata": {
    "id": "caacd215"
   },
   "source": [
    "<img src=\"img/make_train_test_data.svg\" alt=\"drawing\" width=\"500\"/>"
   ]
  },
  {
   "cell_type": "code",
   "execution_count": null,
   "id": "d357539c",
   "metadata": {
    "id": "d357539c"
   },
   "outputs": [],
   "source": [
    "train_data_cfg =  Config.configure_data_node(id=\"train_data\", cacheable=True, validity_period=dt.timedelta(days=5))\n",
    "\n",
    "nb_to_predict_cfg = Config.configure_data_node(id=\"nb_to_predict\",\n",
    "                                               cacheable=True, validity_period=dt.timedelta(days=5))\n",
    "\n",
    "task_train_test_cfg = Config.configure_task(id=\"task_make_train_test_data\",\n",
    "                                           function=make_train_test_data,\n",
    "                                           input=preprocess_data_cfg,\n",
    "                                           output=[train_data_cfg, nb_to_predict_cfg])"
   ]
  },
  {
   "cell_type": "markdown",
   "id": "1908c988",
   "metadata": {
    "id": "1908c988"
   },
   "source": [
    "### train_model에 대한 Data Nodes 및 Task "
   ]
  },
  {
   "cell_type": "markdown",
   "id": "e8bd5020",
   "metadata": {
    "id": "e8bd5020"
   },
   "source": [
    "<img src=\"img/train_model.svg\" alt=\"drawing\" width=\"500\"/>"
   ]
  },
  {
   "cell_type": "code",
   "execution_count": null,
   "id": "96afe994",
   "metadata": {
    "id": "96afe994"
   },
   "outputs": [],
   "source": [
    "model_cfg = Config.configure_data_node(id=\"model\", cacheable=True, validity_period=dt.timedelta(days=5))\n",
    "\n",
    "task_train_cfg = Config.configure_task(id=\"task_train\",\n",
    "                                      function=train_model,\n",
    "                                      input=train_data_cfg,\n",
    "                                      output=model_cfg)"
   ]
  },
  {
   "cell_type": "markdown",
   "id": "849d0a97",
   "metadata": {
    "id": "849d0a97"
   },
   "source": [
    "### forecast에 대한 Data Nodes 및 Task"
   ]
  },
  {
   "cell_type": "markdown",
   "id": "e0a125c7",
   "metadata": {
    "id": "e0a125c7"
   },
   "source": [
    "<img src=\"img/forecast.svg\" alt=\"drawing\" width=\"500\"/>"
   ]
  },
  {
   "cell_type": "code",
   "execution_count": null,
   "id": "46b0287b",
   "metadata": {
    "id": "46b0287b"
   },
   "outputs": [],
   "source": [
    "# 1) configure the predictions Data Node (predictions_cfg)\n",
    "\n",
    "# 2) configure the task_forecast task (task_forecast_cfg)\n",
    "# (input=[model, nb_to_predict] / output=predictions_cfg / function=forecast)"
   ]
  },
  {
   "cell_type": "markdown",
   "id": "73ab0ee0",
   "metadata": {
    "id": "73ab0ee0"
   },
   "source": [
    "### result에 대한 Data Nodes 및 Task"
   ]
  },
  {
   "cell_type": "markdown",
   "id": "899c41df",
   "metadata": {
    "id": "899c41df"
   },
   "source": [
    "<img src=\"img/result.svg\" alt=\"drawing\" width=\"500\"/>"
   ]
  },
  {
   "cell_type": "code",
   "execution_count": null,
   "id": "92f6ca0c",
   "metadata": {
    "id": "92f6ca0c"
   },
   "outputs": [],
   "source": [
    "# 1) configure the result Data Node (result_cfg)\n",
    "# 2) configure the task_result task (task_result_cfg)\n",
    "# (input=[preprocess_data, predictions, nb_to_predict] / output=result_cfg / function=result)"
   ]
  },
  {
   "cell_type": "markdown",
   "id": "252820b6",
   "metadata": {
    "id": "252820b6"
   },
   "source": [
    "## [pipelines 구성(Configuration)](https://docs.taipy.io/en/release-1.1/manuals/reference/taipy.Config/#taipy.core.config.config.Config.configure_default_pipeline)"
   ]
  },
  {
   "cell_type": "code",
   "execution_count": null,
   "id": "ed34224b",
   "metadata": {
    "id": "ed34224b"
   },
   "outputs": [],
   "source": [
    "pipeline_preprocessing_cfg = Config.configure_pipeline(id=\"pipeline_preprocessing\",\n",
    "                                                       task_configs=[task_preprocess_cfg, task_train_test_cfg])\n",
    "\n",
    "pipeline_train_cfg = Config.configure_pipeline(id=\"pipeline_train\",\n",
    "                                               task_configs=[task_train_cfg])\n",
    "\n",
    "pipeline_forecast_cfg = Config.configure_pipeline(id=\"pipeline_forecast\",\n",
    "                                                       task_configs=[task_forecast_cfg, task_result_cfg])"
   ]
  },
  {
   "cell_type": "markdown",
   "id": "27dbc823",
   "metadata": {
    "id": "27dbc823"
   },
   "source": [
    "## [scenario 구성(Configuration)](https://docs.taipy.io/en/release-1.1/manuals/reference/taipy.Config/#taipy.core.config.config.Config.configure_default_scenario)"
   ]
  },
  {
   "cell_type": "code",
   "execution_count": null,
   "id": "9c742722",
   "metadata": {
    "id": "9c742722"
   },
   "outputs": [],
   "source": [
    "scenario_cfg = Config.configure_scenario(id='scenario', pipeline_configs=[pipeline_preprocessing_cfg,\n",
    "                                                                         pipeline_train_cfg,\n",
    "                                                                         pipeline_forecast_cfg])"
   ]
  },
  {
   "cell_type": "markdown",
   "id": "986ebad5",
   "metadata": {
    "id": "986ebad5"
   },
   "source": [
    "## scenario 생성(creation) 및 제출(submit)"
   ]
  },
  {
   "cell_type": "code",
   "execution_count": null,
   "id": "ee902abf",
   "metadata": {
    "id": "ee902abf",
    "outputId": "70062c30-ef15-47ba-fdbd-437f99048e5c"
   },
   "outputs": [
    {
     "name": "stderr",
     "output_type": "stream",
     "text": [
      "C:\\Users\\jacta\\anaconda3\\lib\\site-packages\\taipy\\core\\data\\csv.py:145: DtypeWarning: Columns (0,1) have mixed types. Specify dtype option on import or set low_memory=False.\n",
      "  return pd.read_csv(self._path)\n"
     ]
    },
    {
     "name": "stdout",
     "output_type": "stream",
     "text": [
      "[2022-07-11 11:45:19,850][Taipy][INFO] job JOB_task_preprocess_data_3ce74232-bb9c-4616-89fb-6449fad091ff is completed.\n",
      "[2022-07-11 11:45:20,015][Taipy][INFO] job JOB_task_make_train_test_data_665f7242-2971-42c5-b720-bfaba5e3c542 is completed.\n",
      "Performing stepwise search to minimize aic\n",
      " ARIMA(1,1,1)(0,0,0)[0] intercept   : AIC=2994.124, Time=0.11 sec\n",
      " ARIMA(0,1,0)(0,0,0)[0] intercept   : AIC=3349.636, Time=0.01 sec\n",
      " ARIMA(1,1,0)(0,0,0)[0] intercept   : AIC=3045.305, Time=0.04 sec\n",
      " ARIMA(0,1,1)(0,0,0)[0] intercept   : AIC=3200.566, Time=0.05 sec\n",
      " ARIMA(0,1,0)(0,0,0)[0]             : AIC=3402.421, Time=0.01 sec\n",
      " ARIMA(2,1,1)(0,0,0)[0] intercept   : AIC=2996.090, Time=0.17 sec\n",
      " ARIMA(1,1,2)(0,0,0)[0] intercept   : AIC=2996.081, Time=0.15 sec\n",
      " ARIMA(0,1,2)(0,0,0)[0] intercept   : AIC=3162.541, Time=0.11 sec\n",
      " ARIMA(2,1,0)(0,0,0)[0] intercept   : AIC=3014.299, Time=0.03 sec\n",
      " ARIMA(2,1,2)(0,0,0)[0] intercept   : AIC=2996.306, Time=0.16 sec\n",
      " ARIMA(1,1,1)(0,0,0)[0]             : AIC=2992.816, Time=0.05 sec\n",
      " ARIMA(0,1,1)(0,0,0)[0]             : AIC=3237.322, Time=0.03 sec\n",
      " ARIMA(1,1,0)(0,0,0)[0]             : AIC=3047.241, Time=0.02 sec\n",
      " ARIMA(2,1,1)(0,0,0)[0]             : AIC=2994.775, Time=0.09 sec\n",
      " ARIMA(1,1,2)(0,0,0)[0]             : AIC=2994.765, Time=0.07 sec\n",
      " ARIMA(0,1,2)(0,0,0)[0]             : AIC=3191.574, Time=0.07 sec\n",
      " ARIMA(2,1,0)(0,0,0)[0]             : AIC=3014.129, Time=0.02 sec\n",
      " ARIMA(2,1,2)(0,0,0)[0]             : AIC=2994.978, Time=0.07 sec\n",
      "\n",
      "Best model:  ARIMA(1,1,1)(0,0,0)[0]          \n",
      "Total fit time: 1.278 seconds\n",
      "[2022-07-11 11:45:21,451][Taipy][INFO] job JOB_task_train_f9329a00-bd4a-45b8-af39-8504b6a15bfc is completed.\n",
      "[2022-07-11 11:45:21,556][Taipy][INFO] job JOB_task_forecast_0f06ebc8-1afe-4a8c-a62a-8e4eb4e7d2c2 is completed.\n",
      "[2022-07-11 11:45:21,669][Taipy][INFO] job JOB_task_result_9d2f11d7-6705-4450-b4fa-76c7095ed8cf is completed.\n"
     ]
    }
   ],
   "source": [
    "scenario = tp.create_scenario(scenario_cfg, name='First Scenario')\n",
    "tp.submit(scenario)"
   ]
  },
  {
   "cell_type": "code",
   "execution_count": null,
   "id": "0438a233",
   "metadata": {
    "id": "0438a233",
    "outputId": "89047fc6-d0d0-46b6-abc5-cb4d44c110b1"
   },
   "outputs": [
    {
     "data": {
      "text/plain": [
       "ARIMA(order=(1, 1, 1), scoring_args={}, suppress_warnings=True,\n",
       "      with_intercept=False)"
      ]
     },
     "execution_count": 40,
     "metadata": {},
     "output_type": "execute_result"
    }
   ],
   "source": [
    "scenario.model.read()"
   ]
  },
  {
   "cell_type": "code",
   "execution_count": null,
   "id": "a4f4dafd",
   "metadata": {
    "id": "a4f4dafd",
    "outputId": "599e1b50-93ec-4655-d724-e0802dca7915"
   },
   "outputs": [
    {
     "data": {
      "text/html": [
       "<div>\n",
       "<style scoped>\n",
       "    .dataframe tbody tr th:only-of-type {\n",
       "        vertical-align: middle;\n",
       "    }\n",
       "\n",
       "    .dataframe tbody tr th {\n",
       "        vertical-align: top;\n",
       "    }\n",
       "\n",
       "    .dataframe thead th {\n",
       "        text-align: right;\n",
       "    }\n",
       "</style>\n",
       "<table border=\"1\" class=\"dataframe\">\n",
       "  <thead>\n",
       "    <tr style=\"text-align: right;\">\n",
       "      <th></th>\n",
       "      <th>Country/Region</th>\n",
       "      <th>Date</th>\n",
       "      <th>Latitude</th>\n",
       "      <th>Longitude</th>\n",
       "      <th>Confirmed</th>\n",
       "      <th>Recovered</th>\n",
       "      <th>Deaths</th>\n",
       "      <th>Predictions</th>\n",
       "    </tr>\n",
       "  </thead>\n",
       "  <tbody>\n",
       "    <tr>\n",
       "      <th>0</th>\n",
       "      <td>France</td>\n",
       "      <td>2020-01-24</td>\n",
       "      <td>14.641500</td>\n",
       "      <td>-56.315900</td>\n",
       "      <td>2.0</td>\n",
       "      <td>0.0</td>\n",
       "      <td>0.0</td>\n",
       "      <td>NaN</td>\n",
       "    </tr>\n",
       "    <tr>\n",
       "      <th>1</th>\n",
       "      <td>France</td>\n",
       "      <td>2020-01-25</td>\n",
       "      <td>14.641500</td>\n",
       "      <td>-56.315900</td>\n",
       "      <td>3.0</td>\n",
       "      <td>0.0</td>\n",
       "      <td>0.0</td>\n",
       "      <td>NaN</td>\n",
       "    </tr>\n",
       "    <tr>\n",
       "      <th>2</th>\n",
       "      <td>France</td>\n",
       "      <td>2020-01-26</td>\n",
       "      <td>14.641500</td>\n",
       "      <td>-56.315900</td>\n",
       "      <td>3.0</td>\n",
       "      <td>0.0</td>\n",
       "      <td>0.0</td>\n",
       "      <td>NaN</td>\n",
       "    </tr>\n",
       "    <tr>\n",
       "      <th>3</th>\n",
       "      <td>France</td>\n",
       "      <td>2020-01-27</td>\n",
       "      <td>14.641500</td>\n",
       "      <td>-56.315900</td>\n",
       "      <td>3.0</td>\n",
       "      <td>0.0</td>\n",
       "      <td>0.0</td>\n",
       "      <td>NaN</td>\n",
       "    </tr>\n",
       "    <tr>\n",
       "      <th>4</th>\n",
       "      <td>France</td>\n",
       "      <td>2020-01-28</td>\n",
       "      <td>14.641500</td>\n",
       "      <td>-56.315900</td>\n",
       "      <td>4.0</td>\n",
       "      <td>0.0</td>\n",
       "      <td>0.0</td>\n",
       "      <td>NaN</td>\n",
       "    </tr>\n",
       "    <tr>\n",
       "      <th>...</th>\n",
       "      <td>...</td>\n",
       "      <td>...</td>\n",
       "      <td>...</td>\n",
       "      <td>...</td>\n",
       "      <td>...</td>\n",
       "      <td>...</td>\n",
       "      <td>...</td>\n",
       "      <td>...</td>\n",
       "    </tr>\n",
       "    <tr>\n",
       "      <th>338</th>\n",
       "      <td>France</td>\n",
       "      <td>2020-12-27</td>\n",
       "      <td>91.463495</td>\n",
       "      <td>-238.646914</td>\n",
       "      <td>2616510.0</td>\n",
       "      <td>195861.0</td>\n",
       "      <td>62867.0</td>\n",
       "      <td>32931.922617</td>\n",
       "    </tr>\n",
       "    <tr>\n",
       "      <th>339</th>\n",
       "      <td>France</td>\n",
       "      <td>2020-12-28</td>\n",
       "      <td>91.463495</td>\n",
       "      <td>-238.646914</td>\n",
       "      <td>2619616.0</td>\n",
       "      <td>196642.0</td>\n",
       "      <td>63235.0</td>\n",
       "      <td>32936.896572</td>\n",
       "    </tr>\n",
       "    <tr>\n",
       "      <th>340</th>\n",
       "      <td>France</td>\n",
       "      <td>2020-12-29</td>\n",
       "      <td>91.463495</td>\n",
       "      <td>-238.646914</td>\n",
       "      <td>2631110.0</td>\n",
       "      <td>197726.0</td>\n",
       "      <td>64204.0</td>\n",
       "      <td>32941.767204</td>\n",
       "    </tr>\n",
       "    <tr>\n",
       "      <th>341</th>\n",
       "      <td>France</td>\n",
       "      <td>2020-12-30</td>\n",
       "      <td>91.463495</td>\n",
       "      <td>-238.646914</td>\n",
       "      <td>2657624.0</td>\n",
       "      <td>198966.0</td>\n",
       "      <td>64508.0</td>\n",
       "      <td>32946.536660</td>\n",
       "    </tr>\n",
       "    <tr>\n",
       "      <th>342</th>\n",
       "      <td>France</td>\n",
       "      <td>2020-12-31</td>\n",
       "      <td>91.463495</td>\n",
       "      <td>-238.646914</td>\n",
       "      <td>2677666.0</td>\n",
       "      <td>200142.0</td>\n",
       "      <td>64759.0</td>\n",
       "      <td>32951.207042</td>\n",
       "    </tr>\n",
       "  </tbody>\n",
       "</table>\n",
       "<p>343 rows × 8 columns</p>\n",
       "</div>"
      ],
      "text/plain": [
       "    Country/Region        Date   Latitude   Longitude  Confirmed  Recovered  \\\n",
       "0           France  2020-01-24  14.641500  -56.315900        2.0        0.0   \n",
       "1           France  2020-01-25  14.641500  -56.315900        3.0        0.0   \n",
       "2           France  2020-01-26  14.641500  -56.315900        3.0        0.0   \n",
       "3           France  2020-01-27  14.641500  -56.315900        3.0        0.0   \n",
       "4           France  2020-01-28  14.641500  -56.315900        4.0        0.0   \n",
       "..             ...         ...        ...         ...        ...        ...   \n",
       "338         France  2020-12-27  91.463495 -238.646914  2616510.0   195861.0   \n",
       "339         France  2020-12-28  91.463495 -238.646914  2619616.0   196642.0   \n",
       "340         France  2020-12-29  91.463495 -238.646914  2631110.0   197726.0   \n",
       "341         France  2020-12-30  91.463495 -238.646914  2657624.0   198966.0   \n",
       "342         France  2020-12-31  91.463495 -238.646914  2677666.0   200142.0   \n",
       "\n",
       "      Deaths   Predictions  \n",
       "0        0.0           NaN  \n",
       "1        0.0           NaN  \n",
       "2        0.0           NaN  \n",
       "3        0.0           NaN  \n",
       "4        0.0           NaN  \n",
       "..       ...           ...  \n",
       "338  62867.0  32931.922617  \n",
       "339  63235.0  32936.896572  \n",
       "340  64204.0  32941.767204  \n",
       "341  64508.0  32946.536660  \n",
       "342  64759.0  32951.207042  \n",
       "\n",
       "[343 rows x 8 columns]"
      ]
     },
     "execution_count": 41,
     "metadata": {},
     "output_type": "execute_result"
    }
   ],
   "source": [
    "scenario.result.read()"
   ]
  },
  {
   "cell_type": "code",
   "execution_count": null,
   "id": "79602c0e",
   "metadata": {
    "id": "79602c0e",
    "outputId": "d2a156c0-2283-4d92-d187-bd6a16f8c996"
   },
   "outputs": [
    {
     "data": {
      "text/plain": [
       "array([31336.91486027, 31375.02135569, 31412.33627815, 31448.87607071,\n",
       "       31484.65683488, 31519.6943377 , 31554.00401867, 31587.60099658,\n",
       "       31620.50007616, 31652.71575462, 31684.262228  , 31715.15339748,\n",
       "       31745.40287544, 31775.02399153, 31804.02979849, 31832.43307792,\n",
       "       31860.24634591, 31887.48185857, 31914.15161741, 31940.26737463,\n",
       "       31965.84063831, 31990.8826775 , 32015.40452712, 32039.4169929 ,\n",
       "       32062.93065608, 32085.95587812, 32108.50280525, 32130.5813729 ,\n",
       "       32152.20131016, 32173.37214398, 32194.10320345, 32214.40362383,\n",
       "       32234.28235065, 32253.7481436 , 32272.80958041, 32291.47506062,\n",
       "       32309.75280931, 32327.6508807 , 32345.17716167, 32362.33937532,\n",
       "       32379.14508427, 32395.60169408, 32411.71645647, 32427.49647251,\n",
       "       32442.94869576, 32458.07993537, 32472.896859  , 32487.40599583,\n",
       "       32501.61373942, 32515.52635049, 32529.14995974, 32542.4905705 ,\n",
       "       32555.55406139, 32568.34618894, 32580.87259007, 32593.13878463,\n",
       "       32605.15017781, 32616.91206249, 32628.42962164, 32639.70793054,\n",
       "       32650.75195906, 32661.56657382, 32672.15654035, 32682.52652519,\n",
       "       32692.68109795, 32702.6247333 , 32712.36181298, 32721.89662769,\n",
       "       32731.23337901, 32740.37618125, 32749.32906324, 32758.09597013,\n",
       "       32766.68076512, 32775.08723115, 32783.31907259, 32791.37991684,\n",
       "       32799.27331599, 32807.00274831, 32814.57161982, 32821.98326579,\n",
       "       32829.24095223, 32836.34787727, 32843.30717263, 32850.12190497,\n",
       "       32856.79507725, 32863.32963004, 32869.72844285, 32875.99433534,\n",
       "       32882.13006863, 32888.13834647, 32894.02181644, 32899.78307114,\n",
       "       32905.42464931, 32910.94903693, 32916.35866837, 32921.65592743,\n",
       "       32926.84314836, 32931.92261696, 32936.89657152, 32941.76720386,\n",
       "       32946.53666025, 32951.20704239])"
      ]
     },
     "execution_count": 42,
     "metadata": {},
     "output_type": "execute_result"
    }
   ],
   "source": [
    "scenario.predictions.read()"
   ]
  },
  {
   "cell_type": "markdown",
   "id": "d9915978",
   "metadata": {
    "id": "d9915978"
   },
   "source": [
    "## 캐싱(Caching)\n",
    "\"input\" Data Nodes 변경되지 않았기 때문에 일부 작업(job)을 건너뜁니다."
   ]
  },
  {
   "cell_type": "code",
   "execution_count": null,
   "id": "7cb68da0",
   "metadata": {
    "id": "7cb68da0",
    "outputId": "9c2e4944-295b-4ea4-fe93-30844f1c3e55"
   },
   "outputs": [
    {
     "name": "stdout",
     "output_type": "stream",
     "text": [
      "[2022-07-11 11:46:32,508][Taipy][INFO] job JOB_task_preprocess_data_72e6aac4-f59b-4f8e-867d-385aa1d7518f is skipped.\n",
      "[2022-07-11 11:46:32,601][Taipy][INFO] job JOB_task_make_train_test_data_0b7f6d96-b114-4630-9f8c-22b2baa1c0c3 is skipped.\n",
      "[2022-07-11 11:46:32,672][Taipy][INFO] job JOB_task_train_518c7efa-e5f1-46bf-940d-ae4840f81b0c is skipped.\n",
      "[2022-07-11 11:46:32,768][Taipy][INFO] job JOB_task_forecast_072bb0d5-2af3-4c50-90e1-affd2f403aa6 is completed.\n",
      "[2022-07-11 11:46:32,863][Taipy][INFO] job JOB_task_result_18ae1e37-b809-49e6-98b1-d4211555b35d is completed.\n"
     ]
    }
   ],
   "source": [
    "tp.submit(scenario)"
   ]
  },
  {
   "cell_type": "markdown",
   "id": "ba83beac",
   "metadata": {
    "id": "ba83beac"
   },
   "source": [
    "## data nodes에 쓰기\n",
    "\n",
    "데이터 노드를 쓰려면:\n",
    "\n",
    "`<Data Node>.write(new_value)`"
   ]
  },
  {
   "cell_type": "code",
   "execution_count": null,
   "id": "31d6562d",
   "metadata": {
    "id": "31d6562d",
    "outputId": "d92ea990-5af3-4784-ba1e-9fe59ae3a131"
   },
   "outputs": [
    {
     "name": "stderr",
     "output_type": "stream",
     "text": [
      "C:\\Users\\jacta\\anaconda3\\lib\\site-packages\\taipy\\core\\data\\csv.py:145: DtypeWarning: Columns (0,1) have mixed types. Specify dtype option on import or set low_memory=False.\n",
      "  return pd.read_csv(self._path)\n"
     ]
    },
    {
     "name": "stdout",
     "output_type": "stream",
     "text": [
      "[2022-07-11 11:48:24,748][Taipy][INFO] job JOB_task_preprocess_data_eea20e06-8fc5-4f6e-860c-c2d92683fe9e is completed.\n",
      "[2022-07-11 11:48:24,880][Taipy][INFO] job JOB_task_make_train_test_data_ed8a89fc-5cfb-4647-b0ea-5bf23ca71592 is completed.\n",
      "Performing stepwise search to minimize aic\n",
      " ARIMA(1,1,1)(0,0,0)[0] intercept   : AIC=3565.937, Time=0.03 sec\n",
      " ARIMA(0,1,0)(0,0,0)[0] intercept   : AIC=3869.494, Time=0.01 sec\n",
      " ARIMA(1,1,0)(0,0,0)[0] intercept   : AIC=3564.625, Time=0.02 sec\n",
      " ARIMA(0,1,1)(0,0,0)[0] intercept   : AIC=3712.670, Time=0.06 sec\n",
      " ARIMA(0,1,0)(0,0,0)[0]             : AIC=4064.717, Time=0.01 sec\n",
      " ARIMA(2,1,0)(0,0,0)[0] intercept   : AIC=3565.875, Time=0.03 sec\n",
      " ARIMA(2,1,1)(0,0,0)[0] intercept   : AIC=3567.852, Time=0.06 sec\n",
      " ARIMA(1,1,0)(0,0,0)[0]             : AIC=3573.780, Time=0.01 sec\n",
      "\n",
      "Best model:  ARIMA(1,1,0)(0,0,0)[0] intercept\n",
      "Total fit time: 0.228 seconds\n",
      "[2022-07-11 11:48:25,231][Taipy][INFO] job JOB_task_train_93ce69c4-df8d-4e5a-b8e2-3fca1b9c12d6 is completed.\n",
      "[2022-07-11 11:48:25,334][Taipy][INFO] job JOB_task_forecast_aba119cd-cab4-4c32-91d4-bd67db7232c1 is completed.\n",
      "[2022-07-11 11:48:25,427][Taipy][INFO] job JOB_task_result_c9b8efa4-53eb-49ff-b0a5-9071df04bbc2 is completed.\n"
     ]
    },
    {
     "data": {
      "text/html": [
       "<div>\n",
       "<style scoped>\n",
       "    .dataframe tbody tr th:only-of-type {\n",
       "        vertical-align: middle;\n",
       "    }\n",
       "\n",
       "    .dataframe tbody tr th {\n",
       "        vertical-align: top;\n",
       "    }\n",
       "\n",
       "    .dataframe thead th {\n",
       "        text-align: right;\n",
       "    }\n",
       "</style>\n",
       "<table border=\"1\" class=\"dataframe\">\n",
       "  <thead>\n",
       "    <tr style=\"text-align: right;\">\n",
       "      <th></th>\n",
       "      <th>Country/Region</th>\n",
       "      <th>Date</th>\n",
       "      <th>Latitude</th>\n",
       "      <th>Longitude</th>\n",
       "      <th>Confirmed</th>\n",
       "      <th>Recovered</th>\n",
       "      <th>Deaths</th>\n",
       "      <th>Predictions</th>\n",
       "    </tr>\n",
       "  </thead>\n",
       "  <tbody>\n",
       "    <tr>\n",
       "      <th>0</th>\n",
       "      <td>US</td>\n",
       "      <td>2020-01-22</td>\n",
       "      <td>47.140037</td>\n",
       "      <td>-120.791360</td>\n",
       "      <td>1.0</td>\n",
       "      <td>0.0</td>\n",
       "      <td>0.0</td>\n",
       "      <td>NaN</td>\n",
       "    </tr>\n",
       "    <tr>\n",
       "      <th>1</th>\n",
       "      <td>US</td>\n",
       "      <td>2020-01-23</td>\n",
       "      <td>47.140037</td>\n",
       "      <td>-120.791360</td>\n",
       "      <td>1.0</td>\n",
       "      <td>0.0</td>\n",
       "      <td>0.0</td>\n",
       "      <td>NaN</td>\n",
       "    </tr>\n",
       "    <tr>\n",
       "      <th>2</th>\n",
       "      <td>US</td>\n",
       "      <td>2020-01-24</td>\n",
       "      <td>85.345498</td>\n",
       "      <td>-210.450080</td>\n",
       "      <td>2.0</td>\n",
       "      <td>0.0</td>\n",
       "      <td>0.0</td>\n",
       "      <td>NaN</td>\n",
       "    </tr>\n",
       "    <tr>\n",
       "      <th>3</th>\n",
       "      <td>US</td>\n",
       "      <td>2020-01-25</td>\n",
       "      <td>87.000686</td>\n",
       "      <td>-209.922210</td>\n",
       "      <td>2.0</td>\n",
       "      <td>0.0</td>\n",
       "      <td>0.0</td>\n",
       "      <td>NaN</td>\n",
       "    </tr>\n",
       "    <tr>\n",
       "      <th>4</th>\n",
       "      <td>US</td>\n",
       "      <td>2020-01-26</td>\n",
       "      <td>158.375485</td>\n",
       "      <td>-442.264230</td>\n",
       "      <td>5.0</td>\n",
       "      <td>0.0</td>\n",
       "      <td>0.0</td>\n",
       "      <td>NaN</td>\n",
       "    </tr>\n",
       "    <tr>\n",
       "      <th>...</th>\n",
       "      <td>...</td>\n",
       "      <td>...</td>\n",
       "      <td>...</td>\n",
       "      <td>...</td>\n",
       "      <td>...</td>\n",
       "      <td>...</td>\n",
       "      <td>...</td>\n",
       "      <td>...</td>\n",
       "    </tr>\n",
       "    <tr>\n",
       "      <th>340</th>\n",
       "      <td>US</td>\n",
       "      <td>2020-12-27</td>\n",
       "      <td>124119.377356</td>\n",
       "      <td>-298994.802493</td>\n",
       "      <td>19222064.0</td>\n",
       "      <td>0.0</td>\n",
       "      <td>334533.0</td>\n",
       "      <td>281684.136115</td>\n",
       "    </tr>\n",
       "    <tr>\n",
       "      <th>341</th>\n",
       "      <td>US</td>\n",
       "      <td>2020-12-28</td>\n",
       "      <td>124119.377356</td>\n",
       "      <td>-298994.802493</td>\n",
       "      <td>19396237.0</td>\n",
       "      <td>0.0</td>\n",
       "      <td>336438.0</td>\n",
       "      <td>282520.640662</td>\n",
       "    </tr>\n",
       "    <tr>\n",
       "      <th>342</th>\n",
       "      <td>US</td>\n",
       "      <td>2020-12-29</td>\n",
       "      <td>124119.377356</td>\n",
       "      <td>-298994.802493</td>\n",
       "      <td>19595117.0</td>\n",
       "      <td>0.0</td>\n",
       "      <td>340061.0</td>\n",
       "      <td>283357.145209</td>\n",
       "    </tr>\n",
       "    <tr>\n",
       "      <th>343</th>\n",
       "      <td>US</td>\n",
       "      <td>2020-12-30</td>\n",
       "      <td>124119.377356</td>\n",
       "      <td>-298994.802493</td>\n",
       "      <td>19827133.0</td>\n",
       "      <td>0.0</td>\n",
       "      <td>343783.0</td>\n",
       "      <td>284193.649757</td>\n",
       "    </tr>\n",
       "    <tr>\n",
       "      <th>344</th>\n",
       "      <td>US</td>\n",
       "      <td>2020-12-31</td>\n",
       "      <td>124119.377356</td>\n",
       "      <td>-298994.802493</td>\n",
       "      <td>20061049.0</td>\n",
       "      <td>0.0</td>\n",
       "      <td>347170.0</td>\n",
       "      <td>285030.154306</td>\n",
       "    </tr>\n",
       "  </tbody>\n",
       "</table>\n",
       "<p>345 rows × 8 columns</p>\n",
       "</div>"
      ],
      "text/plain": [
       "    Country/Region        Date       Latitude      Longitude   Confirmed  \\\n",
       "0               US  2020-01-22      47.140037    -120.791360         1.0   \n",
       "1               US  2020-01-23      47.140037    -120.791360         1.0   \n",
       "2               US  2020-01-24      85.345498    -210.450080         2.0   \n",
       "3               US  2020-01-25      87.000686    -209.922210         2.0   \n",
       "4               US  2020-01-26     158.375485    -442.264230         5.0   \n",
       "..             ...         ...            ...            ...         ...   \n",
       "340             US  2020-12-27  124119.377356 -298994.802493  19222064.0   \n",
       "341             US  2020-12-28  124119.377356 -298994.802493  19396237.0   \n",
       "342             US  2020-12-29  124119.377356 -298994.802493  19595117.0   \n",
       "343             US  2020-12-30  124119.377356 -298994.802493  19827133.0   \n",
       "344             US  2020-12-31  124119.377356 -298994.802493  20061049.0   \n",
       "\n",
       "     Recovered    Deaths    Predictions  \n",
       "0          0.0       0.0            NaN  \n",
       "1          0.0       0.0            NaN  \n",
       "2          0.0       0.0            NaN  \n",
       "3          0.0       0.0            NaN  \n",
       "4          0.0       0.0            NaN  \n",
       "..         ...       ...            ...  \n",
       "340        0.0  334533.0  281684.136115  \n",
       "341        0.0  336438.0  282520.640662  \n",
       "342        0.0  340061.0  283357.145209  \n",
       "343        0.0  343783.0  284193.649757  \n",
       "344        0.0  347170.0  285030.154306  \n",
       "\n",
       "[345 rows x 8 columns]"
      ]
     },
     "execution_count": 45,
     "metadata": {},
     "output_type": "execute_result"
    }
   ],
   "source": [
    "scenario.country.write('US')\n",
    "tp.submit(scenario)\n",
    "scenario.result.read()"
   ]
  },
  {
   "cell_type": "markdown",
   "id": "8527b630",
   "metadata": {},
   "source": [
    "## 간단한 framework"
   ]
  },
  {
   "cell_type": "code",
   "execution_count": null,
   "id": "f3c1f21e",
   "metadata": {},
   "outputs": [],
   "source": [
    "scenario = tp.create_scenario(scenario_cfg, name='Second Scenario')\n",
    "tp.submit(scenario)"
   ]
  },
  {
   "cell_type": "code",
   "execution_count": null,
   "id": "db86129d",
   "metadata": {},
   "outputs": [],
   "source": [
    "[s.model.read() for s in tp.get_scenarios()]"
   ]
  },
  {
   "cell_type": "markdown",
   "id": "73fd648f",
   "metadata": {
    "id": "73fd648f"
   },
   "source": [
    "## 백엔드용 Gui 생성 \n",
    "_scenario_selector_ 를 사용하면 시나리오를 선택하고 result를 표시할 수 있습니다."
   ]
  },
  {
   "cell_type": "code",
   "execution_count": null,
   "id": "760f1a04",
   "metadata": {
    "id": "760f1a04",
    "outputId": "b44103bf-2aef-4e92-c7b0-4cde8f12b476"
   },
   "outputs": [
    {
     "name": "stdout",
     "output_type": "stream",
     "text": [
      "[('SCENARIO_scenario_6a6d628d-49ae-4877-ad6e-2a403d1a7251', 'First Scenario'), ('SCENARIO_scenario_8c9312d4-1199-49e1-a7cb-038570dfdc19', 'First Scenario')] \n",
      " SCENARIO_scenario_6a6d628d-49ae-4877-ad6e-2a403d1a7251\n"
     ]
    }
   ],
   "source": [
    "scenario_selector = [(s.id, s.name) for s in tp.get_scenarios()]\n",
    "selected_scenario = scenario.id\n",
    "print(scenario_selector,'\\n', selected_scenario)"
   ]
  },
  {
   "cell_type": "code",
   "execution_count": null,
   "id": "b590bdcc",
   "metadata": {
    "id": "b590bdcc",
    "outputId": "d6ab0e2b-f17f-4942-ea82-edd1777850bd"
   },
   "outputs": [
    {
     "data": {
      "text/html": [
       "<div>\n",
       "<style scoped>\n",
       "    .dataframe tbody tr th:only-of-type {\n",
       "        vertical-align: middle;\n",
       "    }\n",
       "\n",
       "    .dataframe tbody tr th {\n",
       "        vertical-align: top;\n",
       "    }\n",
       "\n",
       "    .dataframe thead th {\n",
       "        text-align: right;\n",
       "    }\n",
       "</style>\n",
       "<table border=\"1\" class=\"dataframe\">\n",
       "  <thead>\n",
       "    <tr style=\"text-align: right;\">\n",
       "      <th></th>\n",
       "      <th>Country/Region</th>\n",
       "      <th>Date</th>\n",
       "      <th>Latitude</th>\n",
       "      <th>Longitude</th>\n",
       "      <th>Confirmed</th>\n",
       "      <th>Recovered</th>\n",
       "      <th>Deaths</th>\n",
       "      <th>Predictions</th>\n",
       "    </tr>\n",
       "  </thead>\n",
       "  <tbody>\n",
       "    <tr>\n",
       "      <th>0</th>\n",
       "      <td>US</td>\n",
       "      <td>2020-01-22</td>\n",
       "      <td>47.140037</td>\n",
       "      <td>-120.791360</td>\n",
       "      <td>1.0</td>\n",
       "      <td>0.0</td>\n",
       "      <td>0.0</td>\n",
       "      <td>NaN</td>\n",
       "    </tr>\n",
       "    <tr>\n",
       "      <th>1</th>\n",
       "      <td>US</td>\n",
       "      <td>2020-01-23</td>\n",
       "      <td>47.140037</td>\n",
       "      <td>-120.791360</td>\n",
       "      <td>1.0</td>\n",
       "      <td>0.0</td>\n",
       "      <td>0.0</td>\n",
       "      <td>NaN</td>\n",
       "    </tr>\n",
       "    <tr>\n",
       "      <th>2</th>\n",
       "      <td>US</td>\n",
       "      <td>2020-01-24</td>\n",
       "      <td>85.345498</td>\n",
       "      <td>-210.450080</td>\n",
       "      <td>2.0</td>\n",
       "      <td>0.0</td>\n",
       "      <td>0.0</td>\n",
       "      <td>NaN</td>\n",
       "    </tr>\n",
       "    <tr>\n",
       "      <th>3</th>\n",
       "      <td>US</td>\n",
       "      <td>2020-01-25</td>\n",
       "      <td>87.000686</td>\n",
       "      <td>-209.922210</td>\n",
       "      <td>2.0</td>\n",
       "      <td>0.0</td>\n",
       "      <td>0.0</td>\n",
       "      <td>NaN</td>\n",
       "    </tr>\n",
       "    <tr>\n",
       "      <th>4</th>\n",
       "      <td>US</td>\n",
       "      <td>2020-01-26</td>\n",
       "      <td>158.375485</td>\n",
       "      <td>-442.264230</td>\n",
       "      <td>5.0</td>\n",
       "      <td>0.0</td>\n",
       "      <td>0.0</td>\n",
       "      <td>NaN</td>\n",
       "    </tr>\n",
       "    <tr>\n",
       "      <th>...</th>\n",
       "      <td>...</td>\n",
       "      <td>...</td>\n",
       "      <td>...</td>\n",
       "      <td>...</td>\n",
       "      <td>...</td>\n",
       "      <td>...</td>\n",
       "      <td>...</td>\n",
       "      <td>...</td>\n",
       "    </tr>\n",
       "    <tr>\n",
       "      <th>340</th>\n",
       "      <td>US</td>\n",
       "      <td>2020-12-27</td>\n",
       "      <td>124119.377356</td>\n",
       "      <td>-298994.802493</td>\n",
       "      <td>19222064.0</td>\n",
       "      <td>0.0</td>\n",
       "      <td>334533.0</td>\n",
       "      <td>281684.136115</td>\n",
       "    </tr>\n",
       "    <tr>\n",
       "      <th>341</th>\n",
       "      <td>US</td>\n",
       "      <td>2020-12-28</td>\n",
       "      <td>124119.377356</td>\n",
       "      <td>-298994.802493</td>\n",
       "      <td>19396237.0</td>\n",
       "      <td>0.0</td>\n",
       "      <td>336438.0</td>\n",
       "      <td>282520.640662</td>\n",
       "    </tr>\n",
       "    <tr>\n",
       "      <th>342</th>\n",
       "      <td>US</td>\n",
       "      <td>2020-12-29</td>\n",
       "      <td>124119.377356</td>\n",
       "      <td>-298994.802493</td>\n",
       "      <td>19595117.0</td>\n",
       "      <td>0.0</td>\n",
       "      <td>340061.0</td>\n",
       "      <td>283357.145209</td>\n",
       "    </tr>\n",
       "    <tr>\n",
       "      <th>343</th>\n",
       "      <td>US</td>\n",
       "      <td>2020-12-30</td>\n",
       "      <td>124119.377356</td>\n",
       "      <td>-298994.802493</td>\n",
       "      <td>19827133.0</td>\n",
       "      <td>0.0</td>\n",
       "      <td>343783.0</td>\n",
       "      <td>284193.649757</td>\n",
       "    </tr>\n",
       "    <tr>\n",
       "      <th>344</th>\n",
       "      <td>US</td>\n",
       "      <td>2020-12-31</td>\n",
       "      <td>124119.377356</td>\n",
       "      <td>-298994.802493</td>\n",
       "      <td>20061049.0</td>\n",
       "      <td>0.0</td>\n",
       "      <td>347170.0</td>\n",
       "      <td>285030.154306</td>\n",
       "    </tr>\n",
       "  </tbody>\n",
       "</table>\n",
       "<p>345 rows × 8 columns</p>\n",
       "</div>"
      ],
      "text/plain": [
       "    Country/Region        Date       Latitude      Longitude   Confirmed  \\\n",
       "0               US  2020-01-22      47.140037    -120.791360         1.0   \n",
       "1               US  2020-01-23      47.140037    -120.791360         1.0   \n",
       "2               US  2020-01-24      85.345498    -210.450080         2.0   \n",
       "3               US  2020-01-25      87.000686    -209.922210         2.0   \n",
       "4               US  2020-01-26     158.375485    -442.264230         5.0   \n",
       "..             ...         ...            ...            ...         ...   \n",
       "340             US  2020-12-27  124119.377356 -298994.802493  19222064.0   \n",
       "341             US  2020-12-28  124119.377356 -298994.802493  19396237.0   \n",
       "342             US  2020-12-29  124119.377356 -298994.802493  19595117.0   \n",
       "343             US  2020-12-30  124119.377356 -298994.802493  19827133.0   \n",
       "344             US  2020-12-31  124119.377356 -298994.802493  20061049.0   \n",
       "\n",
       "     Recovered    Deaths    Predictions  \n",
       "0          0.0       0.0            NaN  \n",
       "1          0.0       0.0            NaN  \n",
       "2          0.0       0.0            NaN  \n",
       "3          0.0       0.0            NaN  \n",
       "4          0.0       0.0            NaN  \n",
       "..         ...       ...            ...  \n",
       "340        0.0  334533.0  281684.136115  \n",
       "341        0.0  336438.0  282520.640662  \n",
       "342        0.0  340061.0  283357.145209  \n",
       "343        0.0  343783.0  284193.649757  \n",
       "344        0.0  347170.0  285030.154306  \n",
       "\n",
       "[345 rows x 8 columns]"
      ]
     },
     "execution_count": 47,
     "metadata": {},
     "output_type": "execute_result"
    }
   ],
   "source": [
    "result = scenario.result.read()\n",
    "result"
   ]
  },
  {
   "cell_type": "markdown",
   "id": "53c5cbc8",
   "metadata": {
    "id": "53c5cbc8"
   },
   "source": [
    "**팁** : value_by_id 속성이 선택 항목에 대해 True로 설정되면 selected_scenario가 튜플(tupple)의 첫 번째 요소(여기서는 id)를 직접 참조하게 됩니다."
   ]
  },
  {
   "cell_type": "markdown",
   "id": "4d705028",
   "metadata": {
    "id": "4d705028"
   },
   "source": [
    "![](img/predictions.png)"
   ]
  },
  {
   "cell_type": "code",
   "execution_count": null,
   "id": "ff76ef5f",
   "metadata": {
    "id": "ff76ef5f"
   },
   "outputs": [],
   "source": [
    "prediction_md = \"\"\"\n",
    "<|layout|columns=1 5 1 3|\n",
    "<|{scenario_name}|input|label=Name|>\n",
    "\n",
    "<br/>\n",
    "<|Create|button|on_action=create_new_scenario|>\n",
    "\n",
    "<|{selected_country}|selector|lov={selector_country}|dropdown|on_change=on_change_country|label=Country|>\n",
    "\n",
    "<br/>\n",
    "<|Submit|button|on_action=submit_scenario|>\n",
    "\n",
    "<|{selected_scenario}|selector|lov={scenario_selector}|on_change=actualize_graph|dropdown|value_by_id|label=Scenario|>\n",
    "|>\n",
    "\n",
    "<|{result}|chart|x=Date|y[1]=Deaths|type[1]=bar|y[2]=Predictions|>\n",
    "\"\"\""
   ]
  },
  {
   "cell_type": "code",
   "execution_count": null,
   "id": "de9e35b6",
   "metadata": {
    "id": "de9e35b6"
   },
   "outputs": [],
   "source": [
    "def create_new_scenario(state):\n",
    "    scenario = tp.create_scenario(scenario_cfg, name=state.scenario_name)\n",
    "    state.scenario_selector += [(scenario.id, scenario.name)]"
   ]
  },
  {
   "cell_type": "code",
   "execution_count": null,
   "id": "ef2d2fff",
   "metadata": {
    "id": "ef2d2fff"
   },
   "outputs": [],
   "source": [
    "def actualize_graph(state):\n",
    "    scenario = tp.get(state.selected_scenario)\n",
    "    # 1) update the result dataframe\n",
    "    # 2) change selected_country with the predicted country of the scenario"
   ]
  },
  {
   "cell_type": "code",
   "execution_count": null,
   "id": "41f73a34",
   "metadata": {
    "id": "41f73a34"
   },
   "outputs": [],
   "source": [
    "def submit_scenario(state):\n",
    "    # 1) get the selected scenario\n",
    "    # 2) write in country Data Node, the selected country\n",
    "    # 3) submit the scenario\n",
    "    # 4) actualize le graph avec actualize_graph\n",
    "    ..."
   ]
  },
  {
   "cell_type": "code",
   "execution_count": null,
   "id": "b9d18b7f",
   "metadata": {
    "id": "b9d18b7f",
    "outputId": "766aa07f-a142-4c00-c177-bd533fa24baa"
   },
   "outputs": [
    {
     "name": "stdout",
     "output_type": "stream",
     "text": [
      "Gui server has been stopped\n",
      " * Server starting on http://127.0.0.1:5000\n",
      " * Serving Flask app 'Taipy' (lazy loading)\n",
      " * Environment: production\n",
      "\u001b[31m   WARNING: This is a development server. Do not use it in a production deployment.\u001b[0m\n",
      "\u001b[2m   Use a production WSGI server instead.\u001b[0m\n",
      " * Debug mode: off\n"
     ]
    },
    {
     "name": "stderr",
     "output_type": "stream",
     "text": [
      "WARNING:root:\u001b[1;31m\n",
      "--- 1 warning(s) were found for page '/' in variable 'prediction_md' ---\n",
      " - Warning 1:  selector.on_change: on_change_country is not a function\n",
      "-------------------------------------------------------------------------\u001b[0m\n",
      "\n"
     ]
    },
    {
     "name": "stdout",
     "output_type": "stream",
     "text": [
      "result     Country/Region        Date       Latitude      Longitude   Confirmed  \\\n",
      "0               US  2020-01-22      47.140037    -120.791360         1.0   \n",
      "1               US  2020-01-23      47.140037    -120.791360         1.0   \n",
      "2               US  2020-01-24      85.345498    -210.450080         2.0   \n",
      "3               US  2020-01-25      87.000686    -209.922210         2.0   \n",
      "4               US  2020-01-26     158.375485    -442.264230         5.0   \n",
      "..             ...         ...            ...            ...         ...   \n",
      "340             US  2020-12-27  124119.377356 -298994.802493  19222064.0   \n",
      "341             US  2020-12-28  124119.377356 -298994.802493  19396237.0   \n",
      "342             US  2020-12-29  124119.377356 -298994.802493  19595117.0   \n",
      "343             US  2020-12-30  124119.377356 -298994.802493  19827133.0   \n",
      "344             US  2020-12-31  124119.377356 -298994.802493  20061049.0   \n",
      "\n",
      "     Recovered    Deaths    Predictions  \n",
      "0          0.0       0.0            NaN  \n",
      "1          0.0       0.0            NaN  \n",
      "2          0.0       0.0            NaN  \n",
      "3          0.0       0.0            NaN  \n",
      "4          0.0       0.0            NaN  \n",
      "..         ...       ...            ...  \n",
      "340        0.0  334533.0  281684.136115  \n",
      "341        0.0  336438.0  282520.640662  \n",
      "342        0.0  340061.0  283357.145209  \n",
      "343        0.0  343783.0  284193.649757  \n",
      "344        0.0  347170.0  285030.154306  \n",
      "\n",
      "[345 rows x 8 columns]\n"
     ]
    },
    {
     "name": "stderr",
     "output_type": "stream",
     "text": [
      "C:\\Users\\jacta\\anaconda3\\lib\\site-packages\\taipy\\gui\\gui.py:440: UserWarning: actualize_graph: callback function raised an exception: Variable 'selected' is not accessible.\n",
      "  warnings.warn(f\"{on_change or 'on_change'}: callback function raised an exception: {e}\")\n"
     ]
    },
    {
     "name": "stdout",
     "output_type": "stream",
     "text": [
      "result     Country/Region        Date       Latitude      Longitude   Confirmed  \\\n",
      "0               US  2020-01-22      47.140037    -120.791360         1.0   \n",
      "1               US  2020-01-23      47.140037    -120.791360         1.0   \n",
      "2               US  2020-01-24      85.345498    -210.450080         2.0   \n",
      "3               US  2020-01-25      87.000686    -209.922210         2.0   \n",
      "4               US  2020-01-26     158.375485    -442.264230         5.0   \n",
      "..             ...         ...            ...            ...         ...   \n",
      "340             US  2020-12-27  124119.377356 -298994.802493  19222064.0   \n",
      "341             US  2020-12-28  124119.377356 -298994.802493  19396237.0   \n",
      "342             US  2020-12-29  124119.377356 -298994.802493  19595117.0   \n",
      "343             US  2020-12-30  124119.377356 -298994.802493  19827133.0   \n",
      "344             US  2020-12-31  124119.377356 -298994.802493  20061049.0   \n",
      "\n",
      "     Recovered    Deaths    Predictions  \n",
      "0          0.0       0.0            NaN  \n",
      "1          0.0       0.0            NaN  \n",
      "2          0.0       0.0            NaN  \n",
      "3          0.0       0.0            NaN  \n",
      "4          0.0       0.0            NaN  \n",
      "..         ...       ...            ...  \n",
      "340        0.0  334533.0  281684.136115  \n",
      "341        0.0  336438.0  282520.640662  \n",
      "342        0.0  340061.0  283357.145209  \n",
      "343        0.0  343783.0  284193.649757  \n",
      "344        0.0  347170.0  285030.154306  \n",
      "\n",
      "[345 rows x 8 columns]\n"
     ]
    },
    {
     "name": "stderr",
     "output_type": "stream",
     "text": [
      "C:\\Users\\jacta\\anaconda3\\lib\\site-packages\\taipy\\gui\\gui.py:440: UserWarning: actualize_graph: callback function raised an exception: Variable 'selected' is not accessible.\n",
      "  warnings.warn(f\"{on_change or 'on_change'}: callback function raised an exception: {e}\")\n"
     ]
    },
    {
     "name": "stdout",
     "output_type": "stream",
     "text": [
      "scenario_name Scenario\n",
      "scenario_name Scenario 2\n",
      "scenario_selector [('SCENARIO_scenario_6a6d628d-49ae-4877-ad6e-2a403d1a7251', 'First Scenario'), ('SCENARIO_scenario_8c9312d4-1199-49e1-a7cb-038570dfdc19', 'First Scenario'), ('SCENARIO_scenario_09800b61-e2f2-4a8a-bdd2-210a71912ada', 'Scenario 2')]\n",
      "[2022-07-11 11:54:22,630][Taipy][WARNING] Data node DATANODE_result_4c962984-b27e-4bee-9e0d-22417e13f92a is being read but has never been written.\n"
     ]
    },
    {
     "name": "stderr",
     "output_type": "stream",
     "text": [
      "WARNING:Taipy:Data node DATANODE_result_4c962984-b27e-4bee-9e0d-22417e13f92a is being read but has never been written.\n"
     ]
    },
    {
     "name": "stdout",
     "output_type": "stream",
     "text": [
      "result None\n"
     ]
    },
    {
     "name": "stderr",
     "output_type": "stream",
     "text": [
      "C:\\Users\\jacta\\anaconda3\\lib\\site-packages\\taipy\\gui\\gui.py:440: UserWarning: actualize_graph: callback function raised an exception: Variable 'selected' is not accessible.\n",
      "  warnings.warn(f\"{on_change or 'on_change'}: callback function raised an exception: {e}\")\n",
      "C:\\Users\\jacta\\anaconda3\\lib\\site-packages\\taipy\\gui\\data\\data_accessor.py:100: UserWarning: Can't find Data Accessor for type NoneType\n",
      "  warnings.warn(f\"Can't find Data Accessor for type {type(value).__name__}\")\n"
     ]
    },
    {
     "name": "stdout",
     "output_type": "stream",
     "text": [
      "selected_country Australia\n"
     ]
    },
    {
     "name": "stderr",
     "output_type": "stream",
     "text": [
      "C:\\Users\\jacta\\anaconda3\\lib\\site-packages\\taipy\\core\\data\\csv.py:145: DtypeWarning: Columns (0,1) have mixed types. Specify dtype option on import or set low_memory=False.\n",
      "  return pd.read_csv(self._path)\n"
     ]
    },
    {
     "name": "stdout",
     "output_type": "stream",
     "text": [
      "[2022-07-11 11:54:37,354][Taipy][INFO] job JOB_task_preprocess_data_3cddf592-a854-44ca-842f-7a98d36fe077 is completed.\n"
     ]
    },
    {
     "name": "stderr",
     "output_type": "stream",
     "text": [
      "INFO:Taipy:job JOB_task_preprocess_data_3cddf592-a854-44ca-842f-7a98d36fe077 is completed.\n"
     ]
    },
    {
     "name": "stdout",
     "output_type": "stream",
     "text": [
      "[2022-07-11 11:54:37,470][Taipy][INFO] job JOB_task_make_train_test_data_513f7398-bcd2-4fef-9ee1-6ba3a33be4c1 is completed.\n"
     ]
    },
    {
     "name": "stderr",
     "output_type": "stream",
     "text": [
      "INFO:Taipy:job JOB_task_make_train_test_data_513f7398-bcd2-4fef-9ee1-6ba3a33be4c1 is completed.\n"
     ]
    },
    {
     "name": "stdout",
     "output_type": "stream",
     "text": [
      "Performing stepwise search to minimize aic\n",
      " ARIMA(1,1,1)(0,0,0)[0] intercept   : AIC=1421.091, Time=0.07 sec\n",
      " ARIMA(0,1,0)(0,0,0)[0] intercept   : AIC=1600.846, Time=0.01 sec\n",
      " ARIMA(1,1,0)(0,0,0)[0] intercept   : AIC=1492.040, Time=0.02 sec\n",
      " ARIMA(0,1,1)(0,0,0)[0] intercept   : AIC=1538.540, Time=0.04 sec\n",
      " ARIMA(0,1,0)(0,0,0)[0]             : AIC=1657.511, Time=0.01 sec\n",
      " ARIMA(2,1,1)(0,0,0)[0] intercept   : AIC=1423.027, Time=0.08 sec\n",
      " ARIMA(1,1,2)(0,0,0)[0] intercept   : AIC=1422.962, Time=0.09 sec\n",
      " ARIMA(0,1,2)(0,0,0)[0] intercept   : AIC=1507.142, Time=0.06 sec\n",
      " ARIMA(2,1,0)(0,0,0)[0] intercept   : AIC=1476.601, Time=0.04 sec\n",
      " ARIMA(2,1,2)(0,0,0)[0] intercept   : AIC=1424.796, Time=0.17 sec\n",
      " ARIMA(1,1,1)(0,0,0)[0]             : AIC=1420.055, Time=0.03 sec\n",
      " ARIMA(0,1,1)(0,0,0)[0]             : AIC=1575.589, Time=0.02 sec\n",
      " ARIMA(1,1,0)(0,0,0)[0]             : AIC=1502.448, Time=0.01 sec\n",
      " ARIMA(2,1,1)(0,0,0)[0]             : AIC=1421.989, Time=0.07 sec\n",
      " ARIMA(1,1,2)(0,0,0)[0]             : AIC=1421.923, Time=0.05 sec\n",
      " ARIMA(0,1,2)(0,0,0)[0]             : AIC=1529.217, Time=0.03 sec\n",
      " ARIMA(2,1,0)(0,0,0)[0]             : AIC=1481.627, Time=0.02 sec\n",
      " ARIMA(2,1,2)(0,0,0)[0]             : AIC=1423.958, Time=0.09 sec\n",
      "\n",
      "Best model:  ARIMA(1,1,1)(0,0,0)[0]          \n",
      "Total fit time: 0.903 seconds\n",
      "[2022-07-11 11:54:38,517][Taipy][INFO] job JOB_task_train_07394246-1412-4f2b-a421-e41ae4618c25 is completed.\n"
     ]
    },
    {
     "name": "stderr",
     "output_type": "stream",
     "text": [
      "INFO:Taipy:job JOB_task_train_07394246-1412-4f2b-a421-e41ae4618c25 is completed.\n"
     ]
    },
    {
     "name": "stdout",
     "output_type": "stream",
     "text": [
      "[2022-07-11 11:54:38,617][Taipy][INFO] job JOB_task_forecast_0e70e552-64cd-47c5-982d-50fece558163 is completed.\n"
     ]
    },
    {
     "name": "stderr",
     "output_type": "stream",
     "text": [
      "INFO:Taipy:job JOB_task_forecast_0e70e552-64cd-47c5-982d-50fece558163 is completed.\n"
     ]
    },
    {
     "name": "stdout",
     "output_type": "stream",
     "text": [
      "[2022-07-11 11:54:38,713][Taipy][INFO] job JOB_task_result_b781cdcf-b0e4-4674-a327-7088536bb760 is completed.\n"
     ]
    },
    {
     "name": "stderr",
     "output_type": "stream",
     "text": [
      "INFO:Taipy:job JOB_task_result_b781cdcf-b0e4-4674-a327-7088536bb760 is completed.\n"
     ]
    },
    {
     "name": "stdout",
     "output_type": "stream",
     "text": [
      "result     Country/Region        Date  Latitude  Longitude  Confirmed  Recovered  \\\n",
      "0        Australia  2020-01-23  -33.8688   144.9631        0.0        0.0   \n",
      "1        Australia  2020-01-25  -33.8688   144.9631        4.0        0.0   \n",
      "2        Australia  2020-01-26  -33.8688   144.9631        4.0        0.0   \n",
      "3        Australia  2020-01-27  -71.6824   296.1724        5.0        0.0   \n",
      "4        Australia  2020-01-28  -71.6824   296.1724        5.0        0.0   \n",
      "..             ...         ...       ...        ...        ...        ...   \n",
      "338      Australia  2020-12-27 -256.8502  1130.8439    28337.0    25733.0   \n",
      "339      Australia  2020-12-28 -256.8502  1130.8439    28349.0    25748.0   \n",
      "340      Australia  2020-12-29 -256.8502  1130.8439    28381.0    25754.0   \n",
      "341      Australia  2020-12-30 -256.8502  1130.8439    28405.0    25761.0   \n",
      "342      Australia  2020-12-31 -256.8502  1130.8439    28425.0    25762.0   \n",
      "\n",
      "     Deaths  Predictions  \n",
      "0       0.0          NaN  \n",
      "1       0.0          NaN  \n",
      "2       0.0          NaN  \n",
      "3       0.0          NaN  \n",
      "4       0.0          NaN  \n",
      "..      ...          ...  \n",
      "338   909.0  1167.835235  \n",
      "339   909.0  1169.548312  \n",
      "340   909.0  1171.241411  \n",
      "341   909.0  1172.914765  \n",
      "342   909.0  1174.568605  \n",
      "\n",
      "[343 rows x 8 columns]\n"
     ]
    },
    {
     "name": "stderr",
     "output_type": "stream",
     "text": [
      "C:\\Users\\jacta\\anaconda3\\lib\\site-packages\\taipy\\gui\\gui.py:726: UserWarning: on_action: 'submit_scenario' function invocation exception: Variable 'selected' is not accessible.\n",
      "  warnings.warn(f\"on_action: '{action_function.__name__}' function invocation exception: {e}\")\n",
      "C:\\Users\\jacta\\anaconda3\\lib\\site-packages\\taipy\\gui\\gui.py:701: UserWarning: on_action: 'submit_scenario' is not a function\n",
      "  warnings.warn(f\"on_action: '{action}' is not a function\")\n"
     ]
    },
    {
     "name": "stdout",
     "output_type": "stream",
     "text": [
      "result     Country/Region        Date       Latitude      Longitude   Confirmed  \\\n",
      "0               US  2020-01-22      47.140037    -120.791360         1.0   \n",
      "1               US  2020-01-23      47.140037    -120.791360         1.0   \n",
      "2               US  2020-01-24      85.345498    -210.450080         2.0   \n",
      "3               US  2020-01-25      87.000686    -209.922210         2.0   \n",
      "4               US  2020-01-26     158.375485    -442.264230         5.0   \n",
      "..             ...         ...            ...            ...         ...   \n",
      "340             US  2020-12-27  124119.377356 -298994.802493  19222064.0   \n",
      "341             US  2020-12-28  124119.377356 -298994.802493  19396237.0   \n",
      "342             US  2020-12-29  124119.377356 -298994.802493  19595117.0   \n",
      "343             US  2020-12-30  124119.377356 -298994.802493  19827133.0   \n",
      "344             US  2020-12-31  124119.377356 -298994.802493  20061049.0   \n",
      "\n",
      "     Recovered    Deaths    Predictions  \n",
      "0          0.0       0.0            NaN  \n",
      "1          0.0       0.0            NaN  \n",
      "2          0.0       0.0            NaN  \n",
      "3          0.0       0.0            NaN  \n",
      "4          0.0       0.0            NaN  \n",
      "..         ...       ...            ...  \n",
      "340        0.0  334533.0  281684.136115  \n",
      "341        0.0  336438.0  282520.640662  \n",
      "342        0.0  340061.0  283357.145209  \n",
      "343        0.0  343783.0  284193.649757  \n",
      "344        0.0  347170.0  285030.154306  \n",
      "\n",
      "[345 rows x 8 columns]\n"
     ]
    },
    {
     "name": "stderr",
     "output_type": "stream",
     "text": [
      "C:\\Users\\jacta\\anaconda3\\lib\\site-packages\\taipy\\gui\\gui.py:440: UserWarning: actualize_graph: callback function raised an exception: Variable 'selected' is not accessible.\n",
      "  warnings.warn(f\"{on_change or 'on_change'}: callback function raised an exception: {e}\")\n"
     ]
    }
   ],
   "source": [
    "gui.stop()\n",
    "page.set_content(prediction_md)\n",
    "gui.run()"
   ]
  },
  {
   "cell_type": "markdown",
   "id": "40a63136",
   "metadata": {
    "id": "40a63136"
   },
   "source": [
    "# 다중 페이지(Multi-pages) 및 Taipy Rest"
   ]
  },
  {
   "cell_type": "markdown",
   "id": "9b4d3ab8",
   "metadata": {
    "id": "9b4d3ab8"
   },
   "source": [
    "다중 페이지 앱을 만들려면 names이 keys로, Markdowns이 values으로 포함된 사전(dictionary)만 있으면 됩니다.\n",
    "\n",
    "_navbar_ 컨트롤 (<|navbar|>)에는 기본 동작(default behaviour)이 있습니다. 앱의 다른 페이지로 자동으로 리디렉션됩니다. 다른 솔루션도 있습니다."
   ]
  },
  {
   "cell_type": "markdown",
   "id": "77019d17",
   "metadata": {
    "id": "77019d17"
   },
   "source": [
    "![](img/multi_pages.png)"
   ]
  },
  {
   "cell_type": "code",
   "execution_count": null,
   "id": "b0db7725",
   "metadata": {
    "id": "b0db7725"
   },
   "outputs": [],
   "source": [
    "navbar_md = \"<center>\\n<|navbar|>\\n</center>\"\n",
    "\n",
    "pages = {\n",
    "    \"Map\":navbar_md+map_md,\n",
    "    \"Country\":navbar_md+final_country_md,\n",
    "    \"Predictions\":navbar_md+prediction_md\n",
    "}\n",
    "\n",
    "rest = tp.Rest()\n",
    "\n",
    "gui_multi_pages = Gui(pages=pages)\n",
    "tp.run(gui_multi_pages, rest, dark_mode=False, port=5006)"
   ]
  }
 ],
 "metadata": {
  "colab": {
   "collapsed_sections": [
    "b4ac0541",
    "6580b5fe",
    "f84e0a88",
    "cd4d0268",
    "f48f94cd",
    "6e528ce2",
    "6ab0529e",
    "b19ed6d7",
    "e9a53d43",
    "1908c988",
    "849d0a97",
    "73ab0ee0",
    "252820b6",
    "27dbc823",
    "986ebad5",
    "d9915978",
    "ba83beac",
    "73fd648f"
   ],
   "name": "Microsoft_workshop-exercice_en.ipynb",
   "provenance": []
  },
  "kernelspec": {
   "display_name": "Python 3 (ipykernel)",
   "language": "python",
   "name": "python3"
  },
  "language_info": {
   "codemirror_mode": {
    "name": "ipython",
    "version": 3
   },
   "file_extension": ".py",
   "mimetype": "text/x-python",
   "name": "python",
   "nbconvert_exporter": "python",
   "pygments_lexer": "ipython3",
   "version": "3.9.7"
  }
 },
 "nbformat": 4,
 "nbformat_minor": 5
}
