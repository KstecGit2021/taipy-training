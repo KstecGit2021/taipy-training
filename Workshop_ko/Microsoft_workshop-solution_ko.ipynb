{
 "cells": [
  {
   "cell_type": "markdown",
   "id": "306e5793",
   "metadata": {
    "id": "306e5793"
   },
   "source": [
    "# Taipy 설치\n",
    "\n",
    "Taipy를 설치하려면 그냥 `pip install` 하세요."
   ]
  },
  {
   "cell_type": "code",
   "execution_count": 1,
   "id": "c9cd05ba",
   "metadata": {
    "id": "c9cd05ba"
   },
   "outputs": [
    {
     "name": "stdout",
     "output_type": "stream",
     "text": [
      "Defaulting to user installation because normal site-packages is not writeable\n",
      "Requirement already satisfied: taipy in c:\\programdata\\anaconda3\\lib\\site-packages (1.1.0)\n",
      "Requirement already satisfied: taipy-rest<1.2,>=1.1 in c:\\programdata\\anaconda3\\lib\\site-packages (from taipy) (1.1.2)\n",
      "Requirement already satisfied: taipy-gui<1.2,>=1.1 in c:\\programdata\\anaconda3\\lib\\site-packages (from taipy) (1.1.2)\n",
      "Requirement already satisfied: flask-cors<4.0,>=3.0.10 in c:\\programdata\\anaconda3\\lib\\site-packages (from taipy-gui<1.2,>=1.1->taipy) (3.0.10)\n",
      "Requirement already satisfied: pandas<2.0,>=1.3.4 in c:\\programdata\\anaconda3\\lib\\site-packages (from taipy-gui<1.2,>=1.1->taipy) (1.4.2)\n",
      "Requirement already satisfied: tzlocal<5.0,>=3.0 in c:\\programdata\\anaconda3\\lib\\site-packages (from taipy-gui<1.2,>=1.1->taipy) (4.2)\n",
      "Requirement already satisfied: simple-websocket<0.6,>=0.3 in c:\\programdata\\anaconda3\\lib\\site-packages (from taipy-gui<1.2,>=1.1->taipy) (0.5.2)\n",
      "Requirement already satisfied: flask<3.0,>=2.1 in c:\\programdata\\anaconda3\\lib\\site-packages (from taipy-gui<1.2,>=1.1->taipy) (2.2.2)\n",
      "Requirement already satisfied: pytz<2022.2,>=2021.3 in c:\\programdata\\anaconda3\\lib\\site-packages (from taipy-gui<1.2,>=1.1->taipy) (2021.3)\n",
      "Requirement already satisfied: flask-socketio<6.0,>=5.1.1 in c:\\programdata\\anaconda3\\lib\\site-packages (from taipy-gui<1.2,>=1.1->taipy) (5.2.0)\n",
      "Requirement already satisfied: python-dotenv<0.21,>=0.19 in c:\\programdata\\anaconda3\\lib\\site-packages (from taipy-gui<1.2,>=1.1->taipy) (0.20.0)\n",
      "Requirement already satisfied: flask-talisman<2.0,>=1.0 in c:\\programdata\\anaconda3\\lib\\site-packages (from taipy-gui<1.2,>=1.1->taipy) (1.0.0)\n",
      "Requirement already satisfied: markdown<4.0,>=3.3.4 in c:\\programdata\\anaconda3\\lib\\site-packages (from taipy-gui<1.2,>=1.1->taipy) (3.3.4)\n",
      "Requirement already satisfied: itsdangerous>=2.0 in c:\\programdata\\anaconda3\\lib\\site-packages (from flask<3.0,>=2.1->taipy-gui<1.2,>=1.1->taipy) (2.0.1)\n",
      "Requirement already satisfied: Jinja2>=3.0 in c:\\programdata\\anaconda3\\lib\\site-packages (from flask<3.0,>=2.1->taipy-gui<1.2,>=1.1->taipy) (3.1.2)\n",
      "Requirement already satisfied: importlib-metadata>=3.6.0 in c:\\programdata\\anaconda3\\lib\\site-packages (from flask<3.0,>=2.1->taipy-gui<1.2,>=1.1->taipy) (4.11.3)\n",
      "Requirement already satisfied: Werkzeug>=2.2.2 in c:\\programdata\\anaconda3\\lib\\site-packages (from flask<3.0,>=2.1->taipy-gui<1.2,>=1.1->taipy) (2.2.2)\n",
      "Requirement already satisfied: click>=8.0 in c:\\programdata\\anaconda3\\lib\\site-packages (from flask<3.0,>=2.1->taipy-gui<1.2,>=1.1->taipy) (8.0.4)\n",
      "Requirement already satisfied: colorama in c:\\programdata\\anaconda3\\lib\\site-packages (from click>=8.0->flask<3.0,>=2.1->taipy-gui<1.2,>=1.1->taipy) (0.4.4)\n",
      "Requirement already satisfied: Six in c:\\programdata\\anaconda3\\lib\\site-packages (from flask-cors<4.0,>=3.0.10->taipy-gui<1.2,>=1.1->taipy) (1.16.0)\n",
      "Requirement already satisfied: python-socketio>=5.0.2 in c:\\programdata\\anaconda3\\lib\\site-packages (from flask-socketio<6.0,>=5.1.1->taipy-gui<1.2,>=1.1->taipy) (5.7.1)\n",
      "Requirement already satisfied: zipp>=0.5 in c:\\programdata\\anaconda3\\lib\\site-packages (from importlib-metadata>=3.6.0->flask<3.0,>=2.1->taipy-gui<1.2,>=1.1->taipy) (3.7.0)\n",
      "Requirement already satisfied: MarkupSafe>=2.0 in c:\\programdata\\anaconda3\\lib\\site-packages (from Jinja2>=3.0->flask<3.0,>=2.1->taipy-gui<1.2,>=1.1->taipy) (2.1.1)\n",
      "Requirement already satisfied: python-dateutil>=2.8.1 in c:\\programdata\\anaconda3\\lib\\site-packages (from pandas<2.0,>=1.3.4->taipy-gui<1.2,>=1.1->taipy) (2.8.2)\n",
      "Requirement already satisfied: numpy>=1.18.5 in c:\\programdata\\anaconda3\\lib\\site-packages (from pandas<2.0,>=1.3.4->taipy-gui<1.2,>=1.1->taipy) (1.21.5)\n",
      "Requirement already satisfied: python-engineio>=4.3.0 in c:\\programdata\\anaconda3\\lib\\site-packages (from python-socketio>=5.0.2->flask-socketio<6.0,>=5.1.1->taipy-gui<1.2,>=1.1->taipy) (4.3.4)\n",
      "Requirement already satisfied: bidict>=0.21.0 in c:\\programdata\\anaconda3\\lib\\site-packages (from python-socketio>=5.0.2->flask-socketio<6.0,>=5.1.1->taipy-gui<1.2,>=1.1->taipy) (0.22.0)\n",
      "Requirement already satisfied: wsproto in c:\\programdata\\anaconda3\\lib\\site-packages (from simple-websocket<0.6,>=0.3->taipy-gui<1.2,>=1.1->taipy) (1.1.0)\n",
      "Requirement already satisfied: taipy-core<1.2,>=1.1 in c:\\programdata\\anaconda3\\lib\\site-packages (from taipy-rest<1.2,>=1.1->taipy) (1.1.3)\n",
      "Requirement already satisfied: marshmallow-sqlalchemy<0.29,>=0.25 in c:\\programdata\\anaconda3\\lib\\site-packages (from taipy-rest<1.2,>=1.1->taipy) (0.28.1)\n",
      "Requirement already satisfied: flask-restful<0.4,>=0.3.9 in c:\\programdata\\anaconda3\\lib\\site-packages (from taipy-rest<1.2,>=1.1->taipy) (0.3.9)\n",
      "Requirement already satisfied: flask-jwt-extended<5.0,>=4.3 in c:\\programdata\\anaconda3\\lib\\site-packages (from taipy-rest<1.2,>=1.1->taipy) (4.4.3)\n",
      "Requirement already satisfied: flask-marshmallow<0.15,>=0.14 in c:\\programdata\\anaconda3\\lib\\site-packages (from taipy-rest<1.2,>=1.1->taipy) (0.14.0)\n",
      "Requirement already satisfied: apispec[yaml]<6.0,>=5.1 in c:\\programdata\\anaconda3\\lib\\site-packages (from taipy-rest<1.2,>=1.1->taipy) (5.2.2)\n",
      "Requirement already satisfied: apispec-webframeworks<0.6,>=0.5.2 in c:\\programdata\\anaconda3\\lib\\site-packages (from taipy-rest<1.2,>=1.1->taipy) (0.5.2)\n",
      "Requirement already satisfied: flask-migrate<4.0,>=3.1 in c:\\programdata\\anaconda3\\lib\\site-packages (from taipy-rest<1.2,>=1.1->taipy) (3.1.0)\n",
      "Requirement already satisfied: passlib<1.8,>=1.7.4 in c:\\programdata\\anaconda3\\lib\\site-packages (from taipy-rest<1.2,>=1.1->taipy) (1.7.4)\n",
      "Requirement already satisfied: PyYAML>=3.10 in c:\\programdata\\anaconda3\\lib\\site-packages (from apispec[yaml]<6.0,>=5.1->taipy-rest<1.2,>=1.1->taipy) (6.0)\n",
      "Requirement already satisfied: PyJWT<3.0,>=2.0 in c:\\programdata\\anaconda3\\lib\\site-packages (from flask-jwt-extended<5.0,>=4.3->taipy-rest<1.2,>=1.1->taipy) (2.1.0)\n",
      "Requirement already satisfied: marshmallow>=2.0.0 in c:\\programdata\\anaconda3\\lib\\site-packages (from flask-marshmallow<0.15,>=0.14->taipy-rest<1.2,>=1.1->taipy) (3.17.0)\n",
      "Requirement already satisfied: alembic>=0.7 in c:\\programdata\\anaconda3\\lib\\site-packages (from flask-migrate<4.0,>=3.1->taipy-rest<1.2,>=1.1->taipy) (1.8.1)\n",
      "Requirement already satisfied: Flask-SQLAlchemy>=1.0 in c:\\programdata\\anaconda3\\lib\\site-packages (from flask-migrate<4.0,>=3.1->taipy-rest<1.2,>=1.1->taipy) (2.5.1)\n",
      "Requirement already satisfied: Mako in c:\\programdata\\anaconda3\\lib\\site-packages (from alembic>=0.7->flask-migrate<4.0,>=3.1->taipy-rest<1.2,>=1.1->taipy) (1.2.1)\n",
      "Requirement already satisfied: SQLAlchemy>=1.3.0 in c:\\programdata\\anaconda3\\lib\\site-packages (from alembic>=0.7->flask-migrate<4.0,>=3.1->taipy-rest<1.2,>=1.1->taipy) (1.4.32)\n",
      "Requirement already satisfied: aniso8601>=0.82 in c:\\programdata\\anaconda3\\lib\\site-packages (from flask-restful<0.4,>=0.3.9->taipy-rest<1.2,>=1.1->taipy) (9.0.1)\n",
      "Requirement already satisfied: packaging>=17.0 in c:\\programdata\\anaconda3\\lib\\site-packages (from marshmallow>=2.0.0->flask-marshmallow<0.15,>=0.14->taipy-rest<1.2,>=1.1->taipy) (21.3)\n",
      "Requirement already satisfied: pyparsing!=3.0.5,>=2.0.2 in c:\\programdata\\anaconda3\\lib\\site-packages (from packaging>=17.0->marshmallow>=2.0.0->flask-marshmallow<0.15,>=0.14->taipy-rest<1.2,>=1.1->taipy) (3.0.4)\n",
      "Requirement already satisfied: greenlet!=0.4.17 in c:\\programdata\\anaconda3\\lib\\site-packages (from SQLAlchemy>=1.3.0->alembic>=0.7->flask-migrate<4.0,>=3.1->taipy-rest<1.2,>=1.1->taipy) (1.1.1)\n",
      "Requirement already satisfied: openpyxl<4.0,>=3.0.3 in c:\\programdata\\anaconda3\\lib\\site-packages (from taipy-core<1.2,>=1.1->taipy-rest<1.2,>=1.1->taipy) (3.0.9)\n",
      "Requirement already satisfied: networkx<3.0,>=2.6 in c:\\programdata\\anaconda3\\lib\\site-packages (from taipy-core<1.2,>=1.1->taipy-rest<1.2,>=1.1->taipy) (2.7.1)\n",
      "Requirement already satisfied: toml<0.11,>=0.10 in c:\\programdata\\anaconda3\\lib\\site-packages (from taipy-core<1.2,>=1.1->taipy-rest<1.2,>=1.1->taipy) (0.10.2)\n",
      "Requirement already satisfied: et-xmlfile in c:\\programdata\\anaconda3\\lib\\site-packages (from openpyxl<4.0,>=3.0.3->taipy-core<1.2,>=1.1->taipy-rest<1.2,>=1.1->taipy) (1.1.0)\n",
      "Requirement already satisfied: pytz-deprecation-shim in c:\\programdata\\anaconda3\\lib\\site-packages (from tzlocal<5.0,>=3.0->taipy-gui<1.2,>=1.1->taipy) (0.1.0.post0)\n",
      "Requirement already satisfied: tzdata in c:\\programdata\\anaconda3\\lib\\site-packages (from tzlocal<5.0,>=3.0->taipy-gui<1.2,>=1.1->taipy) (2022.1)\n",
      "Requirement already satisfied: h11<1,>=0.9.0 in c:\\programdata\\anaconda3\\lib\\site-packages (from wsproto->simple-websocket<0.6,>=0.3->taipy-gui<1.2,>=1.1->taipy) (0.13.0)\n",
      "Note: you may need to restart the kernel to use updated packages.\n"
     ]
    }
   ],
   "source": [
    "pip install taipy"
   ]
  },
  {
   "cell_type": "code",
   "execution_count": 2,
   "id": "c870cd8b",
   "metadata": {
    "id": "c870cd8b"
   },
   "outputs": [
    {
     "name": "stdout",
     "output_type": "stream",
     "text": [
      "Defaulting to user installation because normal site-packages is not writeable\n",
      "Requirement already satisfied: pmdarima in c:\\programdata\\anaconda3\\lib\\site-packages (1.8.5)\n",
      "Requirement already satisfied: numpy>=1.19.3 in c:\\programdata\\anaconda3\\lib\\site-packages (from pmdarima) (1.21.5)\n",
      "Requirement already satisfied: Cython!=0.29.18,>=0.29 in c:\\programdata\\anaconda3\\lib\\site-packages (from pmdarima) (0.29.28)\n",
      "Requirement already satisfied: setuptools!=50.0.0,>=38.6.0 in c:\\programdata\\anaconda3\\lib\\site-packages (from pmdarima) (61.2.0)\n",
      "Requirement already satisfied: pandas>=0.19 in c:\\programdata\\anaconda3\\lib\\site-packages (from pmdarima) (1.4.2)\n",
      "Requirement already satisfied: scipy>=1.3.2 in c:\\programdata\\anaconda3\\lib\\site-packages (from pmdarima) (1.7.3)\n",
      "Requirement already satisfied: scikit-learn>=0.22 in c:\\programdata\\anaconda3\\lib\\site-packages (from pmdarima) (1.0.2)\n",
      "Requirement already satisfied: statsmodels!=0.12.0,>=0.11 in c:\\programdata\\anaconda3\\lib\\site-packages (from pmdarima) (0.13.2)\n",
      "Requirement already satisfied: urllib3 in c:\\programdata\\anaconda3\\lib\\site-packages (from pmdarima) (1.26.9)\n",
      "Requirement already satisfied: joblib>=0.11 in c:\\programdata\\anaconda3\\lib\\site-packages (from pmdarima) (1.1.0)\n",
      "Requirement already satisfied: python-dateutil>=2.8.1 in c:\\programdata\\anaconda3\\lib\\site-packages (from pandas>=0.19->pmdarima) (2.8.2)\n",
      "Requirement already satisfied: pytz>=2020.1 in c:\\programdata\\anaconda3\\lib\\site-packages (from pandas>=0.19->pmdarima) (2021.3)\n",
      "Requirement already satisfied: six>=1.5 in c:\\programdata\\anaconda3\\lib\\site-packages (from python-dateutil>=2.8.1->pandas>=0.19->pmdarima) (1.16.0)\n",
      "Requirement already satisfied: threadpoolctl>=2.0.0 in c:\\programdata\\anaconda3\\lib\\site-packages (from scikit-learn>=0.22->pmdarima) (2.2.0)\n",
      "Requirement already satisfied: patsy>=0.5.2 in c:\\programdata\\anaconda3\\lib\\site-packages (from statsmodels!=0.12.0,>=0.11->pmdarima) (0.5.2)\n",
      "Requirement already satisfied: packaging>=21.3 in c:\\programdata\\anaconda3\\lib\\site-packages (from statsmodels!=0.12.0,>=0.11->pmdarima) (21.3)\n",
      "Requirement already satisfied: pyparsing!=3.0.5,>=2.0.2 in c:\\programdata\\anaconda3\\lib\\site-packages (from packaging>=21.3->statsmodels!=0.12.0,>=0.11->pmdarima) (3.0.4)\n",
      "Note: you may need to restart the kernel to use updated packages.\n"
     ]
    }
   ],
   "source": [
    "pip install pmdarima"
   ]
  },
  {
   "cell_type": "code",
   "execution_count": 3,
   "id": "7186867d",
   "metadata": {
    "id": "7186867d"
   },
   "outputs": [
    {
     "name": "stdout",
     "output_type": "stream",
     "text": [
      "Defaulting to user installation because normal site-packages is not writeable\n",
      "Requirement already satisfied: requests in c:\\programdata\\anaconda3\\lib\\site-packages (2.27.1)\n",
      "Requirement already satisfied: charset-normalizer~=2.0.0 in c:\\programdata\\anaconda3\\lib\\site-packages (from requests) (2.0.4)\n",
      "Requirement already satisfied: urllib3<1.27,>=1.21.1 in c:\\programdata\\anaconda3\\lib\\site-packages (from requests) (1.26.9)\n",
      "Requirement already satisfied: certifi>=2017.4.17 in c:\\programdata\\anaconda3\\lib\\site-packages (from requests) (2021.10.8)\n",
      "Requirement already satisfied: idna<4,>=2.5 in c:\\programdata\\anaconda3\\lib\\site-packages (from requests) (3.3)\n",
      "Note: you may need to restart the kernel to use updated packages.\n"
     ]
    }
   ],
   "source": [
    "pip install requests"
   ]
  },
  {
   "cell_type": "markdown",
   "id": "c42e5ded",
   "metadata": {
    "id": "c42e5ded"
   },
   "source": [
    "# 패키지 가져오기 및 초기화"
   ]
  },
  {
   "cell_type": "code",
   "execution_count": 4,
   "id": "d69871ac",
   "metadata": {
    "id": "d69871ac"
   },
   "outputs": [],
   "source": [
    "from taipy.gui import Gui, Markdown, notify\n",
    "from taipy import Config\n",
    "import taipy as tp\n",
    "\n",
    "import datetime as dt\n",
    "\n",
    "from pmdarima import auto_arima\n",
    "\n",
    "import pandas as pd\n",
    "import numpy as np\n",
    "\n",
    "import requests"
   ]
  },
  {
   "cell_type": "code",
   "execution_count": 5,
   "id": "62085243",
   "metadata": {
    "id": "62085243"
   },
   "outputs": [],
   "source": [
    "from pandas.core.common import SettingWithCopyWarning\n",
    "import warnings\n",
    "\n",
    "warnings.simplefilter(action=\"ignore\", category=SettingWithCopyWarning)\n",
    "\n",
    "data_country_date = None\n",
    "selected_country = None\n",
    "\n",
    "selected_scenario = None\n",
    "scenario_selector = None\n",
    "\n",
    "scenario_name = None\n",
    "\n",
    "result = None\n",
    "\n",
    "selected_points = []\n",
    "\n",
    "data_province_displayed = None\n",
    "\n",
    "api_year = None\n",
    "api_pop = None\n",
    "api_country = None"
   ]
  },
  {
   "cell_type": "markdown",
   "id": "81074375",
   "metadata": {
    "id": "81074375"
   },
   "source": [
    "# Taipy Gui 기본\n",
    "## 마크다운 구문"
   ]
  },
  {
   "cell_type": "markdown",
   "id": "8ad49481",
   "metadata": {
    "id": "8ad49481"
   },
   "source": [
    "Taipy는 Markdown 구문을 사용하여 요소를 표시합니다. `#` 제목을 만들고 `*` 텍스트를 기울임꼴로 표시하고 `**` 굵게 표시합니다."
   ]
  },
  {
   "cell_type": "markdown",
   "id": "929a56cf",
   "metadata": {
    "id": "929a56cf"
   },
   "source": [
    "![](img/gui_basic_eng.png)"
   ]
  },
  {
   "cell_type": "code",
   "execution_count": 6,
   "id": "a170a8e5",
   "metadata": {
    "id": "a170a8e5"
   },
   "outputs": [],
   "source": [
    "page_md = \"\"\"\n",
    "# Taipy\n",
    "\n",
    "Test **here** to put some *markdown*\n",
    "\n",
    "Click to access the [doc](https://docs.taipy.io/en/latest/)\n",
    "\"\"\""
   ]
  },
  {
   "cell_type": "code",
   "execution_count": 7,
   "id": "1cf6cf9d",
   "metadata": {
    "id": "1cf6cf9d",
    "outputId": "d69b4a02-2df5-4830-a043-9c2b5a423d0b"
   },
   "outputs": [
    {
     "name": "stdout",
     "output_type": "stream",
     "text": [
      " * Server starting on http://127.0.0.1:5000\n",
      " * Serving Flask app 'Taipy'\n",
      " * Debug mode: off\n"
     ]
    }
   ],
   "source": [
    "page = Markdown(page_md)\n",
    "\n",
    "gui = Gui(page=page)\n",
    "gui.run(dark_mode=False)"
   ]
  },
  {
   "cell_type": "markdown",
   "id": "ea452214",
   "metadata": {
    "id": "ea452214"
   },
   "source": [
    "## 시각적 요소\n",
    "다양한 시각적 요소를 만듭니다. 구문은 각 시각적 요소에 대해 항상 동일합니다.  \n",
    "`<|{value}|name_of_visual_element|property_1=value_of_property_1|...|>`\n",
    "- [slider](https://docs.taipy.io/en/latest/manuals/gui/viselements/slider/) 만들기 `<|{value}|slider|>`\n",
    "\n",
    "- [date](https://docs.taipy.io/en/latest/manuals/gui/viselements/date/) 만들기 `<|{value}|date|>`\n",
    "\n",
    "- [selector](https://docs.taipy.io/en/latest/manuals/gui/viselements/selector/) 만들기 `<|{value}|selector|lov={list_of_values}|>` \n"
   ]
  },
  {
   "cell_type": "markdown",
   "id": "68f228f9",
   "metadata": {
    "id": "68f228f9"
   },
   "source": [
    "![](img/control.png)"
   ]
  },
  {
   "cell_type": "code",
   "execution_count": 8,
   "id": "eb6455bd",
   "metadata": {
    "id": "eb6455bd"
   },
   "outputs": [],
   "source": [
    "slider_value = 0\n",
    "date_value = None\n",
    "selected_value = None"
   ]
  },
  {
   "cell_type": "code",
   "execution_count": 9,
   "id": "bc42cca4",
   "metadata": {
    "id": "bc42cca4"
   },
   "outputs": [],
   "source": [
    "selector = ['Test 1', 'Test 2', 'Test 3']\n",
    "\n",
    "control_md = \"\"\"\n",
    "## Controls\n",
    "\n",
    "<|{slider_value}|slider|> <|{slider_value}|>\n",
    "\n",
    "<|{date_value}|date|> <|{date_value}|>\n",
    "\n",
    "<|{selected_value}|selector|lov={selector}|>  <|{selected_value}|>\n",
    "\"\"\""
   ]
  },
  {
   "cell_type": "code",
   "execution_count": 10,
   "id": "5986d8a8",
   "metadata": {
    "id": "5986d8a8",
    "outputId": "7691b852-4d69-4402-f02e-53d5feb44529"
   },
   "outputs": [
    {
     "name": "stdout",
     "output_type": "stream",
     "text": [
      "Gui server has been stopped\n",
      " * Server starting on http://127.0.0.1:5001\n",
      " * Serving Flask app 'Taipy'\n",
      " * Debug mode: off\n"
     ]
    }
   ],
   "source": [
    "gui.stop()\n",
    "page.set_content(control_md)\n",
    "gui.run(port=5001)"
   ]
  },
  {
   "cell_type": "markdown",
   "id": "b4ac0541",
   "metadata": {
    "id": "b4ac0541"
   },
   "source": [
    "## 데이터 비주얼리제이션\n",
    "\n",
    "다른 지역의 사망자, 확인된 사례 및 회복된 수에 대한 정보를 수집하는 데이터 세트는 대화형 대시보드를 만드는 데 사용됩니다."
   ]
  },
  {
   "cell_type": "code",
   "execution_count": 11,
   "id": "49bd29ff",
   "metadata": {
    "id": "49bd29ff",
    "outputId": "b0900888-a15b-4af2-a97d-f796aa28cc46"
   },
   "outputs": [
    {
     "data": {
      "text/html": [
       "<div>\n",
       "<style scoped>\n",
       "    .dataframe tbody tr th:only-of-type {\n",
       "        vertical-align: middle;\n",
       "    }\n",
       "\n",
       "    .dataframe tbody tr th {\n",
       "        vertical-align: top;\n",
       "    }\n",
       "\n",
       "    .dataframe thead th {\n",
       "        text-align: right;\n",
       "    }\n",
       "</style>\n",
       "<table border=\"1\" class=\"dataframe\">\n",
       "  <thead>\n",
       "    <tr style=\"text-align: right;\">\n",
       "      <th></th>\n",
       "      <th>Country/Region</th>\n",
       "      <th>Province/State</th>\n",
       "      <th>Latitude</th>\n",
       "      <th>Longitude</th>\n",
       "      <th>Confirmed</th>\n",
       "      <th>Recovered</th>\n",
       "      <th>Deaths</th>\n",
       "      <th>Date</th>\n",
       "    </tr>\n",
       "  </thead>\n",
       "  <tbody>\n",
       "    <tr>\n",
       "      <th>1241947</th>\n",
       "      <td>Vietnam</td>\n",
       "      <td>NaN</td>\n",
       "      <td>14.058324</td>\n",
       "      <td>108.277199</td>\n",
       "      <td>1465.0</td>\n",
       "      <td>1325.0</td>\n",
       "      <td>35.0</td>\n",
       "      <td>2020-12-31</td>\n",
       "    </tr>\n",
       "    <tr>\n",
       "      <th>1241948</th>\n",
       "      <td>West Bank and Gaza</td>\n",
       "      <td>NaN</td>\n",
       "      <td>31.952200</td>\n",
       "      <td>35.233200</td>\n",
       "      <td>138004.0</td>\n",
       "      <td>117183.0</td>\n",
       "      <td>1400.0</td>\n",
       "      <td>2020-12-31</td>\n",
       "    </tr>\n",
       "    <tr>\n",
       "      <th>1241949</th>\n",
       "      <td>Yemen</td>\n",
       "      <td>NaN</td>\n",
       "      <td>15.552727</td>\n",
       "      <td>48.516388</td>\n",
       "      <td>2099.0</td>\n",
       "      <td>1394.0</td>\n",
       "      <td>610.0</td>\n",
       "      <td>2020-12-31</td>\n",
       "    </tr>\n",
       "    <tr>\n",
       "      <th>1241950</th>\n",
       "      <td>Zambia</td>\n",
       "      <td>NaN</td>\n",
       "      <td>-13.133897</td>\n",
       "      <td>27.849332</td>\n",
       "      <td>20725.0</td>\n",
       "      <td>18660.0</td>\n",
       "      <td>388.0</td>\n",
       "      <td>2020-12-31</td>\n",
       "    </tr>\n",
       "    <tr>\n",
       "      <th>1241951</th>\n",
       "      <td>Zimbabwe</td>\n",
       "      <td>NaN</td>\n",
       "      <td>-19.015438</td>\n",
       "      <td>29.154857</td>\n",
       "      <td>13867.0</td>\n",
       "      <td>11250.0</td>\n",
       "      <td>363.0</td>\n",
       "      <td>2020-12-31</td>\n",
       "    </tr>\n",
       "  </tbody>\n",
       "</table>\n",
       "</div>"
      ],
      "text/plain": [
       "             Country/Region Province/State   Latitude   Longitude  Confirmed  \\\n",
       "1241947             Vietnam            NaN  14.058324  108.277199     1465.0   \n",
       "1241948  West Bank and Gaza            NaN  31.952200   35.233200   138004.0   \n",
       "1241949               Yemen            NaN  15.552727   48.516388     2099.0   \n",
       "1241950              Zambia            NaN -13.133897   27.849332    20725.0   \n",
       "1241951            Zimbabwe            NaN -19.015438   29.154857    13867.0   \n",
       "\n",
       "         Recovered  Deaths        Date  \n",
       "1241947     1325.0    35.0  2020-12-31  \n",
       "1241948   117183.0  1400.0  2020-12-31  \n",
       "1241949     1394.0   610.0  2020-12-31  \n",
       "1241950    18660.0   388.0  2020-12-31  \n",
       "1241951    11250.0   363.0  2020-12-31  "
      ]
     },
     "execution_count": 11,
     "metadata": {},
     "output_type": "execute_result"
    }
   ],
   "source": [
    "path_to_data = \"data/covid-19-all.csv\"\n",
    "data = pd.read_csv(path_to_data, low_memory=False)\n",
    "data[-5:]"
   ]
  },
  {
   "cell_type": "code",
   "execution_count": 12,
   "id": "18b5bb55",
   "metadata": {
    "id": "18b5bb55"
   },
   "outputs": [],
   "source": [
    "def initialize_case_evolution(data, selected_country='France'):\n",
    "    # Aggregation of the dataframe per Country/Region\n",
    "    data_country_date = data.groupby([\"Country/Region\",'Date'])\\\n",
    "                            .sum()\\\n",
    "                            .reset_index()\n",
    "    \n",
    "    # a country is selected, here France by default\n",
    "    data_country_date = data_country_date.loc[data_country_date['Country/Region']==selected_country]\n",
    "    return data_country_date"
   ]
  },
  {
   "cell_type": "code",
   "execution_count": 13,
   "id": "f5ae821c",
   "metadata": {
    "id": "f5ae821c",
    "outputId": "0ca17075-c088-437a-b6e3-48a798a0bdde"
   },
   "outputs": [
    {
     "data": {
      "text/html": [
       "<div>\n",
       "<style scoped>\n",
       "    .dataframe tbody tr th:only-of-type {\n",
       "        vertical-align: middle;\n",
       "    }\n",
       "\n",
       "    .dataframe tbody tr th {\n",
       "        vertical-align: top;\n",
       "    }\n",
       "\n",
       "    .dataframe thead th {\n",
       "        text-align: right;\n",
       "    }\n",
       "</style>\n",
       "<table border=\"1\" class=\"dataframe\">\n",
       "  <thead>\n",
       "    <tr style=\"text-align: right;\">\n",
       "      <th></th>\n",
       "      <th>Country/Region</th>\n",
       "      <th>Date</th>\n",
       "      <th>Latitude</th>\n",
       "      <th>Longitude</th>\n",
       "      <th>Confirmed</th>\n",
       "      <th>Recovered</th>\n",
       "      <th>Deaths</th>\n",
       "    </tr>\n",
       "  </thead>\n",
       "  <tbody>\n",
       "    <tr>\n",
       "      <th>18101</th>\n",
       "      <td>France</td>\n",
       "      <td>2020-01-24</td>\n",
       "      <td>14.6415</td>\n",
       "      <td>-56.3159</td>\n",
       "      <td>2.0</td>\n",
       "      <td>0.0</td>\n",
       "      <td>0.0</td>\n",
       "    </tr>\n",
       "    <tr>\n",
       "      <th>18102</th>\n",
       "      <td>France</td>\n",
       "      <td>2020-01-25</td>\n",
       "      <td>14.6415</td>\n",
       "      <td>-56.3159</td>\n",
       "      <td>3.0</td>\n",
       "      <td>0.0</td>\n",
       "      <td>0.0</td>\n",
       "    </tr>\n",
       "    <tr>\n",
       "      <th>18103</th>\n",
       "      <td>France</td>\n",
       "      <td>2020-01-26</td>\n",
       "      <td>14.6415</td>\n",
       "      <td>-56.3159</td>\n",
       "      <td>3.0</td>\n",
       "      <td>0.0</td>\n",
       "      <td>0.0</td>\n",
       "    </tr>\n",
       "    <tr>\n",
       "      <th>18104</th>\n",
       "      <td>France</td>\n",
       "      <td>2020-01-27</td>\n",
       "      <td>14.6415</td>\n",
       "      <td>-56.3159</td>\n",
       "      <td>3.0</td>\n",
       "      <td>0.0</td>\n",
       "      <td>0.0</td>\n",
       "    </tr>\n",
       "    <tr>\n",
       "      <th>18105</th>\n",
       "      <td>France</td>\n",
       "      <td>2020-01-28</td>\n",
       "      <td>14.6415</td>\n",
       "      <td>-56.3159</td>\n",
       "      <td>4.0</td>\n",
       "      <td>0.0</td>\n",
       "      <td>0.0</td>\n",
       "    </tr>\n",
       "  </tbody>\n",
       "</table>\n",
       "</div>"
      ],
      "text/plain": [
       "      Country/Region        Date  Latitude  Longitude  Confirmed  Recovered  \\\n",
       "18101         France  2020-01-24   14.6415   -56.3159        2.0        0.0   \n",
       "18102         France  2020-01-25   14.6415   -56.3159        3.0        0.0   \n",
       "18103         France  2020-01-26   14.6415   -56.3159        3.0        0.0   \n",
       "18104         France  2020-01-27   14.6415   -56.3159        3.0        0.0   \n",
       "18105         France  2020-01-28   14.6415   -56.3159        4.0        0.0   \n",
       "\n",
       "       Deaths  \n",
       "18101     0.0  \n",
       "18102     0.0  \n",
       "18103     0.0  \n",
       "18104     0.0  \n",
       "18105     0.0  "
      ]
     },
     "execution_count": 13,
     "metadata": {},
     "output_type": "execute_result"
    }
   ],
   "source": [
    "data_country_date = initialize_case_evolution(data)\n",
    "data_country_date.head()"
   ]
  },
  {
   "cell_type": "markdown",
   "id": "d1fd9854",
   "metadata": {
    "id": "d1fd9854"
   },
   "source": [
    "프랑스의 사망자수( Y 는 사망자수 , x 는 날짜 )의 변화를 보여주는 [차트](https://docs.taipy.io/en/latest/manuals/gui/viselements/chart/) 를 만듭니다 . 시각적 요소(차트)는 특정 속성(예: x , y , 유형 )이 있는 다른 요소와 동일한 구문을 사용합니다 . 다음은 [차트의 몇 가지 예](https://docs.taipy.io/en/release-1.1/manuals/gui/viselements/charts/bar/)입니다 . x 및 y 속성 은 표시할 데이터 프레임 열의 이름만 필요합니다."
   ]
  },
  {
   "cell_type": "markdown",
   "id": "bebeb0eb",
   "metadata": {
    "id": "bebeb0eb"
   },
   "source": [
    "![](img/simple_graph.png)"
   ]
  },
  {
   "cell_type": "code",
   "execution_count": 14,
   "id": "baa8dc69",
   "metadata": {
    "id": "baa8dc69"
   },
   "outputs": [],
   "source": [
    "country_md = \"<|{data_country_date}|chart|x=Date|y=Deaths|type=bar|>\""
   ]
  },
  {
   "cell_type": "code",
   "execution_count": 15,
   "id": "e83c2f04",
   "metadata": {
    "id": "e83c2f04",
    "outputId": "3e87cb87-81c4-4a45-8b35-156a2621457c"
   },
   "outputs": [
    {
     "name": "stdout",
     "output_type": "stream",
     "text": [
      "Gui server has been stopped\n",
      " * Server starting on http://127.0.0.1:5002\n",
      " * Serving Flask app 'Taipy'\n",
      " * Debug mode: off\n"
     ]
    }
   ],
   "source": [
    "gui.stop()\n",
    "page.set_content(country_md)\n",
    "gui.run(port=5002)"
   ]
  },
  {
   "cell_type": "markdown",
   "id": "6580b5fe",
   "metadata": {
    "id": "6580b5fe"
   },
   "source": [
    "## 새 추적(traces) 추가 \n",
    "- 그래프에 확인 및 회복된 사례 수(_확증_ 및 _회복_)를 사망자 수와 함께 추가합니다.\n",
    "- y (및 x)는 더 많은 추적(`y[1]=`, `y[2]=`, `y[3]=`)을 추가하기 위해 이러한 방식으로 인덱싱될 수 있습니다."
   ]
  },
  {
   "cell_type": "markdown",
   "id": "baf9d2b6",
   "metadata": {
    "id": "baf9d2b6"
   },
   "source": [
    "![](img/multi_traces.png)"
   ]
  },
  {
   "cell_type": "code",
   "execution_count": 16,
   "id": "242756d9",
   "metadata": {
    "id": "242756d9"
   },
   "outputs": [],
   "source": [
    "country_md = \"<|{data_country_date}|chart|type=bar|x=Date|y[1]=Deaths|y[2]=Recovered|y[3]=Confirmed|>\""
   ]
  },
  {
   "cell_type": "code",
   "execution_count": 17,
   "id": "4f65f1a2",
   "metadata": {
    "id": "4f65f1a2",
    "outputId": "10b40d69-445e-4a73-f69f-0f67fc5a4b9a"
   },
   "outputs": [
    {
     "name": "stdout",
     "output_type": "stream",
     "text": [
      "Gui server has been stopped\n",
      " * Server starting on http://127.0.0.1:5003\n",
      " * Serving Flask app 'Taipy'\n",
      " * Debug mode: off\n"
     ]
    }
   ],
   "source": [
    "gui.stop()\n",
    "page.set_content(country_md)\n",
    "gui.run(port=5003)"
   ]
  },
  {
   "cell_type": "markdown",
   "id": "f84e0a88",
   "metadata": {
    "id": "f84e0a88"
   },
   "source": [
    "## 개인화된 속성으로 그래프 스타일 지정 \n",
    "_layout_ 사전(dictionnary)은 막대가 표시되는 방법을 지정합니다. 그것들은 '쌓일(stacked)'될 것입니다.\n",
    "\n",
    "_options_ 사전(dictionnary)은 선택되지 않은 마커(maker)의 불투명도(opacity)를 변경합니다 .\n",
    "\n",
    "이것들은 Plotly 속성입니다."
   ]
  },
  {
   "cell_type": "markdown",
   "id": "99c5d669",
   "metadata": {
    "id": "99c5d669"
   },
   "source": [
    "![](img/stack_chart.png)"
   ]
  },
  {
   "cell_type": "code",
   "execution_count": 18,
   "id": "f068e3ba",
   "metadata": {
    "id": "f068e3ba"
   },
   "outputs": [],
   "source": [
    "layout = {'barmode':'stack'}\n",
    "options = {\"unselected\":{\"marker\":{\"opacity\":0.5}}}\n",
    "country_md = \"<|{data_country_date}|chart|type=bar|x=Date|y[1]=Deaths|y[2]=Recovered|y[3]=Confirmed|layout={layout}|options={options}|>\""
   ]
  },
  {
   "cell_type": "code",
   "execution_count": 19,
   "id": "dfa787fb",
   "metadata": {
    "id": "dfa787fb",
    "outputId": "fa1a08c7-a1ed-4dde-c9c5-06cdd0db8872"
   },
   "outputs": [
    {
     "name": "stdout",
     "output_type": "stream",
     "text": [
      "Gui server has been stopped\n",
      " * Server starting on http://127.0.0.1:5004\n",
      " * Serving Flask app 'Taipy'\n",
      " * Debug mode: off\n"
     ]
    }
   ],
   "source": [
    "gui.stop()\n",
    "page.set_content(country_md)\n",
    "gui.run(port=5004)"
   ]
  },
  {
   "cell_type": "markdown",
   "id": "cd4d0268",
   "metadata": {
    "id": "cd4d0268"
   },
   "source": [
    "## 데이터를 요약(sum up)하는 텍스트 추가 \n",
    "[텍스트](https://docs.taipy.io/en/latest/manuals/gui/viselements/text/) 시각적 요소를 사용합니다 .\n",
    "\n",
    "- 총 사망(Deaths)수를 추가합니다( _data_country_date_ 의 마지막 줄 ) .\n",
    "- 총 회복(Recovered)수를 추가합니다( _data_country_date_ 의 마지막 줄 ) .\n",
    "- 총 확진(Confirmed)수를 추가합니다( _data_country_date_ 의 마지막 줄 ) ."
   ]
  },
  {
   "cell_type": "code",
   "execution_count": 20,
   "id": "f9060a46",
   "metadata": {
    "id": "f9060a46",
    "outputId": "0d12534f-60a6-4acf-c555-5a6babd1c3d4",
    "scrolled": true
   },
   "outputs": [
    {
     "data": {
      "text/html": [
       "<div>\n",
       "<style scoped>\n",
       "    .dataframe tbody tr th:only-of-type {\n",
       "        vertical-align: middle;\n",
       "    }\n",
       "\n",
       "    .dataframe tbody tr th {\n",
       "        vertical-align: top;\n",
       "    }\n",
       "\n",
       "    .dataframe thead th {\n",
       "        text-align: right;\n",
       "    }\n",
       "</style>\n",
       "<table border=\"1\" class=\"dataframe\">\n",
       "  <thead>\n",
       "    <tr style=\"text-align: right;\">\n",
       "      <th></th>\n",
       "      <th>Country/Region</th>\n",
       "      <th>Date</th>\n",
       "      <th>Latitude</th>\n",
       "      <th>Longitude</th>\n",
       "      <th>Confirmed</th>\n",
       "      <th>Recovered</th>\n",
       "      <th>Deaths</th>\n",
       "    </tr>\n",
       "  </thead>\n",
       "  <tbody>\n",
       "    <tr>\n",
       "      <th>18101</th>\n",
       "      <td>France</td>\n",
       "      <td>2020-01-24</td>\n",
       "      <td>14.641500</td>\n",
       "      <td>-56.315900</td>\n",
       "      <td>2.0</td>\n",
       "      <td>0.0</td>\n",
       "      <td>0.0</td>\n",
       "    </tr>\n",
       "    <tr>\n",
       "      <th>18102</th>\n",
       "      <td>France</td>\n",
       "      <td>2020-01-25</td>\n",
       "      <td>14.641500</td>\n",
       "      <td>-56.315900</td>\n",
       "      <td>3.0</td>\n",
       "      <td>0.0</td>\n",
       "      <td>0.0</td>\n",
       "    </tr>\n",
       "    <tr>\n",
       "      <th>18103</th>\n",
       "      <td>France</td>\n",
       "      <td>2020-01-26</td>\n",
       "      <td>14.641500</td>\n",
       "      <td>-56.315900</td>\n",
       "      <td>3.0</td>\n",
       "      <td>0.0</td>\n",
       "      <td>0.0</td>\n",
       "    </tr>\n",
       "    <tr>\n",
       "      <th>18104</th>\n",
       "      <td>France</td>\n",
       "      <td>2020-01-27</td>\n",
       "      <td>14.641500</td>\n",
       "      <td>-56.315900</td>\n",
       "      <td>3.0</td>\n",
       "      <td>0.0</td>\n",
       "      <td>0.0</td>\n",
       "    </tr>\n",
       "    <tr>\n",
       "      <th>18105</th>\n",
       "      <td>France</td>\n",
       "      <td>2020-01-28</td>\n",
       "      <td>14.641500</td>\n",
       "      <td>-56.315900</td>\n",
       "      <td>4.0</td>\n",
       "      <td>0.0</td>\n",
       "      <td>0.0</td>\n",
       "    </tr>\n",
       "    <tr>\n",
       "      <th>...</th>\n",
       "      <td>...</td>\n",
       "      <td>...</td>\n",
       "      <td>...</td>\n",
       "      <td>...</td>\n",
       "      <td>...</td>\n",
       "      <td>...</td>\n",
       "      <td>...</td>\n",
       "    </tr>\n",
       "    <tr>\n",
       "      <th>18439</th>\n",
       "      <td>France</td>\n",
       "      <td>2020-12-27</td>\n",
       "      <td>91.463495</td>\n",
       "      <td>-238.646914</td>\n",
       "      <td>2616510.0</td>\n",
       "      <td>195861.0</td>\n",
       "      <td>62867.0</td>\n",
       "    </tr>\n",
       "    <tr>\n",
       "      <th>18440</th>\n",
       "      <td>France</td>\n",
       "      <td>2020-12-28</td>\n",
       "      <td>91.463495</td>\n",
       "      <td>-238.646914</td>\n",
       "      <td>2619616.0</td>\n",
       "      <td>196642.0</td>\n",
       "      <td>63235.0</td>\n",
       "    </tr>\n",
       "    <tr>\n",
       "      <th>18441</th>\n",
       "      <td>France</td>\n",
       "      <td>2020-12-29</td>\n",
       "      <td>91.463495</td>\n",
       "      <td>-238.646914</td>\n",
       "      <td>2631110.0</td>\n",
       "      <td>197726.0</td>\n",
       "      <td>64204.0</td>\n",
       "    </tr>\n",
       "    <tr>\n",
       "      <th>18442</th>\n",
       "      <td>France</td>\n",
       "      <td>2020-12-30</td>\n",
       "      <td>91.463495</td>\n",
       "      <td>-238.646914</td>\n",
       "      <td>2657624.0</td>\n",
       "      <td>198966.0</td>\n",
       "      <td>64508.0</td>\n",
       "    </tr>\n",
       "    <tr>\n",
       "      <th>18443</th>\n",
       "      <td>France</td>\n",
       "      <td>2020-12-31</td>\n",
       "      <td>91.463495</td>\n",
       "      <td>-238.646914</td>\n",
       "      <td>2677666.0</td>\n",
       "      <td>200142.0</td>\n",
       "      <td>64759.0</td>\n",
       "    </tr>\n",
       "  </tbody>\n",
       "</table>\n",
       "<p>343 rows × 7 columns</p>\n",
       "</div>"
      ],
      "text/plain": [
       "      Country/Region        Date   Latitude   Longitude  Confirmed  Recovered  \\\n",
       "18101         France  2020-01-24  14.641500  -56.315900        2.0        0.0   \n",
       "18102         France  2020-01-25  14.641500  -56.315900        3.0        0.0   \n",
       "18103         France  2020-01-26  14.641500  -56.315900        3.0        0.0   \n",
       "18104         France  2020-01-27  14.641500  -56.315900        3.0        0.0   \n",
       "18105         France  2020-01-28  14.641500  -56.315900        4.0        0.0   \n",
       "...              ...         ...        ...         ...        ...        ...   \n",
       "18439         France  2020-12-27  91.463495 -238.646914  2616510.0   195861.0   \n",
       "18440         France  2020-12-28  91.463495 -238.646914  2619616.0   196642.0   \n",
       "18441         France  2020-12-29  91.463495 -238.646914  2631110.0   197726.0   \n",
       "18442         France  2020-12-30  91.463495 -238.646914  2657624.0   198966.0   \n",
       "18443         France  2020-12-31  91.463495 -238.646914  2677666.0   200142.0   \n",
       "\n",
       "        Deaths  \n",
       "18101      0.0  \n",
       "18102      0.0  \n",
       "18103      0.0  \n",
       "18104      0.0  \n",
       "18105      0.0  \n",
       "...        ...  \n",
       "18439  62867.0  \n",
       "18440  63235.0  \n",
       "18441  64204.0  \n",
       "18442  64508.0  \n",
       "18443  64759.0  \n",
       "\n",
       "[343 rows x 7 columns]"
      ]
     },
     "execution_count": 20,
     "metadata": {},
     "output_type": "execute_result"
    }
   ],
   "source": [
    "data_country_date"
   ]
  },
  {
   "cell_type": "markdown",
   "id": "ec27c620",
   "metadata": {
    "id": "ec27c620"
   },
   "source": [
    "This is how we can get the total number of Deaths from the daatset for France."
   ]
  },
  {
   "cell_type": "code",
   "execution_count": 21,
   "id": "c0a73440",
   "metadata": {
    "id": "c0a73440",
    "outputId": "642a8cff-1c8f-4748-af5e-7b4dc70d9627"
   },
   "outputs": [
    {
     "data": {
      "text/plain": [
       "64759.0"
      ]
     },
     "execution_count": 21,
     "metadata": {},
     "output_type": "execute_result"
    }
   ],
   "source": [
    "data_country_date.iloc[-1, 6] # 프랑스의 사망자 수를 제공합니다(5는 회복자 수, 4는 확진자 )"
   ]
  },
  {
   "cell_type": "markdown",
   "id": "4a043817",
   "metadata": {
    "id": "4a043817"
   },
   "source": [
    "[텍스트](https://docs.taipy.io/en/release-1.1/manuals/gui/viselements/text/) 시각적 요소를 사용합니다 . `{}` 사이에 어떤 Python 변수도 넣을 수 있지만 또한 어떠한 Python 코드도 넣을 수 있습니다."
   ]
  },
  {
   "cell_type": "markdown",
   "id": "8b5b47ec",
   "metadata": {
    "id": "8b5b47ec"
   },
   "source": [
    "![](img/control_text.png)"
   ]
  },
  {
   "cell_type": "code",
   "execution_count": 22,
   "id": "beab9af4",
   "metadata": {
    "id": "beab9af4"
   },
   "outputs": [],
   "source": [
    "country_md = \"\"\"\n",
    "## Deaths <|{data_country_date.iloc[-1, 6]}|text|>\n",
    "\n",
    "## Recovered <|{data_country_date.iloc[-1, 5]}|text|>\n",
    "\n",
    "## Confirmed <|{data_country_date.iloc[-1, 4]}|text|>\n",
    "\n",
    "<|{data_country_date}|chart|type=bar|x=Date|y[1]=Deaths|y[2]=Recovered|y[3]=Confirmed|layout={layout}|options={options}|>\n",
    "\"\"\""
   ]
  },
  {
   "cell_type": "code",
   "execution_count": 23,
   "id": "1b8e26f5",
   "metadata": {
    "id": "1b8e26f5",
    "outputId": "cde6776e-5097-4743-ce8d-23bc29819b1d"
   },
   "outputs": [
    {
     "name": "stdout",
     "output_type": "stream",
     "text": [
      "Gui server has been stopped\n",
      " * Server starting on http://127.0.0.1:5005\n",
      " * Serving Flask app 'Taipy'\n",
      " * Debug mode: off\n"
     ]
    }
   ],
   "source": [
    "gui.stop()\n",
    "page.set_content(country_md)\n",
    "gui.run(port=5005)"
   ]
  },
  {
   "cell_type": "markdown",
   "id": "f48f94cd",
   "metadata": {
    "id": "f48f94cd"
   },
   "source": [
    "## 로컬 on_change \n",
    "- 모든 _국가/지역_ 의 이름이 포함된 dropdown=True [selector](https://docs.taipy.io/en/latest/manuals/gui/viselements/selector/)를 추가합니다.\n",
    "- _on_change_ selector 속성에 _on_change_country_ 함수의 이름을 지정 합니다 . 이 함수는 selector가 사용될 때 호출됩니다.\n",
    "- 이 함수에는 'state' 매개변수가 있으며, 완성되어야 합니다. selector를 사용할 때 이 함수는 _state_ 인수와 함께 호출됩니다. 그것은 모든 Gui 변수를 포함합니다. 'state.data_country_date'는 GUI에서 사용되는 데이터 프레임입니다."
   ]
  },
  {
   "cell_type": "markdown",
   "id": "35953a48",
   "metadata": {
    "id": "35953a48"
   },
   "source": [
    "![](img/on_change_local.png)"
   ]
  },
  {
   "cell_type": "code",
   "execution_count": 24,
   "id": "ed63f76a",
   "metadata": {
    "id": "ed63f76a"
   },
   "outputs": [],
   "source": [
    "selector_country = list(data['Country/Region'].astype(str).unique())\n",
    "selected_country = 'France'\n",
    "\n",
    "country_md = \"\"\"\n",
    "<|{selected_country}|selector|lov={selector_country}|on_change=on_change_country|dropdown|label=Country|>\n",
    "\n",
    "## Deaths <|{data_country_date.iloc[-1, 6]}|>\n",
    "\n",
    "## Recovered <|{data_country_date.iloc[-1, 5]}|>\n",
    "\n",
    "## Confirmed <|{data_country_date.iloc[-1, 4]}|>\n",
    "\n",
    "<|{data_country_date}|chart|type=bar|x=Date|y[1]=Deaths|y[2]=Recovered|y[3]=Confirmed|layout={layout}|options={options}|>\n",
    "\"\"\""
   ]
  },
  {
   "cell_type": "code",
   "execution_count": 25,
   "id": "42e91877",
   "metadata": {
    "id": "42e91877"
   },
   "outputs": [],
   "source": [
    "def on_change_country(state):\n",
    "    # state는 모든 Gui 변수를 포함하며 이 state 변수를 통해 Gui를 업데이트할 수 있습니다.\n",
    "    # state.selected_country, state.data_country_date, ...\n",
    "    # 올바른 국가로 data_country_date 업데이트(initialize_case_evolution 사용)\n",
    "    print(\"Chosen country: \", state.selected_country)\n",
    "    state.data_country_date = initialize_case_evolution(data, state.selected_country)"
   ]
  },
  {
   "cell_type": "code",
   "execution_count": 26,
   "id": "8f2541f5",
   "metadata": {
    "id": "8f2541f5",
    "outputId": "dd07a1b2-283d-4a53-aa71-a432c4a29645"
   },
   "outputs": [
    {
     "name": "stdout",
     "output_type": "stream",
     "text": [
      "Gui server has been stopped\n",
      " * Server starting on http://127.0.0.1:5006\n",
      " * Serving Flask app 'Taipy'\n",
      " * Debug mode: off\n"
     ]
    }
   ],
   "source": [
    "gui.stop()\n",
    "page.set_content(country_md)\n",
    "gui.run(port=5006)"
   ]
  },
  {
   "cell_type": "markdown",
   "id": "6e528ce2",
   "metadata": {
    "id": "6e528ce2"
   },
   "source": [
    "## Layout\n",
    "\n",
    "[layout](https://docs.taipy.io/en/latest/manuals/gui/viselements/layout/) 블록을 사용하여 페이지 구조를 변경합니다 . 이 블록은 텍스트/시각적 요소를 넣을 보이지 않는 열을 만듭니다.\n",
    "\n",
    "구문:\n",
    "```\n",
    "<|layout|columns=1 1 1 ...|\n",
    "(first column)\n",
    "\n",
    "(in second column)\n",
    "\n",
    "(third column)\n",
    "(again, third column)\n",
    "\n",
    "(...)\n",
    "|>\n",
    "```\n"
   ]
  },
  {
   "cell_type": "code",
   "execution_count": 27,
   "id": "f89fd2fb",
   "metadata": {
    "id": "f89fd2fb"
   },
   "outputs": [],
   "source": [
    "final_country_md = \"\"\"\n",
    "<|layout|columns=1 1 1 1|\n",
    "<|{selected_country}|selector|lov={selector_country}|on_change=on_change_country|dropdown|label=Country|>\n",
    "\n",
    "## Deaths <|{data_country_date.iloc[-1, 6]}|>\n",
    "\n",
    "## Recovered <|{data_country_date.iloc[-1, 5]}|>\n",
    "\n",
    "## Confirmed <|{data_country_date.iloc[-1, 4]}|>\n",
    "|>\n",
    "\n",
    "<|{data_country_date}|chart|type=bar|x=Date|y[1]=Deaths|y[2]=Recovered|y[3]=Confirmed|layout={layout}|options={options}|>\n",
    "\"\"\""
   ]
  },
  {
   "cell_type": "code",
   "execution_count": 28,
   "id": "a349a33f",
   "metadata": {
    "id": "a349a33f",
    "outputId": "aa184e5c-74a5-4646-cd3a-d83bcfb5cbed"
   },
   "outputs": [
    {
     "name": "stdout",
     "output_type": "stream",
     "text": [
      "Gui server has been stopped\n",
      " * Server starting on http://127.0.0.1:5007\n",
      " * Serving Flask app 'Taipy'\n",
      " * Debug mode: off\n"
     ]
    }
   ],
   "source": [
    "gui.stop()\n",
    "page.set_content(final_country_md)\n",
    "gui.run(port=5007)"
   ]
  },
  {
   "cell_type": "markdown",
   "id": "f63dcc18",
   "metadata": {
    "id": "f63dcc18"
   },
   "source": [
    "![](img/layout.png)"
   ]
  },
  {
   "cell_type": "markdown",
   "id": "e9ab05a9",
   "metadata": {
    "id": "e9ab05a9"
   },
   "source": [
    "# Map"
   ]
  },
  {
   "cell_type": "code",
   "execution_count": 29,
   "id": "92212747",
   "metadata": {
    "id": "92212747"
   },
   "outputs": [],
   "source": [
    "def initialize_map(data):\n",
    "    data['Province/State'] = data['Province/State'].fillna(data[\"Country/Region\"])\n",
    "    data_province = data.groupby([\"Country/Region\",\n",
    "                                  'Province/State',\n",
    "                                  'Longitude',\n",
    "                                  'Latitude'])\\\n",
    "                         .max()\n",
    "\n",
    "    data_province_displayed = data_province[data_province['Deaths']>10].reset_index()\n",
    "\n",
    "    data_province_displayed['Size'] = np.sqrt(data_province_displayed.loc[:,'Deaths']/data_province_displayed.loc[:,'Deaths'].max())*80 + 3\n",
    "    data_province_displayed['Text'] = data_province_displayed.loc[:,'Deaths'].astype(str) + ' deaths </br> ' + data_province_displayed.loc[:,'Province/State']\n",
    "    return data_province_displayed"
   ]
  },
  {
   "cell_type": "code",
   "execution_count": 30,
   "id": "5a1f5cb6",
   "metadata": {
    "id": "5a1f5cb6",
    "outputId": "ff8c0dc6-5b6a-4693-c1f1-01635ecf65c5"
   },
   "outputs": [
    {
     "data": {
      "text/html": [
       "<div>\n",
       "<style scoped>\n",
       "    .dataframe tbody tr th:only-of-type {\n",
       "        vertical-align: middle;\n",
       "    }\n",
       "\n",
       "    .dataframe tbody tr th {\n",
       "        vertical-align: top;\n",
       "    }\n",
       "\n",
       "    .dataframe thead th {\n",
       "        text-align: right;\n",
       "    }\n",
       "</style>\n",
       "<table border=\"1\" class=\"dataframe\">\n",
       "  <thead>\n",
       "    <tr style=\"text-align: right;\">\n",
       "      <th></th>\n",
       "      <th>Country/Region</th>\n",
       "      <th>Province/State</th>\n",
       "      <th>Longitude</th>\n",
       "      <th>Latitude</th>\n",
       "      <th>Confirmed</th>\n",
       "      <th>Recovered</th>\n",
       "      <th>Deaths</th>\n",
       "      <th>Date</th>\n",
       "      <th>Size</th>\n",
       "      <th>Text</th>\n",
       "    </tr>\n",
       "  </thead>\n",
       "  <tbody>\n",
       "    <tr>\n",
       "      <th>0</th>\n",
       "      <td>Afghanistan</td>\n",
       "      <td>Afghanistan</td>\n",
       "      <td>67.709953</td>\n",
       "      <td>33.93911</td>\n",
       "      <td>51526.0</td>\n",
       "      <td>41727.0</td>\n",
       "      <td>2191.0</td>\n",
       "      <td>2020-12-31</td>\n",
       "      <td>17.771247</td>\n",
       "      <td>2191.0 deaths &lt;/br&gt; Afghanistan</td>\n",
       "    </tr>\n",
       "    <tr>\n",
       "      <th>1</th>\n",
       "      <td>Albania</td>\n",
       "      <td>Albania</td>\n",
       "      <td>20.168300</td>\n",
       "      <td>41.15330</td>\n",
       "      <td>58316.0</td>\n",
       "      <td>33634.0</td>\n",
       "      <td>1181.0</td>\n",
       "      <td>2020-12-31</td>\n",
       "      <td>13.844784</td>\n",
       "      <td>1181.0 deaths &lt;/br&gt; Albania</td>\n",
       "    </tr>\n",
       "    <tr>\n",
       "      <th>2</th>\n",
       "      <td>Algeria</td>\n",
       "      <td>Algeria</td>\n",
       "      <td>1.659600</td>\n",
       "      <td>28.03390</td>\n",
       "      <td>99610.0</td>\n",
       "      <td>67127.0</td>\n",
       "      <td>2756.0</td>\n",
       "      <td>2020-12-31</td>\n",
       "      <td>19.566684</td>\n",
       "      <td>2756.0 deaths &lt;/br&gt; Algeria</td>\n",
       "    </tr>\n",
       "    <tr>\n",
       "      <th>3</th>\n",
       "      <td>Andorra</td>\n",
       "      <td>Andorra</td>\n",
       "      <td>1.521800</td>\n",
       "      <td>42.50630</td>\n",
       "      <td>8049.0</td>\n",
       "      <td>7432.0</td>\n",
       "      <td>84.0</td>\n",
       "      <td>2020-12-31</td>\n",
       "      <td>5.892249</td>\n",
       "      <td>84.0 deaths &lt;/br&gt; Andorra</td>\n",
       "    </tr>\n",
       "    <tr>\n",
       "      <th>4</th>\n",
       "      <td>Angola</td>\n",
       "      <td>Angola</td>\n",
       "      <td>17.873900</td>\n",
       "      <td>-11.20270</td>\n",
       "      <td>17553.0</td>\n",
       "      <td>11044.0</td>\n",
       "      <td>405.0</td>\n",
       "      <td>2020-12-31</td>\n",
       "      <td>9.350728</td>\n",
       "      <td>405.0 deaths &lt;/br&gt; Angola</td>\n",
       "    </tr>\n",
       "  </tbody>\n",
       "</table>\n",
       "</div>"
      ],
      "text/plain": [
       "  Country/Region Province/State  Longitude  Latitude  Confirmed  Recovered  \\\n",
       "0    Afghanistan    Afghanistan  67.709953  33.93911    51526.0    41727.0   \n",
       "1        Albania        Albania  20.168300  41.15330    58316.0    33634.0   \n",
       "2        Algeria        Algeria   1.659600  28.03390    99610.0    67127.0   \n",
       "3        Andorra        Andorra   1.521800  42.50630     8049.0     7432.0   \n",
       "4         Angola         Angola  17.873900 -11.20270    17553.0    11044.0   \n",
       "\n",
       "   Deaths        Date       Size                             Text  \n",
       "0  2191.0  2020-12-31  17.771247  2191.0 deaths </br> Afghanistan  \n",
       "1  1181.0  2020-12-31  13.844784      1181.0 deaths </br> Albania  \n",
       "2  2756.0  2020-12-31  19.566684      2756.0 deaths </br> Algeria  \n",
       "3    84.0  2020-12-31   5.892249        84.0 deaths </br> Andorra  \n",
       "4   405.0  2020-12-31   9.350728        405.0 deaths </br> Angola  "
      ]
     },
     "execution_count": 30,
     "metadata": {},
     "output_type": "execute_result"
    }
   ],
   "source": [
    "data_province_displayed = initialize_map(data)\n",
    "data_province_displayed.head()"
   ]
  },
  {
   "cell_type": "markdown",
   "id": "fe689939",
   "metadata": {
    "id": "fe689939"
   },
   "source": [
    "지도(map) 스타일을 지정하는 속성\n",
    "- 마커(maker) color는 사망자 수 에 해당합니다(_Deaths_ 열 ).\n",
    "- 마커(maker) size는 사망자 수에 따른 _Size_ 열의 크기에 해당합니다.\n",
    "\n",
    "layout_map 매개변수로 지도의 초기 확대/축소(zoom) 및 위치(position)를 정의했습니다."
   ]
  },
  {
   "cell_type": "code",
   "execution_count": 31,
   "id": "62a4cc23",
   "metadata": {
    "id": "62a4cc23"
   },
   "outputs": [],
   "source": [
    "marker_map = {\"color\":\"Deaths\", \"size\": \"Size\", \"showscale\":True, \"colorscale\":\"Viridis\"}\n",
    "layout_map = {\n",
    "            \"dragmode\": \"zoom\",\n",
    "            \"mapbox\": { \"style\": \"open-street-map\", \"center\": { \"lat\": 38, \"lon\": -90 }, \"zoom\": 3}\n",
    "            }"
   ]
  },
  {
   "cell_type": "markdown",
   "id": "fb251153",
   "metadata": {
    "id": "fb251153"
   },
   "source": [
    "우리는 Plotly에게 다음을 제공합니다:\n",
    "\n",
    "- map type(유형)\n",
    "- latitude(위도) 열의 이름\n",
    "- longitude(경도) 열의 이름\n",
    "- properties: 마커의 크기와 색상\n",
    "- points(점)의 text에 대한 열 이름"
   ]
  },
  {
   "cell_type": "code",
   "execution_count": 32,
   "id": "7e65e017",
   "metadata": {
    "id": "7e65e017"
   },
   "outputs": [],
   "source": [
    "map_md = \"\"\"\n",
    "<|{data_province_displayed}|chart|type=scattermapbox|selected={selected_points}|lat=Latitude|lon=Longitude|marker={marker_map}|layout={layout_map}|text=Text|mode=markers|height=800px|options={options}|>\n",
    "\"\"\""
   ]
  },
  {
   "cell_type": "code",
   "execution_count": 33,
   "id": "b068a3af",
   "metadata": {
    "id": "b068a3af",
    "outputId": "b1fcab52-320d-49aa-8a98-60a6b21ce8fb"
   },
   "outputs": [
    {
     "name": "stdout",
     "output_type": "stream",
     "text": [
      "Gui server has been stopped\n",
      " * Server starting on http://127.0.0.1:5008\n",
      " * Serving Flask app 'Taipy'\n",
      " * Debug mode: off\n"
     ]
    }
   ],
   "source": [
    "gui.stop()\n",
    "page.set_content(map_md)\n",
    "gui.run(port=5008)"
   ]
  },
  {
   "cell_type": "markdown",
   "id": "56c0ea66",
   "metadata": {
    "id": "56c0ea66"
   },
   "source": [
    "![](img/carte.png)"
   ]
  },
  {
   "cell_type": "markdown",
   "id": "6ab0529e",
   "metadata": {
    "id": "6ab0529e"
   },
   "source": [
    "### 포인트 선택 시 API 호출 \n",
    "\n",
    "지도에서 포인트를 선택 하면 API 호출을 통해 _expandable(확장 가능한)_ 블록에 데이터가 구현됩니다.\n",
    "\n",
    "이를 위해서는 차트 의 _selected_ 속성이 필요하고 전역 _on_change_ 함수 를 통해 변경 사항을 처리해야 합니다."
   ]
  },
  {
   "cell_type": "code",
   "execution_count": 34,
   "id": "e69b465e",
   "metadata": {
    "id": "e69b465e"
   },
   "outputs": [],
   "source": [
    "map_md = \"\"\"\n",
    "<|Information|expandable|expanded=False|\n",
    "<|layout|columns=1 1|\n",
    "Country: <|{api_country}|>\n",
    "\n",
    "Population: (Year: <|{api_year}|>, Value: <|{api_pop}|>)\n",
    "|>\n",
    "|>\n",
    "\n",
    "<br/>\n",
    "<|{data_province_displayed}|chart|type=scattermapbox|selected={selected_points}|lat=Latitude|lon=Longitude|marker={marker_map}|layout={layout_map}|text=Text|mode=markers|height=800px|options={options}|>\n",
    "\"\"\""
   ]
  },
  {
   "cell_type": "code",
   "execution_count": 35,
   "id": "4efc1a8f",
   "metadata": {
    "id": "4efc1a8f"
   },
   "outputs": [],
   "source": [
    "url_pop = \"https://countriesnow.space/api/v0.1/countries/population\"\n",
    "\n",
    "def api_call(state):\n",
    "    state.api_country = state.data_province_displayed.loc[state.selected_points[0], \"Country/Region\"]\n",
    "    \n",
    "    if state.api_country == 'US':\n",
    "        state.api_country = \"United States\"\n",
    "    \n",
    "    body = {\"country\": state.api_country}\n",
    "    \n",
    "    response_pop = requests.post(url_pop, body).json()\n",
    "    \n",
    "    if not response_pop['error']:\n",
    "        state.api_year = response_pop['data']['populationCounts'][-1]['year']\n",
    "        state.api_pop = response_pop['data']['populationCounts'][-1]['value']"
   ]
  },
  {
   "cell_type": "code",
   "execution_count": 36,
   "id": "0d8a6754",
   "metadata": {
    "id": "0d8a6754"
   },
   "outputs": [],
   "source": [
    "def on_change(state, var_name, var_value):\n",
    "    print(var_name, var_value)\n",
    "     # on_change는 Gui 변수가 변경될 때마다 호출됩니다(Gui를 통하거나 state.xxx = yyy를 사용하여)\n",
    "     # 1) selected_points 변경 시 'api_call' 호출\n",
    "    if var_name == 'selected_points':\n",
    "        api_call(state)"
   ]
  },
  {
   "cell_type": "code",
   "execution_count": 37,
   "id": "66a79008",
   "metadata": {
    "id": "66a79008",
    "outputId": "0c2cc610-0f93-4044-9a70-1861c83f329d"
   },
   "outputs": [
    {
     "name": "stdout",
     "output_type": "stream",
     "text": [
      "Gui server has been stopped\n",
      " * Server starting on http://127.0.0.1:5009\n",
      " * Serving Flask app 'Taipy'\n",
      " * Debug mode: off\n"
     ]
    }
   ],
   "source": [
    "gui.stop()\n",
    "gui.on_change = on_change\n",
    "page.set_content(map_md)\n",
    "gui.run(port=5009)"
   ]
  },
  {
   "cell_type": "markdown",
   "id": "cab1cacc",
   "metadata": {
    "id": "cab1cacc"
   },
   "source": [
    "# Part와 _render_ 속성 \n",
    "- 'Map'과 'Country'의 lov(list of value:변수목록) [토글(toggle)](https://docs.taipy.io/en/latest/manuals/gui/viselements/toggle/)(selctor와 동일하게 작동)을 만듭니다.\n",
    "- 토글 값에 따라 렌더링 여부를 결정하는 두 개의 part 블록을 만듭니다.\n",
    "    - 이렇게 하려면 part 블록의 render 속성 `{}` 안에 Python 코드를 삽입할 수 있다는 사실을 이용하십시오."
   ]
  },
  {
   "cell_type": "code",
   "execution_count": 38,
   "id": "91bb95bc",
   "metadata": {
    "id": "91bb95bc"
   },
   "outputs": [],
   "source": [
    "representation_selector = ['Map', 'Country']\n",
    "selected_representation = representation_selector[0]"
   ]
  },
  {
   "cell_type": "code",
   "execution_count": 39,
   "id": "e76ebb06",
   "metadata": {
    "id": "e76ebb06"
   },
   "outputs": [],
   "source": [
    "main_page = \"\"\"\n",
    "<|{selected_representation}|toggle|lov={representation_selector}|>\n",
    "\n",
    "<|part|render={selected_representation == \"Country\"}|\n",
    "\"\"\"+final_country_md+\"\"\"\n",
    "|>\n",
    "\n",
    "<|part|render={selected_representation == \"Map\"}|\n",
    "\"\"\"+map_md+\"\"\"\n",
    "|>\n",
    "\"\"\" "
   ]
  },
  {
   "cell_type": "code",
   "execution_count": 40,
   "id": "186846ba",
   "metadata": {
    "id": "186846ba",
    "outputId": "c5cf9b85-034b-4f80-e9ca-32b31f4caab1"
   },
   "outputs": [
    {
     "name": "stdout",
     "output_type": "stream",
     "text": [
      "Gui server has been stopped\n",
      " * Server starting on http://127.0.0.1:5010\n",
      " * Serving Flask app 'Taipy'\n",
      " * Debug mode: off\n"
     ]
    }
   ],
   "source": [
    "gui.stop()\n",
    "page.set_content(main_page)\n",
    "gui.run(port=5010)"
   ]
  },
  {
   "cell_type": "markdown",
   "id": "47d5c7ce",
   "metadata": {
    "id": "47d5c7ce"
   },
   "source": [
    "![](img/part_render.png)"
   ]
  },
  {
   "cell_type": "markdown",
   "id": "0c8130ec",
   "metadata": {
    "id": "0c8130ec"
   },
   "source": [
    "# Taipy Core\n",
    "다음은 국가의 사망자 수를 예측하는 데 사용할 함수입니다. 우리는 다음을 진행할 것입니다:\n",
    "\n",
    "- 데이터 전처리(_preprocess_),\n",
    "- 훈련 및 테스트 데이터베이스 생성(_make_train_test_data_),\n",
    "- 모델 훈련(_train_model_),\n",
    "- 예측 생성(_forecast_),\n",
    "- 과거 데이터와 예측(_result_) 으로 데이터 프레임을 생성합니다.\n",
    "\n",
    "\n",
    "![](img/all_architecture.svg)"
   ]
  },
  {
   "cell_type": "code",
   "execution_count": 41,
   "id": "688ebab8",
   "metadata": {
    "id": "688ebab8"
   },
   "outputs": [],
   "source": [
    "def preprocess(initial_data, country):\n",
    "    data = initial_data.groupby([\"Country/Region\",'Date'])\\\n",
    "                       .sum()\\\n",
    "                       .dropna()\\\n",
    "                       .reset_index()\n",
    "\n",
    "    preprocess_data = data.loc[data['Country/Region']==country].reset_index(drop=True)\n",
    "    return preprocess_data\n",
    "    \n",
    "    \n",
    "def make_train_test_data(preprocess_data):\n",
    "    perc_test = 0.3\n",
    "    nb_to_predict = int(perc_test*len(preprocess_data))\n",
    "    train_data = preprocess_data[:-nb_to_predict]\n",
    "    return train_data, nb_to_predict\n",
    "\n",
    "\n",
    "def train_model(train_data):\n",
    "    model = auto_arima(train_data['Deaths'],\n",
    "                       start_p=1, start_q=1,\n",
    "                       max_p=5, max_q=5,\n",
    "                       start_P=0, seasonal=False,\n",
    "                       d=1, D=1, trace=True,\n",
    "                       error_action='ignore',  \n",
    "                       suppress_warnings=True)\n",
    "    model.fit(train_data['Deaths'])\n",
    "    return model\n",
    "\n",
    "\n",
    "def forecast(model, nb_to_predict):\n",
    "    predictions = model.predict(n_periods=nb_to_predict)\n",
    "    return predictions\n",
    "\n",
    "\n",
    "def result(preprocess_data, predictions, nb_to_predict):\n",
    "    pred_series = pd.Series([np.NaN]*(len(preprocess_data)-nb_to_predict) + list(predictions), name='Predictions')\n",
    "    return pd.concat([preprocess_data, pred_series], axis=1)"
   ]
  },
  {
   "cell_type": "markdown",
   "id": "9d2e845f",
   "metadata": {
    "id": "9d2e845f"
   },
   "source": [
    "먼저 Data Nodes를 정의한 다음 tasks(Python 함수와 연결됨)을 정의해야 합니다. 또한 이러한 tasks을 다른 pipelines으로 수집하고 이러한 pipelines을 scenario로 수집합니다.\n",
    "\n",
    "Data Node에는 **unique id(고유 ID)** 가 필요합니다. 필요한 경우 CSV 및 SQL 용으로 스토리지 유형을 변경할 수 있습니다. 그런 다음 다른 매개변수(parameters)가 필요합니다."
   ]
  },
  {
   "cell_type": "markdown",
   "id": "b19ed6d7",
   "metadata": {
    "id": "b19ed6d7"
   },
   "source": [
    "### 전처리를 위한 데이터 노드 및 태스크(Data Nodes and Task for preprocess)"
   ]
  },
  {
   "cell_type": "markdown",
   "id": "6c0e2743",
   "metadata": {
    "id": "6c0e2743"
   },
   "source": [
    "<img src=\"img/preprocess.svg\" alt=\"drawing\" width=\"500\"/>"
   ]
  },
  {
   "cell_type": "code",
   "execution_count": 42,
   "id": "a0dec60e",
   "metadata": {
    "id": "a0dec60e"
   },
   "outputs": [],
   "source": [
    "initial_data_cfg = Config.configure_data_node(id=\"initial_data\",\n",
    "                                              storage_type=\"csv\",\n",
    "                                              path=path_to_data,\n",
    "                                              cacheable=True,\n",
    "                                              validity_period=dt.timedelta(days=5))\n",
    "\n",
    "country_cfg = Config.configure_data_node(id=\"country\", default_data=\"France\",\n",
    "                                         cacheable=True, validity_period=dt.timedelta(days=5))\n",
    "\n",
    "preprocess_data_cfg =  Config.configure_data_node(id=\"preprocess_data\",\n",
    "                                                  cacheable=True, validity_period=dt.timedelta(days=5))\n",
    "\n",
    "\n",
    "task_preprocess_cfg = Config.configure_task(id=\"task_preprocess_data\",\n",
    "                                           function=preprocess,\n",
    "                                           input=[initial_data_cfg, country_cfg],\n",
    "                                           output=preprocess_data_cfg)"
   ]
  },
  {
   "cell_type": "markdown",
   "id": "e9a53d43",
   "metadata": {
    "id": "e9a53d43"
   },
   "source": [
    "### make_train_test_data에 대한 Data Nodes 및 Task"
   ]
  },
  {
   "cell_type": "markdown",
   "id": "caacd215",
   "metadata": {
    "id": "caacd215"
   },
   "source": [
    "<img src=\"img/make_train_test_data.svg\" alt=\"drawing\" width=\"500\"/>"
   ]
  },
  {
   "cell_type": "code",
   "execution_count": 43,
   "id": "d357539c",
   "metadata": {
    "id": "d357539c"
   },
   "outputs": [],
   "source": [
    "train_data_cfg =  Config.configure_data_node(id=\"train_data\", cacheable=True, validity_period=dt.timedelta(days=5))\n",
    "\n",
    "nb_to_predict_cfg = Config.configure_data_node(id=\"nb_to_predict\",\n",
    "                                               cacheable=True, validity_period=dt.timedelta(days=5))\n",
    "\n",
    "task_train_test_cfg = Config.configure_task(id=\"task_make_train_test_data\",\n",
    "                                           function=make_train_test_data,\n",
    "                                           input=preprocess_data_cfg,\n",
    "                                           output=[train_data_cfg, nb_to_predict_cfg])"
   ]
  },
  {
   "cell_type": "markdown",
   "id": "1908c988",
   "metadata": {
    "id": "1908c988"
   },
   "source": [
    "### train_model에 대한 Data Nodes 및 Task "
   ]
  },
  {
   "cell_type": "markdown",
   "id": "e8bd5020",
   "metadata": {
    "id": "e8bd5020"
   },
   "source": [
    "<img src=\"img/train_model.svg\" alt=\"drawing\" width=\"500\"/>"
   ]
  },
  {
   "cell_type": "code",
   "execution_count": 44,
   "id": "96afe994",
   "metadata": {
    "id": "96afe994"
   },
   "outputs": [],
   "source": [
    "model_cfg = Config.configure_data_node(id=\"model\", cacheable=True, validity_period=dt.timedelta(days=5))\n",
    "\n",
    "task_train_cfg = Config.configure_task(id=\"task_train\",\n",
    "                                      function=train_model,\n",
    "                                      input=train_data_cfg,\n",
    "                                      output=model_cfg)"
   ]
  },
  {
   "cell_type": "markdown",
   "id": "849d0a97",
   "metadata": {
    "id": "849d0a97"
   },
   "source": [
    "### forecast에 대한 Data Nodes 및 Task"
   ]
  },
  {
   "cell_type": "markdown",
   "id": "e0a125c7",
   "metadata": {
    "id": "e0a125c7"
   },
   "source": [
    "<img src=\"img/forecast.svg\" alt=\"drawing\" width=\"500\"/>"
   ]
  },
  {
   "cell_type": "code",
   "execution_count": 45,
   "id": "46b0287b",
   "metadata": {
    "id": "46b0287b"
   },
   "outputs": [],
   "source": [
    "predictions_cfg = Config.configure_data_node(id=\"predictions\")\n",
    "\n",
    "task_forecast_cfg = Config.configure_task(id=\"task_forecast\",\n",
    "                                      function=forecast,\n",
    "                                      input=[model_cfg, nb_to_predict_cfg],\n",
    "                                      output=predictions_cfg)"
   ]
  },
  {
   "cell_type": "markdown",
   "id": "73ab0ee0",
   "metadata": {
    "id": "73ab0ee0"
   },
   "source": [
    "### result에 대한 Data Nodes 및 Task"
   ]
  },
  {
   "cell_type": "markdown",
   "id": "899c41df",
   "metadata": {
    "id": "899c41df"
   },
   "source": [
    "<img src=\"img/result.svg\" alt=\"drawing\" width=\"500\"/>"
   ]
  },
  {
   "cell_type": "code",
   "execution_count": 46,
   "id": "92f6ca0c",
   "metadata": {
    "id": "92f6ca0c"
   },
   "outputs": [],
   "source": [
    "result_cfg = Config.configure_data_node(id=\"result\")\n",
    "\n",
    "task_result_cfg = Config.configure_task(id=\"task_result\",\n",
    "                                      function=result,\n",
    "                                      input=[preprocess_data_cfg, predictions_cfg, nb_to_predict_cfg],\n",
    "                                      output=result_cfg)"
   ]
  },
  {
   "cell_type": "markdown",
   "id": "252820b6",
   "metadata": {
    "id": "252820b6"
   },
   "source": [
    "## [pipelines 구성(Configuration)](https://docs.taipy.io/en/release-1.1/manuals/reference/taipy.Config/#taipy.core.config.config.Config.configure_default_pipeline)"
   ]
  },
  {
   "cell_type": "code",
   "execution_count": 47,
   "id": "ed34224b",
   "metadata": {
    "id": "ed34224b"
   },
   "outputs": [],
   "source": [
    "pipeline_preprocessing_cfg = Config.configure_pipeline(id=\"pipeline_preprocessing\",\n",
    "                                                       task_configs=[task_preprocess_cfg, task_train_test_cfg])\n",
    "\n",
    "pipeline_train_cfg = Config.configure_pipeline(id=\"pipeline_train\",\n",
    "                                               task_configs=[task_train_cfg])\n",
    "\n",
    "pipeline_forecast_cfg = Config.configure_pipeline(id=\"pipeline_forecast\",\n",
    "                                                       task_configs=[task_forecast_cfg, task_result_cfg])"
   ]
  },
  {
   "cell_type": "markdown",
   "id": "27dbc823",
   "metadata": {
    "id": "27dbc823"
   },
   "source": [
    "## [scenario 구성(Configuration)](https://docs.taipy.io/en/release-1.1/manuals/reference/taipy.Config/#taipy.core.config.config.Config.configure_default_scenario)"
   ]
  },
  {
   "cell_type": "code",
   "execution_count": 48,
   "id": "9c742722",
   "metadata": {
    "id": "9c742722"
   },
   "outputs": [],
   "source": [
    "scenario_cfg = Config.configure_scenario(id='scenario', pipeline_configs=[pipeline_preprocessing_cfg,\n",
    "                                                                         pipeline_train_cfg,\n",
    "                                                                         pipeline_forecast_cfg])"
   ]
  },
  {
   "cell_type": "markdown",
   "id": "986ebad5",
   "metadata": {
    "id": "986ebad5"
   },
   "source": [
    "## scenario 생성(creation) 및 제출(submit)"
   ]
  },
  {
   "cell_type": "code",
   "execution_count": 49,
   "id": "ee902abf",
   "metadata": {
    "id": "ee902abf",
    "outputId": "f2e36e97-1ce2-49ae-b4b7-23f84e68892a"
   },
   "outputs": [
    {
     "name": "stderr",
     "output_type": "stream",
     "text": [
      "C:\\ProgramData\\Anaconda3\\lib\\site-packages\\taipy\\core\\data\\csv.py:145: DtypeWarning: Columns (0,1) have mixed types. Specify dtype option on import or set low_memory=False.\n",
      "  return pd.read_csv(self._path)\n"
     ]
    },
    {
     "name": "stdout",
     "output_type": "stream",
     "text": [
      "[2022-08-10 14:35:57,194][Taipy][INFO] job JOB_task_preprocess_data_9bfe56a3-53de-44e6-84b3-daffe8b01f15 is completed.\n",
      "[2022-08-10 14:35:57,292][Taipy][INFO] job JOB_task_make_train_test_data_d9cc0e09-241f-4dc6-8b3c-cb6a024e7a93 is completed.\n",
      "Performing stepwise search to minimize aic\n",
      " ARIMA(1,1,1)(0,0,0)[0] intercept   : AIC=2994.124, Time=0.25 sec\n",
      " ARIMA(0,1,0)(0,0,0)[0] intercept   : AIC=3349.636, Time=0.01 sec\n",
      " ARIMA(1,1,0)(0,0,0)[0] intercept   : AIC=3045.305, Time=0.03 sec\n",
      " ARIMA(0,1,1)(0,0,0)[0] intercept   : AIC=3200.566, Time=0.05 sec\n",
      " ARIMA(0,1,0)(0,0,0)[0]             : AIC=3402.421, Time=0.00 sec\n",
      " ARIMA(2,1,1)(0,0,0)[0] intercept   : AIC=2996.090, Time=0.18 sec\n",
      " ARIMA(1,1,2)(0,0,0)[0] intercept   : AIC=2996.081, Time=0.14 sec\n",
      " ARIMA(0,1,2)(0,0,0)[0] intercept   : AIC=3162.541, Time=0.11 sec\n",
      " ARIMA(2,1,0)(0,0,0)[0] intercept   : AIC=3014.299, Time=0.04 sec\n",
      " ARIMA(2,1,2)(0,0,0)[0] intercept   : AIC=2996.306, Time=0.17 sec\n",
      " ARIMA(1,1,1)(0,0,0)[0]             : AIC=2992.816, Time=0.05 sec\n",
      " ARIMA(0,1,1)(0,0,0)[0]             : AIC=3237.322, Time=0.03 sec\n",
      " ARIMA(1,1,0)(0,0,0)[0]             : AIC=3047.241, Time=0.02 sec\n",
      " ARIMA(2,1,1)(0,0,0)[0]             : AIC=2994.775, Time=0.09 sec\n",
      " ARIMA(1,1,2)(0,0,0)[0]             : AIC=2994.765, Time=0.06 sec\n",
      " ARIMA(0,1,2)(0,0,0)[0]             : AIC=3191.574, Time=0.07 sec\n",
      " ARIMA(2,1,0)(0,0,0)[0]             : AIC=3014.129, Time=0.02 sec\n",
      " ARIMA(2,1,2)(0,0,0)[0]             : AIC=2994.978, Time=0.06 sec\n",
      "\n",
      "Best model:  ARIMA(1,1,1)(0,0,0)[0]          \n",
      "Total fit time: 1.369 seconds\n",
      "[2022-08-10 14:35:58,801][Taipy][INFO] job JOB_task_train_42ea2529-f8ad-49da-b9db-15e1297e73e5 is completed.\n",
      "[2022-08-10 14:35:58,892][Taipy][INFO] job JOB_task_forecast_4542624e-81da-493b-8bf2-93409d5f054b is completed.\n",
      "[2022-08-10 14:35:58,995][Taipy][INFO] job JOB_task_result_53a6837a-f7f5-4402-83fc-b43535ee0914 is completed.\n"
     ]
    }
   ],
   "source": [
    "scenario = tp.create_scenario(scenario_cfg, name='First Scenario')\n",
    "tp.submit(scenario)"
   ]
  },
  {
   "cell_type": "code",
   "execution_count": 50,
   "id": "0438a233",
   "metadata": {
    "id": "0438a233",
    "outputId": "494c2bd8-eef2-4a0f-92ca-46ce061aeaee"
   },
   "outputs": [
    {
     "data": {
      "text/plain": [
       "ARIMA(order=(1, 1, 1), scoring_args={}, suppress_warnings=True,\n",
       "      with_intercept=False)"
      ]
     },
     "execution_count": 50,
     "metadata": {},
     "output_type": "execute_result"
    }
   ],
   "source": [
    "scenario.model.read()"
   ]
  },
  {
   "cell_type": "code",
   "execution_count": 51,
   "id": "a4f4dafd",
   "metadata": {
    "id": "a4f4dafd",
    "outputId": "a9928f34-27e3-4e90-c43d-4aa073fc5617"
   },
   "outputs": [
    {
     "data": {
      "text/html": [
       "<div>\n",
       "<style scoped>\n",
       "    .dataframe tbody tr th:only-of-type {\n",
       "        vertical-align: middle;\n",
       "    }\n",
       "\n",
       "    .dataframe tbody tr th {\n",
       "        vertical-align: top;\n",
       "    }\n",
       "\n",
       "    .dataframe thead th {\n",
       "        text-align: right;\n",
       "    }\n",
       "</style>\n",
       "<table border=\"1\" class=\"dataframe\">\n",
       "  <thead>\n",
       "    <tr style=\"text-align: right;\">\n",
       "      <th></th>\n",
       "      <th>Country/Region</th>\n",
       "      <th>Date</th>\n",
       "      <th>Latitude</th>\n",
       "      <th>Longitude</th>\n",
       "      <th>Confirmed</th>\n",
       "      <th>Recovered</th>\n",
       "      <th>Deaths</th>\n",
       "      <th>Predictions</th>\n",
       "    </tr>\n",
       "  </thead>\n",
       "  <tbody>\n",
       "    <tr>\n",
       "      <th>0</th>\n",
       "      <td>France</td>\n",
       "      <td>2020-01-24</td>\n",
       "      <td>14.641500</td>\n",
       "      <td>-56.315900</td>\n",
       "      <td>2.0</td>\n",
       "      <td>0.0</td>\n",
       "      <td>0.0</td>\n",
       "      <td>NaN</td>\n",
       "    </tr>\n",
       "    <tr>\n",
       "      <th>1</th>\n",
       "      <td>France</td>\n",
       "      <td>2020-01-25</td>\n",
       "      <td>14.641500</td>\n",
       "      <td>-56.315900</td>\n",
       "      <td>3.0</td>\n",
       "      <td>0.0</td>\n",
       "      <td>0.0</td>\n",
       "      <td>NaN</td>\n",
       "    </tr>\n",
       "    <tr>\n",
       "      <th>2</th>\n",
       "      <td>France</td>\n",
       "      <td>2020-01-26</td>\n",
       "      <td>14.641500</td>\n",
       "      <td>-56.315900</td>\n",
       "      <td>3.0</td>\n",
       "      <td>0.0</td>\n",
       "      <td>0.0</td>\n",
       "      <td>NaN</td>\n",
       "    </tr>\n",
       "    <tr>\n",
       "      <th>3</th>\n",
       "      <td>France</td>\n",
       "      <td>2020-01-27</td>\n",
       "      <td>14.641500</td>\n",
       "      <td>-56.315900</td>\n",
       "      <td>3.0</td>\n",
       "      <td>0.0</td>\n",
       "      <td>0.0</td>\n",
       "      <td>NaN</td>\n",
       "    </tr>\n",
       "    <tr>\n",
       "      <th>4</th>\n",
       "      <td>France</td>\n",
       "      <td>2020-01-28</td>\n",
       "      <td>14.641500</td>\n",
       "      <td>-56.315900</td>\n",
       "      <td>4.0</td>\n",
       "      <td>0.0</td>\n",
       "      <td>0.0</td>\n",
       "      <td>NaN</td>\n",
       "    </tr>\n",
       "    <tr>\n",
       "      <th>...</th>\n",
       "      <td>...</td>\n",
       "      <td>...</td>\n",
       "      <td>...</td>\n",
       "      <td>...</td>\n",
       "      <td>...</td>\n",
       "      <td>...</td>\n",
       "      <td>...</td>\n",
       "      <td>...</td>\n",
       "    </tr>\n",
       "    <tr>\n",
       "      <th>338</th>\n",
       "      <td>France</td>\n",
       "      <td>2020-12-27</td>\n",
       "      <td>91.463495</td>\n",
       "      <td>-238.646914</td>\n",
       "      <td>2616510.0</td>\n",
       "      <td>195861.0</td>\n",
       "      <td>62867.0</td>\n",
       "      <td>32931.922629</td>\n",
       "    </tr>\n",
       "    <tr>\n",
       "      <th>339</th>\n",
       "      <td>France</td>\n",
       "      <td>2020-12-28</td>\n",
       "      <td>91.463495</td>\n",
       "      <td>-238.646914</td>\n",
       "      <td>2619616.0</td>\n",
       "      <td>196642.0</td>\n",
       "      <td>63235.0</td>\n",
       "      <td>32936.896584</td>\n",
       "    </tr>\n",
       "    <tr>\n",
       "      <th>340</th>\n",
       "      <td>France</td>\n",
       "      <td>2020-12-29</td>\n",
       "      <td>91.463495</td>\n",
       "      <td>-238.646914</td>\n",
       "      <td>2631110.0</td>\n",
       "      <td>197726.0</td>\n",
       "      <td>64204.0</td>\n",
       "      <td>32941.767217</td>\n",
       "    </tr>\n",
       "    <tr>\n",
       "      <th>341</th>\n",
       "      <td>France</td>\n",
       "      <td>2020-12-30</td>\n",
       "      <td>91.463495</td>\n",
       "      <td>-238.646914</td>\n",
       "      <td>2657624.0</td>\n",
       "      <td>198966.0</td>\n",
       "      <td>64508.0</td>\n",
       "      <td>32946.536673</td>\n",
       "    </tr>\n",
       "    <tr>\n",
       "      <th>342</th>\n",
       "      <td>France</td>\n",
       "      <td>2020-12-31</td>\n",
       "      <td>91.463495</td>\n",
       "      <td>-238.646914</td>\n",
       "      <td>2677666.0</td>\n",
       "      <td>200142.0</td>\n",
       "      <td>64759.0</td>\n",
       "      <td>32951.207055</td>\n",
       "    </tr>\n",
       "  </tbody>\n",
       "</table>\n",
       "<p>343 rows × 8 columns</p>\n",
       "</div>"
      ],
      "text/plain": [
       "    Country/Region        Date   Latitude   Longitude  Confirmed  Recovered  \\\n",
       "0           France  2020-01-24  14.641500  -56.315900        2.0        0.0   \n",
       "1           France  2020-01-25  14.641500  -56.315900        3.0        0.0   \n",
       "2           France  2020-01-26  14.641500  -56.315900        3.0        0.0   \n",
       "3           France  2020-01-27  14.641500  -56.315900        3.0        0.0   \n",
       "4           France  2020-01-28  14.641500  -56.315900        4.0        0.0   \n",
       "..             ...         ...        ...         ...        ...        ...   \n",
       "338         France  2020-12-27  91.463495 -238.646914  2616510.0   195861.0   \n",
       "339         France  2020-12-28  91.463495 -238.646914  2619616.0   196642.0   \n",
       "340         France  2020-12-29  91.463495 -238.646914  2631110.0   197726.0   \n",
       "341         France  2020-12-30  91.463495 -238.646914  2657624.0   198966.0   \n",
       "342         France  2020-12-31  91.463495 -238.646914  2677666.0   200142.0   \n",
       "\n",
       "      Deaths   Predictions  \n",
       "0        0.0           NaN  \n",
       "1        0.0           NaN  \n",
       "2        0.0           NaN  \n",
       "3        0.0           NaN  \n",
       "4        0.0           NaN  \n",
       "..       ...           ...  \n",
       "338  62867.0  32931.922629  \n",
       "339  63235.0  32936.896584  \n",
       "340  64204.0  32941.767217  \n",
       "341  64508.0  32946.536673  \n",
       "342  64759.0  32951.207055  \n",
       "\n",
       "[343 rows x 8 columns]"
      ]
     },
     "execution_count": 51,
     "metadata": {},
     "output_type": "execute_result"
    }
   ],
   "source": [
    "scenario.result.read()"
   ]
  },
  {
   "cell_type": "code",
   "execution_count": 52,
   "id": "79602c0e",
   "metadata": {
    "id": "79602c0e",
    "outputId": "fe06a4ba-a59a-419e-f244-aed87412fb05"
   },
   "outputs": [
    {
     "data": {
      "text/plain": [
       "array([31336.9148603 , 31375.02135576, 31412.33627827, 31448.87607089,\n",
       "       31484.65683512, 31519.69433801, 31554.00401905, 31587.60099703,\n",
       "       31620.5000767 , 31652.71575524, 31684.26222872, 31715.15339829,\n",
       "       31745.40287636, 31775.02399255, 31804.02979962, 31832.43307916,\n",
       "       31860.24634727, 31887.48186005, 31914.15161901, 31940.26737635,\n",
       "       31965.84064017, 31990.88267948, 32015.40452924, 32039.41699515,\n",
       "       32062.93065847, 32085.95588065, 32108.50280792, 32130.58137572,\n",
       "       32152.20131312, 32173.37214709, 32194.1032067 , 32214.40362723,\n",
       "       32234.2823542 , 32253.74814729, 32272.80958425, 32291.47506462,\n",
       "       32309.75281346, 32327.650885  , 32345.17716613, 32362.33937993,\n",
       "       32379.14508903, 32395.601699  , 32411.71646154, 32427.49647773,\n",
       "       32442.94870114, 32458.0799409 , 32472.89686468, 32487.40600167,\n",
       "       32501.61374541, 32515.52635664, 32529.14996604, 32542.49057695,\n",
       "       32555.55406799, 32568.34619569, 32580.87259697, 32593.13879169,\n",
       "       32605.15018501, 32616.91206984, 32628.42962914, 32639.70793819,\n",
       "       32650.75196685, 32661.56658176, 32672.15654843, 32682.52653342,\n",
       "       32692.68110632, 32702.62474182, 32712.36182163, 32721.89663649,\n",
       "       32731.23338795, 32740.37619033, 32749.32907246, 32758.09597948,\n",
       "       32766.68077461, 32775.08724077, 32783.31908234, 32791.37992673,\n",
       "       32799.27332601, 32807.00275845, 32814.57163009, 32821.98327619,\n",
       "       32829.24096276, 32836.34788792, 32843.30718341, 32850.12191587,\n",
       "       32856.79508827, 32863.32964119, 32869.72845411, 32875.99434672,\n",
       "       32882.13008013, 32888.13835808, 32894.02182817, 32899.78308299,\n",
       "       32905.42466126, 32910.94904899, 32916.35868055, 32921.65593971,\n",
       "       32926.84316075, 32931.92262945, 32936.89658413, 32941.76721657,\n",
       "       32946.53667306, 32951.2070553 ])"
      ]
     },
     "execution_count": 52,
     "metadata": {},
     "output_type": "execute_result"
    }
   ],
   "source": [
    "scenario.predictions.read()"
   ]
  },
  {
   "cell_type": "markdown",
   "id": "d9915978",
   "metadata": {
    "id": "d9915978"
   },
   "source": [
    "## 캐싱(Caching)\n",
    "\"input\" Data Nodes 변경되지 않았기 때문에 일부 작업(job)을 건너뜁니다."
   ]
  },
  {
   "cell_type": "code",
   "execution_count": 53,
   "id": "7cb68da0",
   "metadata": {
    "id": "7cb68da0",
    "outputId": "b06a184d-f2aa-4e00-cac4-3a0111d1755c"
   },
   "outputs": [
    {
     "name": "stdout",
     "output_type": "stream",
     "text": [
      "[2022-08-10 14:35:59,198][Taipy][INFO] job JOB_task_preprocess_data_08204303-4ee6-46d1-9cce-987d682fa3d3 is skipped.\n",
      "[2022-08-10 14:35:59,290][Taipy][INFO] job JOB_task_make_train_test_data_98a2592c-5109-4bd1-945e-30157cafbf86 is skipped.\n",
      "[2022-08-10 14:35:59,363][Taipy][INFO] job JOB_task_train_287fab6e-e40e-47d1-a75d-2d2160eba695 is skipped.\n",
      "[2022-08-10 14:35:59,476][Taipy][INFO] job JOB_task_forecast_fb520e40-8f86-433c-b1d4-b501f2e1fab7 is completed.\n",
      "[2022-08-10 14:35:59,586][Taipy][INFO] job JOB_task_result_519372d8-37a7-4fcd-a1d3-ec33786ddc56 is completed.\n"
     ]
    }
   ],
   "source": [
    "tp.submit(scenario)"
   ]
  },
  {
   "cell_type": "markdown",
   "id": "ba83beac",
   "metadata": {
    "id": "ba83beac"
   },
   "source": [
    "## data nodes에 쓰기\n",
    "\n",
    "데이터 노드를 쓰려면:\n",
    "\n",
    "`<Data Node>.write(new_value)`"
   ]
  },
  {
   "cell_type": "code",
   "execution_count": 54,
   "id": "31d6562d",
   "metadata": {
    "id": "31d6562d",
    "outputId": "9fef8e2d-9026-438f-da23-8299d3fe3497"
   },
   "outputs": [
    {
     "name": "stderr",
     "output_type": "stream",
     "text": [
      "C:\\ProgramData\\Anaconda3\\lib\\site-packages\\taipy\\core\\data\\csv.py:145: DtypeWarning: Columns (0,1) have mixed types. Specify dtype option on import or set low_memory=False.\n",
      "  return pd.read_csv(self._path)\n"
     ]
    },
    {
     "name": "stdout",
     "output_type": "stream",
     "text": [
      "[2022-08-10 14:36:00,865][Taipy][INFO] job JOB_task_preprocess_data_a420b732-3985-46eb-a823-0751d2035c80 is completed.\n",
      "[2022-08-10 14:36:00,972][Taipy][INFO] job JOB_task_make_train_test_data_89ce8a20-8537-4558-bbcd-866b916bf410 is completed.\n",
      "Performing stepwise search to minimize aic\n",
      " ARIMA(1,1,1)(0,0,0)[0] intercept   : AIC=3565.937, Time=0.03 sec\n",
      " ARIMA(0,1,0)(0,0,0)[0] intercept   : AIC=3869.494, Time=0.01 sec\n",
      " ARIMA(1,1,0)(0,0,0)[0] intercept   : AIC=3564.625, Time=0.02 sec\n",
      " ARIMA(0,1,1)(0,0,0)[0] intercept   : AIC=3712.670, Time=0.06 sec\n",
      " ARIMA(0,1,0)(0,0,0)[0]             : AIC=4064.717, Time=0.00 sec\n",
      " ARIMA(2,1,0)(0,0,0)[0] intercept   : AIC=3565.875, Time=0.03 sec\n",
      " ARIMA(2,1,1)(0,0,0)[0] intercept   : AIC=3567.852, Time=0.05 sec\n",
      " ARIMA(1,1,0)(0,0,0)[0]             : AIC=3573.780, Time=0.01 sec\n",
      "\n",
      "Best model:  ARIMA(1,1,0)(0,0,0)[0] intercept\n",
      "Total fit time: 0.219 seconds\n",
      "[2022-08-10 14:36:01,306][Taipy][INFO] job JOB_task_train_25b7a757-12e1-42da-9cad-9dda1822dfdb is completed.\n",
      "[2022-08-10 14:36:01,392][Taipy][INFO] job JOB_task_forecast_9c2a42ed-32e9-4173-b326-322eed0bd5b4 is completed.\n",
      "[2022-08-10 14:36:01,502][Taipy][INFO] job JOB_task_result_ccd469b0-8eb2-461b-9bbe-f39df39d410c is completed.\n"
     ]
    },
    {
     "data": {
      "text/html": [
       "<div>\n",
       "<style scoped>\n",
       "    .dataframe tbody tr th:only-of-type {\n",
       "        vertical-align: middle;\n",
       "    }\n",
       "\n",
       "    .dataframe tbody tr th {\n",
       "        vertical-align: top;\n",
       "    }\n",
       "\n",
       "    .dataframe thead th {\n",
       "        text-align: right;\n",
       "    }\n",
       "</style>\n",
       "<table border=\"1\" class=\"dataframe\">\n",
       "  <thead>\n",
       "    <tr style=\"text-align: right;\">\n",
       "      <th></th>\n",
       "      <th>Country/Region</th>\n",
       "      <th>Date</th>\n",
       "      <th>Latitude</th>\n",
       "      <th>Longitude</th>\n",
       "      <th>Confirmed</th>\n",
       "      <th>Recovered</th>\n",
       "      <th>Deaths</th>\n",
       "      <th>Predictions</th>\n",
       "    </tr>\n",
       "  </thead>\n",
       "  <tbody>\n",
       "    <tr>\n",
       "      <th>0</th>\n",
       "      <td>US</td>\n",
       "      <td>2020-01-22</td>\n",
       "      <td>47.140037</td>\n",
       "      <td>-120.791360</td>\n",
       "      <td>1.0</td>\n",
       "      <td>0.0</td>\n",
       "      <td>0.0</td>\n",
       "      <td>NaN</td>\n",
       "    </tr>\n",
       "    <tr>\n",
       "      <th>1</th>\n",
       "      <td>US</td>\n",
       "      <td>2020-01-23</td>\n",
       "      <td>47.140037</td>\n",
       "      <td>-120.791360</td>\n",
       "      <td>1.0</td>\n",
       "      <td>0.0</td>\n",
       "      <td>0.0</td>\n",
       "      <td>NaN</td>\n",
       "    </tr>\n",
       "    <tr>\n",
       "      <th>2</th>\n",
       "      <td>US</td>\n",
       "      <td>2020-01-24</td>\n",
       "      <td>85.345498</td>\n",
       "      <td>-210.450080</td>\n",
       "      <td>2.0</td>\n",
       "      <td>0.0</td>\n",
       "      <td>0.0</td>\n",
       "      <td>NaN</td>\n",
       "    </tr>\n",
       "    <tr>\n",
       "      <th>3</th>\n",
       "      <td>US</td>\n",
       "      <td>2020-01-25</td>\n",
       "      <td>87.000686</td>\n",
       "      <td>-209.922210</td>\n",
       "      <td>2.0</td>\n",
       "      <td>0.0</td>\n",
       "      <td>0.0</td>\n",
       "      <td>NaN</td>\n",
       "    </tr>\n",
       "    <tr>\n",
       "      <th>4</th>\n",
       "      <td>US</td>\n",
       "      <td>2020-01-26</td>\n",
       "      <td>158.375485</td>\n",
       "      <td>-442.264230</td>\n",
       "      <td>5.0</td>\n",
       "      <td>0.0</td>\n",
       "      <td>0.0</td>\n",
       "      <td>NaN</td>\n",
       "    </tr>\n",
       "    <tr>\n",
       "      <th>...</th>\n",
       "      <td>...</td>\n",
       "      <td>...</td>\n",
       "      <td>...</td>\n",
       "      <td>...</td>\n",
       "      <td>...</td>\n",
       "      <td>...</td>\n",
       "      <td>...</td>\n",
       "      <td>...</td>\n",
       "    </tr>\n",
       "    <tr>\n",
       "      <th>340</th>\n",
       "      <td>US</td>\n",
       "      <td>2020-12-27</td>\n",
       "      <td>124119.377356</td>\n",
       "      <td>-298994.802493</td>\n",
       "      <td>19222064.0</td>\n",
       "      <td>0.0</td>\n",
       "      <td>334533.0</td>\n",
       "      <td>281684.137063</td>\n",
       "    </tr>\n",
       "    <tr>\n",
       "      <th>341</th>\n",
       "      <td>US</td>\n",
       "      <td>2020-12-28</td>\n",
       "      <td>124119.377356</td>\n",
       "      <td>-298994.802493</td>\n",
       "      <td>19396237.0</td>\n",
       "      <td>0.0</td>\n",
       "      <td>336438.0</td>\n",
       "      <td>282520.641619</td>\n",
       "    </tr>\n",
       "    <tr>\n",
       "      <th>342</th>\n",
       "      <td>US</td>\n",
       "      <td>2020-12-29</td>\n",
       "      <td>124119.377356</td>\n",
       "      <td>-298994.802493</td>\n",
       "      <td>19595117.0</td>\n",
       "      <td>0.0</td>\n",
       "      <td>340061.0</td>\n",
       "      <td>283357.146177</td>\n",
       "    </tr>\n",
       "    <tr>\n",
       "      <th>343</th>\n",
       "      <td>US</td>\n",
       "      <td>2020-12-30</td>\n",
       "      <td>124119.377356</td>\n",
       "      <td>-298994.802493</td>\n",
       "      <td>19827133.0</td>\n",
       "      <td>0.0</td>\n",
       "      <td>343783.0</td>\n",
       "      <td>284193.650735</td>\n",
       "    </tr>\n",
       "    <tr>\n",
       "      <th>344</th>\n",
       "      <td>US</td>\n",
       "      <td>2020-12-31</td>\n",
       "      <td>124119.377356</td>\n",
       "      <td>-298994.802493</td>\n",
       "      <td>20061049.0</td>\n",
       "      <td>0.0</td>\n",
       "      <td>347170.0</td>\n",
       "      <td>285030.155294</td>\n",
       "    </tr>\n",
       "  </tbody>\n",
       "</table>\n",
       "<p>345 rows × 8 columns</p>\n",
       "</div>"
      ],
      "text/plain": [
       "    Country/Region        Date       Latitude      Longitude   Confirmed  \\\n",
       "0               US  2020-01-22      47.140037    -120.791360         1.0   \n",
       "1               US  2020-01-23      47.140037    -120.791360         1.0   \n",
       "2               US  2020-01-24      85.345498    -210.450080         2.0   \n",
       "3               US  2020-01-25      87.000686    -209.922210         2.0   \n",
       "4               US  2020-01-26     158.375485    -442.264230         5.0   \n",
       "..             ...         ...            ...            ...         ...   \n",
       "340             US  2020-12-27  124119.377356 -298994.802493  19222064.0   \n",
       "341             US  2020-12-28  124119.377356 -298994.802493  19396237.0   \n",
       "342             US  2020-12-29  124119.377356 -298994.802493  19595117.0   \n",
       "343             US  2020-12-30  124119.377356 -298994.802493  19827133.0   \n",
       "344             US  2020-12-31  124119.377356 -298994.802493  20061049.0   \n",
       "\n",
       "     Recovered    Deaths    Predictions  \n",
       "0          0.0       0.0            NaN  \n",
       "1          0.0       0.0            NaN  \n",
       "2          0.0       0.0            NaN  \n",
       "3          0.0       0.0            NaN  \n",
       "4          0.0       0.0            NaN  \n",
       "..         ...       ...            ...  \n",
       "340        0.0  334533.0  281684.137063  \n",
       "341        0.0  336438.0  282520.641619  \n",
       "342        0.0  340061.0  283357.146177  \n",
       "343        0.0  343783.0  284193.650735  \n",
       "344        0.0  347170.0  285030.155294  \n",
       "\n",
       "[345 rows x 8 columns]"
      ]
     },
     "execution_count": 54,
     "metadata": {},
     "output_type": "execute_result"
    }
   ],
   "source": [
    "scenario.country.write('US')\n",
    "tp.submit(scenario)\n",
    "scenario.result.read()"
   ]
  },
  {
   "cell_type": "markdown",
   "id": "9d9d2c81",
   "metadata": {},
   "source": [
    "## 간단한 framework"
   ]
  },
  {
   "cell_type": "code",
   "execution_count": 55,
   "id": "4892eb7d",
   "metadata": {},
   "outputs": [
    {
     "name": "stderr",
     "output_type": "stream",
     "text": [
      "C:\\ProgramData\\Anaconda3\\lib\\site-packages\\taipy\\core\\data\\csv.py:145: DtypeWarning: Columns (0,1) have mixed types. Specify dtype option on import or set low_memory=False.\n",
      "  return pd.read_csv(self._path)\n"
     ]
    },
    {
     "name": "stdout",
     "output_type": "stream",
     "text": [
      "[2022-08-10 14:36:02,904][Taipy][INFO] job JOB_task_preprocess_data_2b7cfb73-2ee0-42e2-a464-2f9c06dd597b is completed.\n",
      "[2022-08-10 14:36:03,014][Taipy][INFO] job JOB_task_make_train_test_data_b72bfdb4-8ea0-4710-b859-16cfb4374f40 is completed.\n",
      "Performing stepwise search to minimize aic\n",
      " ARIMA(1,1,1)(0,0,0)[0] intercept   : AIC=2994.124, Time=0.11 sec\n",
      " ARIMA(0,1,0)(0,0,0)[0] intercept   : AIC=3349.636, Time=0.01 sec\n",
      " ARIMA(1,1,0)(0,0,0)[0] intercept   : AIC=3045.305, Time=0.04 sec\n",
      " ARIMA(0,1,1)(0,0,0)[0] intercept   : AIC=3200.566, Time=0.05 sec\n",
      " ARIMA(0,1,0)(0,0,0)[0]             : AIC=3402.421, Time=0.00 sec\n",
      " ARIMA(2,1,1)(0,0,0)[0] intercept   : AIC=2996.090, Time=0.17 sec\n",
      " ARIMA(1,1,2)(0,0,0)[0] intercept   : AIC=2996.081, Time=0.14 sec\n",
      " ARIMA(0,1,2)(0,0,0)[0] intercept   : AIC=3162.541, Time=0.11 sec\n",
      " ARIMA(2,1,0)(0,0,0)[0] intercept   : AIC=3014.299, Time=0.04 sec\n",
      " ARIMA(2,1,2)(0,0,0)[0] intercept   : AIC=2996.306, Time=0.15 sec\n",
      " ARIMA(1,1,1)(0,0,0)[0]             : AIC=2992.816, Time=0.04 sec\n",
      " ARIMA(0,1,1)(0,0,0)[0]             : AIC=3237.322, Time=0.03 sec\n",
      " ARIMA(1,1,0)(0,0,0)[0]             : AIC=3047.241, Time=0.02 sec\n",
      " ARIMA(2,1,1)(0,0,0)[0]             : AIC=2994.775, Time=0.09 sec\n",
      " ARIMA(1,1,2)(0,0,0)[0]             : AIC=2994.765, Time=0.07 sec\n",
      " ARIMA(0,1,2)(0,0,0)[0]             : AIC=3191.574, Time=0.07 sec\n",
      " ARIMA(2,1,0)(0,0,0)[0]             : AIC=3014.129, Time=0.03 sec\n",
      " ARIMA(2,1,2)(0,0,0)[0]             : AIC=2994.978, Time=0.06 sec\n",
      "\n",
      "Best model:  ARIMA(1,1,1)(0,0,0)[0]          \n",
      "Total fit time: 1.239 seconds\n",
      "[2022-08-10 14:36:04,392][Taipy][INFO] job JOB_task_train_ec0057a7-c040-4ce2-a481-5ce8df80a488 is completed.\n",
      "[2022-08-10 14:36:04,484][Taipy][INFO] job JOB_task_forecast_2b322b38-2449-49f9-92bb-b5f74a9aa334 is completed.\n",
      "[2022-08-10 14:36:04,586][Taipy][INFO] job JOB_task_result_a667534f-e4c0-42cd-9e64-47c69289191f is completed.\n"
     ]
    }
   ],
   "source": [
    "scenario = tp.create_scenario(scenario_cfg, name='Second Scenario')\n",
    "tp.submit(scenario)"
   ]
  },
  {
   "cell_type": "code",
   "execution_count": 56,
   "id": "a9248942",
   "metadata": {},
   "outputs": [
    {
     "data": {
      "text/plain": [
       "[ARIMA(order=(1, 1, 1), scoring_args={}, suppress_warnings=True,\n",
       "       with_intercept=False),\n",
       " ARIMA(order=(1, 1, 0), scoring_args={}, suppress_warnings=True),\n",
       " ARIMA(order=(1, 1, 1), scoring_args={}, suppress_warnings=True,\n",
       "       with_intercept=False)]"
      ]
     },
     "execution_count": 56,
     "metadata": {},
     "output_type": "execute_result"
    }
   ],
   "source": [
    "[s.model.read() for s in tp.get_scenarios()]"
   ]
  },
  {
   "cell_type": "markdown",
   "id": "73fd648f",
   "metadata": {
    "id": "73fd648f"
   },
   "source": [
    "## 백엔드용 Gui 생성 \n",
    "_scenario_selector_ 를 사용하면 시나리오를 선택하고 result를 표시할 수 있습니다."
   ]
  },
  {
   "cell_type": "code",
   "execution_count": 57,
   "id": "760f1a04",
   "metadata": {
    "id": "760f1a04",
    "outputId": "447fe599-faf2-47d9-d3f8-2f3e2297642a"
   },
   "outputs": [
    {
     "name": "stdout",
     "output_type": "stream",
     "text": [
      "[('SCENARIO_scenario_4ff955a8-31d8-4cde-9100-6c7a778462db', 'First Scenario'), ('SCENARIO_scenario_839d877f-6441-4b0c-8c94-7b208e2b21b4', 'First Scenario'), ('SCENARIO_scenario_e71a3874-8faa-401b-9799-80ec29f13e2e', 'Second Scenario')] \n",
      " SCENARIO_scenario_e71a3874-8faa-401b-9799-80ec29f13e2e\n"
     ]
    }
   ],
   "source": [
    "scenario_selector = [(s.id, s.name) for s in tp.get_scenarios()]\n",
    "selected_scenario = scenario.id\n",
    "print(scenario_selector,'\\n', selected_scenario)"
   ]
  },
  {
   "cell_type": "code",
   "execution_count": 58,
   "id": "b590bdcc",
   "metadata": {
    "id": "b590bdcc",
    "outputId": "5747bb81-4c48-45ad-8457-f36fa783cff5",
    "scrolled": true
   },
   "outputs": [
    {
     "data": {
      "text/html": [
       "<div>\n",
       "<style scoped>\n",
       "    .dataframe tbody tr th:only-of-type {\n",
       "        vertical-align: middle;\n",
       "    }\n",
       "\n",
       "    .dataframe tbody tr th {\n",
       "        vertical-align: top;\n",
       "    }\n",
       "\n",
       "    .dataframe thead th {\n",
       "        text-align: right;\n",
       "    }\n",
       "</style>\n",
       "<table border=\"1\" class=\"dataframe\">\n",
       "  <thead>\n",
       "    <tr style=\"text-align: right;\">\n",
       "      <th></th>\n",
       "      <th>Country/Region</th>\n",
       "      <th>Date</th>\n",
       "      <th>Latitude</th>\n",
       "      <th>Longitude</th>\n",
       "      <th>Confirmed</th>\n",
       "      <th>Recovered</th>\n",
       "      <th>Deaths</th>\n",
       "      <th>Predictions</th>\n",
       "    </tr>\n",
       "  </thead>\n",
       "  <tbody>\n",
       "    <tr>\n",
       "      <th>0</th>\n",
       "      <td>France</td>\n",
       "      <td>2020-01-24</td>\n",
       "      <td>14.641500</td>\n",
       "      <td>-56.315900</td>\n",
       "      <td>2.0</td>\n",
       "      <td>0.0</td>\n",
       "      <td>0.0</td>\n",
       "      <td>NaN</td>\n",
       "    </tr>\n",
       "    <tr>\n",
       "      <th>1</th>\n",
       "      <td>France</td>\n",
       "      <td>2020-01-25</td>\n",
       "      <td>14.641500</td>\n",
       "      <td>-56.315900</td>\n",
       "      <td>3.0</td>\n",
       "      <td>0.0</td>\n",
       "      <td>0.0</td>\n",
       "      <td>NaN</td>\n",
       "    </tr>\n",
       "    <tr>\n",
       "      <th>2</th>\n",
       "      <td>France</td>\n",
       "      <td>2020-01-26</td>\n",
       "      <td>14.641500</td>\n",
       "      <td>-56.315900</td>\n",
       "      <td>3.0</td>\n",
       "      <td>0.0</td>\n",
       "      <td>0.0</td>\n",
       "      <td>NaN</td>\n",
       "    </tr>\n",
       "    <tr>\n",
       "      <th>3</th>\n",
       "      <td>France</td>\n",
       "      <td>2020-01-27</td>\n",
       "      <td>14.641500</td>\n",
       "      <td>-56.315900</td>\n",
       "      <td>3.0</td>\n",
       "      <td>0.0</td>\n",
       "      <td>0.0</td>\n",
       "      <td>NaN</td>\n",
       "    </tr>\n",
       "    <tr>\n",
       "      <th>4</th>\n",
       "      <td>France</td>\n",
       "      <td>2020-01-28</td>\n",
       "      <td>14.641500</td>\n",
       "      <td>-56.315900</td>\n",
       "      <td>4.0</td>\n",
       "      <td>0.0</td>\n",
       "      <td>0.0</td>\n",
       "      <td>NaN</td>\n",
       "    </tr>\n",
       "    <tr>\n",
       "      <th>...</th>\n",
       "      <td>...</td>\n",
       "      <td>...</td>\n",
       "      <td>...</td>\n",
       "      <td>...</td>\n",
       "      <td>...</td>\n",
       "      <td>...</td>\n",
       "      <td>...</td>\n",
       "      <td>...</td>\n",
       "    </tr>\n",
       "    <tr>\n",
       "      <th>338</th>\n",
       "      <td>France</td>\n",
       "      <td>2020-12-27</td>\n",
       "      <td>91.463495</td>\n",
       "      <td>-238.646914</td>\n",
       "      <td>2616510.0</td>\n",
       "      <td>195861.0</td>\n",
       "      <td>62867.0</td>\n",
       "      <td>32931.922629</td>\n",
       "    </tr>\n",
       "    <tr>\n",
       "      <th>339</th>\n",
       "      <td>France</td>\n",
       "      <td>2020-12-28</td>\n",
       "      <td>91.463495</td>\n",
       "      <td>-238.646914</td>\n",
       "      <td>2619616.0</td>\n",
       "      <td>196642.0</td>\n",
       "      <td>63235.0</td>\n",
       "      <td>32936.896584</td>\n",
       "    </tr>\n",
       "    <tr>\n",
       "      <th>340</th>\n",
       "      <td>France</td>\n",
       "      <td>2020-12-29</td>\n",
       "      <td>91.463495</td>\n",
       "      <td>-238.646914</td>\n",
       "      <td>2631110.0</td>\n",
       "      <td>197726.0</td>\n",
       "      <td>64204.0</td>\n",
       "      <td>32941.767217</td>\n",
       "    </tr>\n",
       "    <tr>\n",
       "      <th>341</th>\n",
       "      <td>France</td>\n",
       "      <td>2020-12-30</td>\n",
       "      <td>91.463495</td>\n",
       "      <td>-238.646914</td>\n",
       "      <td>2657624.0</td>\n",
       "      <td>198966.0</td>\n",
       "      <td>64508.0</td>\n",
       "      <td>32946.536673</td>\n",
       "    </tr>\n",
       "    <tr>\n",
       "      <th>342</th>\n",
       "      <td>France</td>\n",
       "      <td>2020-12-31</td>\n",
       "      <td>91.463495</td>\n",
       "      <td>-238.646914</td>\n",
       "      <td>2677666.0</td>\n",
       "      <td>200142.0</td>\n",
       "      <td>64759.0</td>\n",
       "      <td>32951.207055</td>\n",
       "    </tr>\n",
       "  </tbody>\n",
       "</table>\n",
       "<p>343 rows × 8 columns</p>\n",
       "</div>"
      ],
      "text/plain": [
       "    Country/Region        Date   Latitude   Longitude  Confirmed  Recovered  \\\n",
       "0           France  2020-01-24  14.641500  -56.315900        2.0        0.0   \n",
       "1           France  2020-01-25  14.641500  -56.315900        3.0        0.0   \n",
       "2           France  2020-01-26  14.641500  -56.315900        3.0        0.0   \n",
       "3           France  2020-01-27  14.641500  -56.315900        3.0        0.0   \n",
       "4           France  2020-01-28  14.641500  -56.315900        4.0        0.0   \n",
       "..             ...         ...        ...         ...        ...        ...   \n",
       "338         France  2020-12-27  91.463495 -238.646914  2616510.0   195861.0   \n",
       "339         France  2020-12-28  91.463495 -238.646914  2619616.0   196642.0   \n",
       "340         France  2020-12-29  91.463495 -238.646914  2631110.0   197726.0   \n",
       "341         France  2020-12-30  91.463495 -238.646914  2657624.0   198966.0   \n",
       "342         France  2020-12-31  91.463495 -238.646914  2677666.0   200142.0   \n",
       "\n",
       "      Deaths   Predictions  \n",
       "0        0.0           NaN  \n",
       "1        0.0           NaN  \n",
       "2        0.0           NaN  \n",
       "3        0.0           NaN  \n",
       "4        0.0           NaN  \n",
       "..       ...           ...  \n",
       "338  62867.0  32931.922629  \n",
       "339  63235.0  32936.896584  \n",
       "340  64204.0  32941.767217  \n",
       "341  64508.0  32946.536673  \n",
       "342  64759.0  32951.207055  \n",
       "\n",
       "[343 rows x 8 columns]"
      ]
     },
     "execution_count": 58,
     "metadata": {},
     "output_type": "execute_result"
    }
   ],
   "source": [
    "result = scenario.result.read()\n",
    "result"
   ]
  },
  {
   "cell_type": "markdown",
   "id": "53c5cbc8",
   "metadata": {
    "id": "53c5cbc8"
   },
   "source": [
    "**팁** : value_by_id 속성이 선택 항목에 대해 True로 설정되면 selected_scenario가 튜플(tupple)의 첫 번째 요소(여기서는 id)를 직접 참조하게 됩니다."
   ]
  },
  {
   "cell_type": "markdown",
   "id": "4d705028",
   "metadata": {
    "id": "4d705028"
   },
   "source": [
    "![](img/predictions.png)"
   ]
  },
  {
   "cell_type": "code",
   "execution_count": 59,
   "id": "ff76ef5f",
   "metadata": {
    "id": "ff76ef5f"
   },
   "outputs": [],
   "source": [
    "prediction_md = \"\"\"\n",
    "<|layout|columns=1 5 1 3|\n",
    "<|{scenario_name}|input|label=Name|>\n",
    "\n",
    "<br/>\n",
    "<|Create|button|on_action=create_new_scenario|>\n",
    "\n",
    "<|{selected_country}|selector|lov={selector_country}|dropdown|on_change=on_change_country|label=Country|>\n",
    "\n",
    "<br/>\n",
    "<|Submit|button|on_action=submit_scenario|>\n",
    "\n",
    "<|{selected_scenario}|selector|lov={scenario_selector}|on_change=actualize_graph|dropdown|value_by_id|label=Scenario|>\n",
    "|>\n",
    "\n",
    "<|{result}|chart|x=Date|y[1]=Deaths|type[1]=bar|y[2]=Predictions|>\n",
    "\"\"\""
   ]
  },
  {
   "cell_type": "code",
   "execution_count": 60,
   "id": "de9e35b6",
   "metadata": {
    "id": "de9e35b6"
   },
   "outputs": [],
   "source": [
    "def create_new_scenario(state):\n",
    "    scenario = tp.create_scenario(scenario_cfg, name=state.scenario_name)\n",
    "    state.scenario_selector += [(scenario.id, scenario.name)]"
   ]
  },
  {
   "cell_type": "code",
   "execution_count": 61,
   "id": "ef2d2fff",
   "metadata": {
    "id": "ef2d2fff"
   },
   "outputs": [],
   "source": [
    "def actualize_graph(state):\n",
    "    # 1) update the result dataframe\n",
    "    # 2) change selected_country with the predicted country of the scenario\n",
    "    scenario = tp.get(state.selected_scenario)\n",
    "    state.result = scenario.result.read()\n",
    "    state.selected_country = scenario.country.read()"
   ]
  },
  {
   "cell_type": "code",
   "execution_count": 62,
   "id": "41f73a34",
   "metadata": {
    "id": "41f73a34"
   },
   "outputs": [],
   "source": [
    "def submit_scenario(state):\n",
    "    # 1) get the selected scenario\n",
    "    # 2) write in country Data Node, the selected country\n",
    "    # 3) submit the scenario\n",
    "    # 4) actualize le graph avec actualize_graph\n",
    "    scenario = tp.get(state.selected_scenario)\n",
    "    scenario.country.write(state.selected_country)\n",
    "    tp.submit(scenario)\n",
    "    actualize_graph(state)"
   ]
  },
  {
   "cell_type": "code",
   "execution_count": 63,
   "id": "b9d18b7f",
   "metadata": {
    "id": "b9d18b7f",
    "outputId": "f0b7e1d3-3a44-4f8d-fccf-95065ae86ea1"
   },
   "outputs": [
    {
     "name": "stdout",
     "output_type": "stream",
     "text": [
      "Gui server has been stopped\n",
      " * Server starting on http://127.0.0.1:5011\n"
     ]
    }
   ],
   "source": [
    "gui.stop()\n",
    "page.set_content(prediction_md)\n",
    "gui.run(port=5011)"
   ]
  },
  {
   "cell_type": "markdown",
   "id": "40a63136",
   "metadata": {
    "id": "40a63136"
   },
   "source": [
    "# 다중 페이지(Multi-pages) 및 Taipy Rest"
   ]
  },
  {
   "cell_type": "markdown",
   "id": "9b4d3ab8",
   "metadata": {
    "id": "9b4d3ab8"
   },
   "source": [
    "다중 페이지 앱을 만들려면 names이 keys로, Markdowns이 values으로 포함된 사전(dictionary)만 있으면 됩니다.\n",
    "\n",
    "_navbar_ 컨트롤 (<|navbar|>)에는 기본 동작(default behaviour)이 있습니다. 앱의 다른 페이지로 자동으로 리디렉션됩니다. 다른 솔루션도 있습니다."
   ]
  },
  {
   "cell_type": "markdown",
   "id": "77019d17",
   "metadata": {
    "id": "77019d17"
   },
   "source": [
    "![](img/multi_pages.png)"
   ]
  },
  {
   "cell_type": "code",
   "execution_count": 65,
   "id": "b0db7725",
   "metadata": {
    "id": "b0db7725",
    "outputId": "26b9efff-d31d-429a-ca16-a7f07e704605"
   },
   "outputs": [
    {
     "name": "stdout",
     "output_type": "stream",
     "text": [
      " * Server starting on http://127.0.0.1:5012\n",
      " * Serving Flask app 'taipy.rest.app'\n",
      " * Debug mode: off\n"
     ]
    }
   ],
   "source": [
    "navbar_md = \"<center>\\n<|navbar|>\\n</center>\"\n",
    "\n",
    "pages = {\n",
    "    \"Map\":navbar_md+map_md,\n",
    "    \"Country\":navbar_md+final_country_md,\n",
    "    \"Predictions\":navbar_md+prediction_md\n",
    "}\n",
    "\n",
    "rest = tp.Rest()\n",
    "\n",
    "gui_multi_pages = Gui(pages=pages)\n",
    "tp.run(gui_multi_pages, rest, dark_mode=False, port=5012)"
   ]
  }
 ],
 "metadata": {
  "colab": {
   "collapsed_sections": [
    "b4ac0541",
    "6580b5fe",
    "f84e0a88",
    "cd4d0268",
    "f48f94cd",
    "6e528ce2",
    "6ab0529e",
    "b19ed6d7",
    "e9a53d43",
    "1908c988",
    "849d0a97",
    "73ab0ee0",
    "252820b6",
    "27dbc823",
    "986ebad5",
    "d9915978",
    "ba83beac",
    "73fd648f"
   ],
   "name": "Microsoft_workshop-solution_en.ipynb",
   "provenance": []
  },
  "kernelspec": {
   "display_name": "Python 3 (ipykernel)",
   "language": "python",
   "name": "python3"
  },
  "language_info": {
   "codemirror_mode": {
    "name": "ipython",
    "version": 3
   },
   "file_extension": ".py",
   "mimetype": "text/x-python",
   "name": "python",
   "nbconvert_exporter": "python",
   "pygments_lexer": "ipython3",
   "version": "3.9.12"
  }
 },
 "nbformat": 4,
 "nbformat_minor": 5
}
