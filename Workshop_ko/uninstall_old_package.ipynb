{
 "cells": [
  {
   "cell_type": "code",
   "execution_count": null,
   "id": "f232427a",
   "metadata": {},
   "outputs": [],
   "source": [
    "pip uninstall taipy"
   ]
  },
  {
   "cell_type": "code",
   "execution_count": null,
   "id": "c404aa5c",
   "metadata": {},
   "outputs": [],
   "source": [
    "pip uninstall pmdarima"
   ]
  },
  {
   "cell_type": "code",
   "execution_count": null,
   "id": "03c97d3e",
   "metadata": {},
   "outputs": [],
   "source": [
    "pip uninstall -r requests"
   ]
  },
  {
   "cell_type": "code",
   "execution_count": null,
   "id": "9e7024a8",
   "metadata": {},
   "outputs": [],
   "source": []
  }
 ],
 "metadata": {
  "kernelspec": {
   "display_name": "Python 3 (ipykernel)",
   "language": "python",
   "name": "python3"
  },
  "language_info": {
   "codemirror_mode": {
    "name": "ipython",
    "version": 3
   },
   "file_extension": ".py",
   "mimetype": "text/x-python",
   "name": "python",
   "nbconvert_exporter": "python",
   "pygments_lexer": "ipython3",
   "version": "3.9.7"
  }
 },
 "nbformat": 4,
 "nbformat_minor": 5
}
