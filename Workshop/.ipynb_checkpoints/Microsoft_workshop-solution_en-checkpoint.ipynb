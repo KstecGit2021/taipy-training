{
 "cells": [
  {
   "cell_type": "markdown",
   "id": "306e5793",
   "metadata": {
    "id": "306e5793"
   },
   "source": [
    "# Install Taipy\n",
    "\n",
    "To install Taipy, just `pip install` it."
   ]
  },
  {
   "cell_type": "code",
   "execution_count": 1,
   "id": "c9cd05ba",
   "metadata": {
    "id": "c9cd05ba"
   },
   "outputs": [
    {
     "name": "stdout",
     "output_type": "stream",
     "text": [
      "Requirement already satisfied: taipy in c:\\users\\ohbok\\anaconda3\\lib\\site-packages (1.0.0)\n",
      "Requirement already satisfied: taipy-gui<1.1,>=1.0 in c:\\users\\ohbok\\anaconda3\\lib\\site-packages (from taipy) (1.0.0)\n",
      "Requirement already satisfied: taipy-rest<1.1,>=1.0 in c:\\users\\ohbok\\anaconda3\\lib\\site-packages (from taipy) (1.0.0)\n",
      "Requirement already satisfied: numpy in c:\\users\\ohbok\\anaconda3\\lib\\site-packages (from taipy-gui<1.1,>=1.0->taipy) (1.22.3)\n",
      "Requirement already satisfied: pytz in c:\\users\\ohbok\\anaconda3\\lib\\site-packages (from taipy-gui<1.1,>=1.0->taipy) (2021.3)\n",
      "Requirement already satisfied: flask-talisman in c:\\users\\ohbok\\anaconda3\\lib\\site-packages (from taipy-gui<1.1,>=1.0->taipy) (1.0.0)\n",
      "Requirement already satisfied: flask-cors in c:\\users\\ohbok\\anaconda3\\lib\\site-packages (from taipy-gui<1.1,>=1.0->taipy) (3.0.10)\n",
      "Requirement already satisfied: markdown in c:\\users\\ohbok\\anaconda3\\lib\\site-packages (from taipy-gui<1.1,>=1.0->taipy) (3.3.6)\n",
      "Requirement already satisfied: pandas in c:\\users\\ohbok\\anaconda3\\lib\\site-packages (from taipy-gui<1.1,>=1.0->taipy) (1.3.4)\n",
      "Requirement already satisfied: tzlocal in c:\\users\\ohbok\\anaconda3\\lib\\site-packages (from taipy-gui<1.1,>=1.0->taipy) (4.2)\n",
      "Requirement already satisfied: python-dotenv in c:\\users\\ohbok\\anaconda3\\lib\\site-packages (from taipy-gui<1.1,>=1.0->taipy) (0.20.0)\n",
      "Requirement already satisfied: flask-socketio in c:\\users\\ohbok\\anaconda3\\lib\\site-packages (from taipy-gui<1.1,>=1.0->taipy) (5.1.1)\n",
      "Requirement already satisfied: flask in c:\\users\\ohbok\\anaconda3\\lib\\site-packages (from taipy-gui<1.1,>=1.0->taipy) (1.1.2)\n",
      "Requirement already satisfied: simple-websocket in c:\\users\\ohbok\\anaconda3\\lib\\site-packages (from taipy-gui<1.1,>=1.0->taipy) (0.5.2)\n",
      "Requirement already satisfied: apispec[yaml] in c:\\users\\ohbok\\anaconda3\\lib\\site-packages (from taipy-rest<1.1,>=1.0->taipy) (5.1.1)\n",
      "Requirement already satisfied: flask-restful in c:\\users\\ohbok\\anaconda3\\lib\\site-packages (from taipy-rest<1.1,>=1.0->taipy) (0.3.9)\n",
      "Requirement already satisfied: passlib in c:\\users\\ohbok\\anaconda3\\lib\\site-packages (from taipy-rest<1.1,>=1.0->taipy) (1.7.4)\n",
      "Requirement already satisfied: marshmallow-sqlalchemy in c:\\users\\ohbok\\anaconda3\\lib\\site-packages (from taipy-rest<1.1,>=1.0->taipy) (0.28.0)\n",
      "Requirement already satisfied: flask-migrate in c:\\users\\ohbok\\anaconda3\\lib\\site-packages (from taipy-rest<1.1,>=1.0->taipy) (3.1.0)\n",
      "Requirement already satisfied: apispec-webframeworks in c:\\users\\ohbok\\anaconda3\\lib\\site-packages (from taipy-rest<1.1,>=1.0->taipy) (0.5.2)\n",
      "Requirement already satisfied: flask-marshmallow in c:\\users\\ohbok\\anaconda3\\lib\\site-packages (from taipy-rest<1.1,>=1.0->taipy) (0.14.0)\n",
      "Requirement already satisfied: taipy-core<1.1,>=1.0 in c:\\users\\ohbok\\anaconda3\\lib\\site-packages (from taipy-rest<1.1,>=1.0->taipy) (1.0.0)\n",
      "Requirement already satisfied: flask-jwt-extended in c:\\users\\ohbok\\anaconda3\\lib\\site-packages (from taipy-rest<1.1,>=1.0->taipy) (4.3.1)\n",
      "Requirement already satisfied: flask-sqlalchemy in c:\\users\\ohbok\\anaconda3\\lib\\site-packages (from taipy-rest<1.1,>=1.0->taipy) (2.5.1)\n",
      "Requirement already satisfied: networkx in c:\\users\\ohbok\\anaconda3\\lib\\site-packages (from taipy-core<1.1,>=1.0->taipy-rest<1.1,>=1.0->taipy) (2.6.3)\n",
      "Requirement already satisfied: sqlalchemy in c:\\users\\ohbok\\anaconda3\\lib\\site-packages (from taipy-core<1.1,>=1.0->taipy-rest<1.1,>=1.0->taipy) (1.4.22)\n",
      "Requirement already satisfied: openpyxl in c:\\users\\ohbok\\anaconda3\\lib\\site-packages (from taipy-core<1.1,>=1.0->taipy-rest<1.1,>=1.0->taipy) (3.0.9)\n",
      "Requirement already satisfied: toml in c:\\users\\ohbok\\anaconda3\\lib\\site-packages (from taipy-core<1.1,>=1.0->taipy-rest<1.1,>=1.0->taipy) (0.10.2)\n",
      "Requirement already satisfied: PyYAML>=3.10 in c:\\users\\ohbok\\anaconda3\\lib\\site-packages (from apispec[yaml]->taipy-rest<1.1,>=1.0->taipy) (6.0)\n",
      "Requirement already satisfied: Jinja2>=2.10.1 in c:\\users\\ohbok\\anaconda3\\lib\\site-packages (from flask->taipy-gui<1.1,>=1.0->taipy) (2.11.3)\n",
      "Requirement already satisfied: itsdangerous>=0.24 in c:\\users\\ohbok\\anaconda3\\lib\\site-packages (from flask->taipy-gui<1.1,>=1.0->taipy) (2.0.1)\n",
      "Requirement already satisfied: Werkzeug>=0.15 in c:\\users\\ohbok\\anaconda3\\lib\\site-packages (from flask->taipy-gui<1.1,>=1.0->taipy) (2.0.2)\n",
      "Requirement already satisfied: click>=5.1 in c:\\users\\ohbok\\anaconda3\\lib\\site-packages (from flask->taipy-gui<1.1,>=1.0->taipy) (8.0.3)\n",
      "Requirement already satisfied: colorama in c:\\users\\ohbok\\anaconda3\\lib\\site-packages (from click>=5.1->flask->taipy-gui<1.1,>=1.0->taipy) (0.4.4)\n",
      "Requirement already satisfied: MarkupSafe>=0.23 in c:\\users\\ohbok\\anaconda3\\lib\\site-packages (from Jinja2>=2.10.1->flask->taipy-gui<1.1,>=1.0->taipy) (1.1.1)\n",
      "Requirement already satisfied: Six in c:\\users\\ohbok\\anaconda3\\lib\\site-packages (from flask-cors->taipy-gui<1.1,>=1.0->taipy) (1.16.0)\n",
      "Requirement already satisfied: PyJWT<3.0,>=2.0 in c:\\users\\ohbok\\anaconda3\\lib\\site-packages (from flask-jwt-extended->taipy-rest<1.1,>=1.0->taipy) (2.1.0)\n",
      "Requirement already satisfied: marshmallow>=2.0.0 in c:\\users\\ohbok\\anaconda3\\lib\\site-packages (from flask-marshmallow->taipy-rest<1.1,>=1.0->taipy) (3.15.0)\n",
      "Requirement already satisfied: packaging in c:\\users\\ohbok\\anaconda3\\lib\\site-packages (from marshmallow>=2.0.0->flask-marshmallow->taipy-rest<1.1,>=1.0->taipy) (21.0)\n",
      "Requirement already satisfied: alembic>=0.7 in c:\\users\\ohbok\\anaconda3\\lib\\site-packages (from flask-migrate->taipy-rest<1.1,>=1.0->taipy) (1.7.7)\n",
      "Requirement already satisfied: Mako in c:\\users\\ohbok\\anaconda3\\lib\\site-packages (from alembic>=0.7->flask-migrate->taipy-rest<1.1,>=1.0->taipy) (1.2.0)\n",
      "Requirement already satisfied: greenlet!=0.4.17 in c:\\users\\ohbok\\anaconda3\\lib\\site-packages (from sqlalchemy->taipy-core<1.1,>=1.0->taipy-rest<1.1,>=1.0->taipy) (1.1.1)\n",
      "Requirement already satisfied: aniso8601>=0.82 in c:\\users\\ohbok\\anaconda3\\lib\\site-packages (from flask-restful->taipy-rest<1.1,>=1.0->taipy) (9.0.1)\n",
      "Requirement already satisfied: python-socketio>=5.0.2 in c:\\users\\ohbok\\anaconda3\\lib\\site-packages (from flask-socketio->taipy-gui<1.1,>=1.0->taipy) (5.5.2)\n",
      "Requirement already satisfied: python-engineio>=4.3.0 in c:\\users\\ohbok\\anaconda3\\lib\\site-packages (from python-socketio>=5.0.2->flask-socketio->taipy-gui<1.1,>=1.0->taipy) (4.3.1)\n",
      "Requirement already satisfied: bidict>=0.21.0 in c:\\users\\ohbok\\anaconda3\\lib\\site-packages (from python-socketio>=5.0.2->flask-socketio->taipy-gui<1.1,>=1.0->taipy) (0.22.0)\n",
      "Requirement already satisfied: importlib-metadata>=4.4 in c:\\users\\ohbok\\anaconda3\\lib\\site-packages (from markdown->taipy-gui<1.1,>=1.0->taipy) (4.8.1)\n",
      "Requirement already satisfied: zipp>=0.5 in c:\\users\\ohbok\\anaconda3\\lib\\site-packages (from importlib-metadata>=4.4->markdown->taipy-gui<1.1,>=1.0->taipy) (3.6.0)\n",
      "Requirement already satisfied: et-xmlfile in c:\\users\\ohbok\\anaconda3\\lib\\site-packages (from openpyxl->taipy-core<1.1,>=1.0->taipy-rest<1.1,>=1.0->taipy) (1.1.0)\n",
      "Requirement already satisfied: pyparsing>=2.0.2 in c:\\users\\ohbok\\anaconda3\\lib\\site-packages (from packaging->marshmallow>=2.0.0->flask-marshmallow->taipy-rest<1.1,>=1.0->taipy) (3.0.4)\n",
      "Requirement already satisfied: python-dateutil>=2.7.3 in c:\\users\\ohbok\\anaconda3\\lib\\site-packages (from pandas->taipy-gui<1.1,>=1.0->taipy) (2.8.2)\n",
      "Requirement already satisfied: wsproto in c:\\users\\ohbok\\anaconda3\\lib\\site-packages (from simple-websocket->taipy-gui<1.1,>=1.0->taipy) (1.1.0)\n",
      "Requirement already satisfied: pytz-deprecation-shim in c:\\users\\ohbok\\anaconda3\\lib\\site-packages (from tzlocal->taipy-gui<1.1,>=1.0->taipy) (0.1.0.post0)\n",
      "Requirement already satisfied: tzdata in c:\\users\\ohbok\\anaconda3\\lib\\site-packages (from tzlocal->taipy-gui<1.1,>=1.0->taipy) (2022.1)\n",
      "Requirement already satisfied: h11<1,>=0.9.0 in c:\\users\\ohbok\\anaconda3\\lib\\site-packages (from wsproto->simple-websocket->taipy-gui<1.1,>=1.0->taipy) (0.13.0)\n",
      "Note: you may need to restart the kernel to use updated packages.\n"
     ]
    }
   ],
   "source": [
    "pip install taipy"
   ]
  },
  {
   "cell_type": "code",
   "execution_count": 2,
   "id": "c870cd8b",
   "metadata": {
    "id": "c870cd8b"
   },
   "outputs": [
    {
     "name": "stdout",
     "output_type": "stream",
     "text": [
      "Requirement already satisfied: pmdarima in c:\\users\\ohbok\\anaconda3\\lib\\site-packages (1.8.5)Note: you may need to restart the kernel to use updated packages.\n",
      "\n",
      "Requirement already satisfied: urllib3 in c:\\users\\ohbok\\anaconda3\\lib\\site-packages (from pmdarima) (1.26.7)\n",
      "Requirement already satisfied: statsmodels!=0.12.0,>=0.11 in c:\\users\\ohbok\\anaconda3\\lib\\site-packages (from pmdarima) (0.12.2)\n",
      "Requirement already satisfied: joblib>=0.11 in c:\\users\\ohbok\\anaconda3\\lib\\site-packages (from pmdarima) (1.1.0)\n",
      "Requirement already satisfied: setuptools!=50.0.0,>=38.6.0 in c:\\users\\ohbok\\anaconda3\\lib\\site-packages (from pmdarima) (58.0.4)\n",
      "Requirement already satisfied: Cython!=0.29.18,>=0.29 in c:\\users\\ohbok\\anaconda3\\lib\\site-packages (from pmdarima) (0.29.24)\n",
      "Requirement already satisfied: scikit-learn>=0.22 in c:\\users\\ohbok\\anaconda3\\lib\\site-packages (from pmdarima) (0.24.2)\n",
      "Requirement already satisfied: scipy>=1.3.2 in c:\\users\\ohbok\\anaconda3\\lib\\site-packages (from pmdarima) (1.7.1)\n",
      "Requirement already satisfied: pandas>=0.19 in c:\\users\\ohbok\\anaconda3\\lib\\site-packages (from pmdarima) (1.3.4)\n",
      "Requirement already satisfied: numpy>=1.19.3 in c:\\users\\ohbok\\anaconda3\\lib\\site-packages (from pmdarima) (1.22.3)\n",
      "Requirement already satisfied: pytz>=2017.3 in c:\\users\\ohbok\\anaconda3\\lib\\site-packages (from pandas>=0.19->pmdarima) (2021.3)\n",
      "Requirement already satisfied: python-dateutil>=2.7.3 in c:\\users\\ohbok\\anaconda3\\lib\\site-packages (from pandas>=0.19->pmdarima) (2.8.2)\n",
      "Requirement already satisfied: six>=1.5 in c:\\users\\ohbok\\anaconda3\\lib\\site-packages (from python-dateutil>=2.7.3->pandas>=0.19->pmdarima) (1.16.0)\n",
      "Requirement already satisfied: threadpoolctl>=2.0.0 in c:\\users\\ohbok\\anaconda3\\lib\\site-packages (from scikit-learn>=0.22->pmdarima) (2.2.0)\n",
      "Requirement already satisfied: patsy>=0.5 in c:\\users\\ohbok\\anaconda3\\lib\\site-packages (from statsmodels!=0.12.0,>=0.11->pmdarima) (0.5.2)\n"
     ]
    }
   ],
   "source": [
    "pip install pmdarima"
   ]
  },
  {
   "cell_type": "code",
   "execution_count": 3,
   "id": "7186867d",
   "metadata": {
    "id": "7186867d"
   },
   "outputs": [
    {
     "name": "stdout",
     "output_type": "stream",
     "text": [
      "Requirement already satisfied: requests in c:\\users\\ohbok\\anaconda3\\lib\\site-packages (2.26.0)\n",
      "Requirement already satisfied: urllib3<1.27,>=1.21.1 in c:\\users\\ohbok\\anaconda3\\lib\\site-packages (from requests) (1.26.7)\n",
      "Requirement already satisfied: certifi>=2017.4.17 in c:\\users\\ohbok\\anaconda3\\lib\\site-packages (from requests) (2021.10.8)\n",
      "Requirement already satisfied: idna<4,>=2.5 in c:\\users\\ohbok\\anaconda3\\lib\\site-packages (from requests) (3.2)\n",
      "Requirement already satisfied: charset-normalizer~=2.0.0 in c:\\users\\ohbok\\anaconda3\\lib\\site-packages (from requests) (2.0.4)\n",
      "Note: you may need to restart the kernel to use updated packages.\n"
     ]
    }
   ],
   "source": [
    "pip install requests"
   ]
  },
  {
   "cell_type": "markdown",
   "id": "c42e5ded",
   "metadata": {
    "id": "c42e5ded"
   },
   "source": [
    "# Import the packages et initialization"
   ]
  },
  {
   "cell_type": "code",
   "execution_count": 4,
   "id": "d69871ac",
   "metadata": {
    "id": "d69871ac"
   },
   "outputs": [],
   "source": [
    "from taipy.gui import Gui, Markdown, notify\n",
    "from taipy import Config\n",
    "import taipy as tp\n",
    "\n",
    "import datetime as dt\n",
    "\n",
    "from pmdarima import auto_arima\n",
    "\n",
    "import pandas as pd\n",
    "import numpy as np\n",
    "\n",
    "import requests"
   ]
  },
  {
   "cell_type": "code",
   "execution_count": 5,
   "id": "62085243",
   "metadata": {
    "id": "62085243"
   },
   "outputs": [],
   "source": [
    "from pandas.core.common import SettingWithCopyWarning\n",
    "import warnings\n",
    "\n",
    "warnings.simplefilter(action=\"ignore\", category=SettingWithCopyWarning)\n",
    "\n",
    "data_country_date = None\n",
    "selected_country = None\n",
    "\n",
    "selected_scenario = None\n",
    "scenario_selector = None\n",
    "\n",
    "scenario_name = None\n",
    "\n",
    "result = None\n",
    "\n",
    "selected_points = []\n",
    "\n",
    "data_province_displayed = None\n",
    "\n",
    "api_year = None\n",
    "api_pop = None\n",
    "api_country = None"
   ]
  },
  {
   "cell_type": "markdown",
   "id": "81074375",
   "metadata": {
    "id": "81074375"
   },
   "source": [
    "# Taipy Gui Basics\n",
    "## Markdown Syntax"
   ]
  },
  {
   "cell_type": "markdown",
   "id": "8ad49481",
   "metadata": {
    "id": "8ad49481"
   },
   "source": [
    "Taipy uses the Markdown syntax to display elements. `#` creates a title, `*` puts your text in italics and `**` puts it in bold."
   ]
  },
  {
   "cell_type": "markdown",
   "id": "929a56cf",
   "metadata": {
    "id": "929a56cf"
   },
   "source": [
    "![](img/gui_basic.png)"
   ]
  },
  {
   "cell_type": "code",
   "execution_count": 6,
   "id": "a170a8e5",
   "metadata": {
    "id": "a170a8e5"
   },
   "outputs": [],
   "source": [
    "page_md = \"\"\"\n",
    "# Taipy\n",
    "\n",
    "Test **here** to put some *markdown*\n",
    "\n",
    "Click to access the [doc](https://docs.taipy.io/en/latest/)\n",
    "\"\"\""
   ]
  },
  {
   "cell_type": "code",
   "execution_count": 7,
   "id": "1cf6cf9d",
   "metadata": {
    "id": "1cf6cf9d",
    "outputId": "d69b4a02-2df5-4830-a043-9c2b5a423d0b"
   },
   "outputs": [
    {
     "name": "stdout",
     "output_type": "stream",
     "text": [
      " * Server starting on http://127.0.0.1:5000\n"
     ]
    }
   ],
   "source": [
    "page = Markdown(page_md)\n",
    "\n",
    "gui = Gui(page=page)\n",
    "gui.run(dark_mode=False)"
   ]
  },
  {
   "cell_type": "markdown",
   "id": "ea452214",
   "metadata": {
    "id": "ea452214"
   },
   "source": [
    "## Visual elements\n",
    "Create different visual elements. The syntax is always the same for each visual element.  `<|{value}|name_of_visual_element|property_1=value_of_property_1|...|>`\n",
    "- Create a [slider](https://docs.taipy.io/en/latest/manuals/gui/viselements/slider/) `<|{value}|slider|>`\n",
    "\n",
    "- Create a [date](https://docs.taipy.io/en/latest/manuals/gui/viselements/date/) `<|{value}|date|>`\n",
    "\n",
    "- Create a [selector](https://docs.taipy.io/en/latest/manuals/gui/viselements/selector/) `<|{value}|selector|lov={list_of_values}|>`\n"
   ]
  },
  {
   "cell_type": "markdown",
   "id": "68f228f9",
   "metadata": {
    "id": "68f228f9"
   },
   "source": [
    "![](img/control.png)"
   ]
  },
  {
   "cell_type": "code",
   "execution_count": 8,
   "id": "eb6455bd",
   "metadata": {
    "id": "eb6455bd"
   },
   "outputs": [],
   "source": [
    "slider_value = 0\n",
    "date_value = None\n",
    "selected_value = None"
   ]
  },
  {
   "cell_type": "code",
   "execution_count": 9,
   "id": "bc42cca4",
   "metadata": {
    "id": "bc42cca4"
   },
   "outputs": [],
   "source": [
    "selector = ['Test 1', 'Test 2', 'Test 3']\n",
    "\n",
    "control_md = \"\"\"\n",
    "## Controls\n",
    "\n",
    "<|{slider_value}|slider|> <|{slider_value}|>\n",
    "\n",
    "<|{date_value}|date|> <|{date_value}|>\n",
    "\n",
    "<|{selected_value}|selector|lov={selector}|>  <|{selected_value}|>\n",
    "\"\"\""
   ]
  },
  {
   "cell_type": "code",
   "execution_count": 10,
   "id": "5986d8a8",
   "metadata": {
    "id": "5986d8a8",
    "outputId": "7691b852-4d69-4402-f02e-53d5feb44529"
   },
   "outputs": [
    {
     "name": "stdout",
     "output_type": "stream",
     "text": [
      "Gui server has been stopped\n",
      " * Server starting on http://127.0.0.1:5000\n"
     ]
    }
   ],
   "source": [
    "gui.stop()\n",
    "page.set_content(control_md)\n",
    "gui.run()"
   ]
  },
  {
   "cell_type": "markdown",
   "id": "b4ac0541",
   "metadata": {
    "id": "b4ac0541"
   },
   "source": [
    "## Data Viz\n",
    "\n",
    "A dataset gathering information on the number of deaths, confirmed cases and recovered for different regions is going to be used to create an interactive Dashboard."
   ]
  },
  {
   "cell_type": "code",
   "execution_count": 11,
   "id": "49bd29ff",
   "metadata": {
    "id": "49bd29ff",
    "outputId": "b0900888-a15b-4af2-a97d-f796aa28cc46"
   },
   "outputs": [
    {
     "name": "stderr",
     "output_type": "stream",
     "text": [
      "The WebSocket transport is not available, you must install a WebSocket server that is compatible with your async mode to enable it. See the documentation for details. (further occurrences of this error will be logged with level INFO)\n"
     ]
    },
    {
     "data": {
      "text/html": [
       "<div>\n",
       "<style scoped>\n",
       "    .dataframe tbody tr th:only-of-type {\n",
       "        vertical-align: middle;\n",
       "    }\n",
       "\n",
       "    .dataframe tbody tr th {\n",
       "        vertical-align: top;\n",
       "    }\n",
       "\n",
       "    .dataframe thead th {\n",
       "        text-align: right;\n",
       "    }\n",
       "</style>\n",
       "<table border=\"1\" class=\"dataframe\">\n",
       "  <thead>\n",
       "    <tr style=\"text-align: right;\">\n",
       "      <th></th>\n",
       "      <th>Country/Region</th>\n",
       "      <th>Province/State</th>\n",
       "      <th>Latitude</th>\n",
       "      <th>Longitude</th>\n",
       "      <th>Confirmed</th>\n",
       "      <th>Recovered</th>\n",
       "      <th>Deaths</th>\n",
       "      <th>Date</th>\n",
       "    </tr>\n",
       "  </thead>\n",
       "  <tbody>\n",
       "    <tr>\n",
       "      <th>1241947</th>\n",
       "      <td>Vietnam</td>\n",
       "      <td>NaN</td>\n",
       "      <td>14.058324</td>\n",
       "      <td>108.277199</td>\n",
       "      <td>1465.0</td>\n",
       "      <td>1325.0</td>\n",
       "      <td>35.0</td>\n",
       "      <td>2020-12-31</td>\n",
       "    </tr>\n",
       "    <tr>\n",
       "      <th>1241948</th>\n",
       "      <td>West Bank and Gaza</td>\n",
       "      <td>NaN</td>\n",
       "      <td>31.952200</td>\n",
       "      <td>35.233200</td>\n",
       "      <td>138004.0</td>\n",
       "      <td>117183.0</td>\n",
       "      <td>1400.0</td>\n",
       "      <td>2020-12-31</td>\n",
       "    </tr>\n",
       "    <tr>\n",
       "      <th>1241949</th>\n",
       "      <td>Yemen</td>\n",
       "      <td>NaN</td>\n",
       "      <td>15.552727</td>\n",
       "      <td>48.516388</td>\n",
       "      <td>2099.0</td>\n",
       "      <td>1394.0</td>\n",
       "      <td>610.0</td>\n",
       "      <td>2020-12-31</td>\n",
       "    </tr>\n",
       "    <tr>\n",
       "      <th>1241950</th>\n",
       "      <td>Zambia</td>\n",
       "      <td>NaN</td>\n",
       "      <td>-13.133897</td>\n",
       "      <td>27.849332</td>\n",
       "      <td>20725.0</td>\n",
       "      <td>18660.0</td>\n",
       "      <td>388.0</td>\n",
       "      <td>2020-12-31</td>\n",
       "    </tr>\n",
       "    <tr>\n",
       "      <th>1241951</th>\n",
       "      <td>Zimbabwe</td>\n",
       "      <td>NaN</td>\n",
       "      <td>-19.015438</td>\n",
       "      <td>29.154857</td>\n",
       "      <td>13867.0</td>\n",
       "      <td>11250.0</td>\n",
       "      <td>363.0</td>\n",
       "      <td>2020-12-31</td>\n",
       "    </tr>\n",
       "  </tbody>\n",
       "</table>\n",
       "</div>"
      ],
      "text/plain": [
       "             Country/Region Province/State   Latitude   Longitude  Confirmed  \\\n",
       "1241947             Vietnam            NaN  14.058324  108.277199     1465.0   \n",
       "1241948  West Bank and Gaza            NaN  31.952200   35.233200   138004.0   \n",
       "1241949               Yemen            NaN  15.552727   48.516388     2099.0   \n",
       "1241950              Zambia            NaN -13.133897   27.849332    20725.0   \n",
       "1241951            Zimbabwe            NaN -19.015438   29.154857    13867.0   \n",
       "\n",
       "         Recovered  Deaths        Date  \n",
       "1241947     1325.0    35.0  2020-12-31  \n",
       "1241948   117183.0  1400.0  2020-12-31  \n",
       "1241949     1394.0   610.0  2020-12-31  \n",
       "1241950    18660.0   388.0  2020-12-31  \n",
       "1241951    11250.0   363.0  2020-12-31  "
      ]
     },
     "execution_count": 11,
     "metadata": {},
     "output_type": "execute_result"
    }
   ],
   "source": [
    "path_to_data = \"data/covid-19-all.csv\"\n",
    "data = pd.read_csv(path_to_data, low_memory=False)\n",
    "data[-5:]"
   ]
  },
  {
   "cell_type": "code",
   "execution_count": 12,
   "id": "18b5bb55",
   "metadata": {
    "id": "18b5bb55"
   },
   "outputs": [],
   "source": [
    "def initialize_case_evolution(data, selected_country='France'):\n",
    "    # Aggregation of the dataframe per Country/Region\n",
    "    data_country_date = data.groupby([\"Country/Region\",'Date'])\\\n",
    "                            .sum()\\\n",
    "                            .reset_index()\n",
    "    \n",
    "    # a country is selected, here France by default\n",
    "    data_country_date = data_country_date.loc[data_country_date['Country/Region']==selected_country]\n",
    "    return data_country_date"
   ]
  },
  {
   "cell_type": "code",
   "execution_count": 13,
   "id": "f5ae821c",
   "metadata": {
    "id": "f5ae821c",
    "outputId": "0ca17075-c088-437a-b6e3-48a798a0bdde"
   },
   "outputs": [
    {
     "data": {
      "text/html": [
       "<div>\n",
       "<style scoped>\n",
       "    .dataframe tbody tr th:only-of-type {\n",
       "        vertical-align: middle;\n",
       "    }\n",
       "\n",
       "    .dataframe tbody tr th {\n",
       "        vertical-align: top;\n",
       "    }\n",
       "\n",
       "    .dataframe thead th {\n",
       "        text-align: right;\n",
       "    }\n",
       "</style>\n",
       "<table border=\"1\" class=\"dataframe\">\n",
       "  <thead>\n",
       "    <tr style=\"text-align: right;\">\n",
       "      <th></th>\n",
       "      <th>Country/Region</th>\n",
       "      <th>Date</th>\n",
       "      <th>Latitude</th>\n",
       "      <th>Longitude</th>\n",
       "      <th>Confirmed</th>\n",
       "      <th>Recovered</th>\n",
       "      <th>Deaths</th>\n",
       "    </tr>\n",
       "  </thead>\n",
       "  <tbody>\n",
       "    <tr>\n",
       "      <th>18101</th>\n",
       "      <td>France</td>\n",
       "      <td>2020-01-24</td>\n",
       "      <td>14.6415</td>\n",
       "      <td>-56.3159</td>\n",
       "      <td>2.0</td>\n",
       "      <td>0.0</td>\n",
       "      <td>0.0</td>\n",
       "    </tr>\n",
       "    <tr>\n",
       "      <th>18102</th>\n",
       "      <td>France</td>\n",
       "      <td>2020-01-25</td>\n",
       "      <td>14.6415</td>\n",
       "      <td>-56.3159</td>\n",
       "      <td>3.0</td>\n",
       "      <td>0.0</td>\n",
       "      <td>0.0</td>\n",
       "    </tr>\n",
       "    <tr>\n",
       "      <th>18103</th>\n",
       "      <td>France</td>\n",
       "      <td>2020-01-26</td>\n",
       "      <td>14.6415</td>\n",
       "      <td>-56.3159</td>\n",
       "      <td>3.0</td>\n",
       "      <td>0.0</td>\n",
       "      <td>0.0</td>\n",
       "    </tr>\n",
       "    <tr>\n",
       "      <th>18104</th>\n",
       "      <td>France</td>\n",
       "      <td>2020-01-27</td>\n",
       "      <td>14.6415</td>\n",
       "      <td>-56.3159</td>\n",
       "      <td>3.0</td>\n",
       "      <td>0.0</td>\n",
       "      <td>0.0</td>\n",
       "    </tr>\n",
       "    <tr>\n",
       "      <th>18105</th>\n",
       "      <td>France</td>\n",
       "      <td>2020-01-28</td>\n",
       "      <td>14.6415</td>\n",
       "      <td>-56.3159</td>\n",
       "      <td>4.0</td>\n",
       "      <td>0.0</td>\n",
       "      <td>0.0</td>\n",
       "    </tr>\n",
       "  </tbody>\n",
       "</table>\n",
       "</div>"
      ],
      "text/plain": [
       "      Country/Region        Date  Latitude  Longitude  Confirmed  Recovered  \\\n",
       "18101         France  2020-01-24   14.6415   -56.3159        2.0        0.0   \n",
       "18102         France  2020-01-25   14.6415   -56.3159        3.0        0.0   \n",
       "18103         France  2020-01-26   14.6415   -56.3159        3.0        0.0   \n",
       "18104         France  2020-01-27   14.6415   -56.3159        3.0        0.0   \n",
       "18105         France  2020-01-28   14.6415   -56.3159        4.0        0.0   \n",
       "\n",
       "       Deaths  \n",
       "18101     0.0  \n",
       "18102     0.0  \n",
       "18103     0.0  \n",
       "18104     0.0  \n",
       "18105     0.0  "
      ]
     },
     "execution_count": 13,
     "metadata": {},
     "output_type": "execute_result"
    }
   ],
   "source": [
    "data_country_date = initialize_case_evolution(data)\n",
    "data_country_date.head()"
   ]
  },
  {
   "cell_type": "markdown",
   "id": "d1fd9854",
   "metadata": {
    "id": "d1fd9854"
   },
   "source": [
    "Create a [chart](https://docs.taipy.io/en/latest/manuals/gui/viselements/chart/) showing the evolution of Deaths in France (_Deaths_ for _y_ and _Date_ for _x_). The visual element (chart) has the same syntax as the other ones with specific properties (_x_, _y_, _type_ for example). Here are some [examples of charts](https://docs.taipy.io/en/release-1.1/manuals/gui/viselements/charts/bar/). The _x_ and _y_ porperties only needs the name of the dataframe columns to display."
   ]
  },
  {
   "cell_type": "markdown",
   "id": "bebeb0eb",
   "metadata": {
    "id": "bebeb0eb"
   },
   "source": [
    "![](img/simple_graph.png)"
   ]
  },
  {
   "cell_type": "code",
   "execution_count": 14,
   "id": "baa8dc69",
   "metadata": {
    "id": "baa8dc69"
   },
   "outputs": [],
   "source": [
    "country_md = \"<|{data_country_date}|chart|x=Date|y=Deaths|type=bar|>\""
   ]
  },
  {
   "cell_type": "code",
   "execution_count": 15,
   "id": "e83c2f04",
   "metadata": {
    "id": "e83c2f04",
    "outputId": "3e87cb87-81c4-4a45-8b35-156a2621457c"
   },
   "outputs": [
    {
     "name": "stdout",
     "output_type": "stream",
     "text": [
      "Gui server has been stopped\n",
      " * Server starting on http://127.0.0.1:5000\n"
     ]
    }
   ],
   "source": [
    "gui.stop()\n",
    "page.set_content(country_md)\n",
    "gui.run()"
   ]
  },
  {
   "cell_type": "markdown",
   "id": "6580b5fe",
   "metadata": {
    "id": "6580b5fe"
   },
   "source": [
    "## Add new traces\n",
    "\n",
    "- Add on the graph the number of Confirmed and Recovered cases (_Confirmed_ and _Recovered_) with the number of Deaths\n",
    "- _y_ (and _x_) can be indexed this way to add more traces (`y[1]=`, `y[2]=`, `y[3]=`)."
   ]
  },
  {
   "cell_type": "markdown",
   "id": "baf9d2b6",
   "metadata": {
    "id": "baf9d2b6"
   },
   "source": [
    "![](img/multi_traces.png)"
   ]
  },
  {
   "cell_type": "code",
   "execution_count": 16,
   "id": "242756d9",
   "metadata": {
    "id": "242756d9"
   },
   "outputs": [],
   "source": [
    "country_md = \"<|{data_country_date}|chart|type=bar|x=Date|y[1]=Deaths|y[2]=Recovered|y[3]=Confirmed|>\""
   ]
  },
  {
   "cell_type": "code",
   "execution_count": 17,
   "id": "4f65f1a2",
   "metadata": {
    "id": "4f65f1a2",
    "outputId": "10b40d69-445e-4a73-f69f-0f67fc5a4b9a"
   },
   "outputs": [
    {
     "name": "stdout",
     "output_type": "stream",
     "text": [
      "Gui server has been stopped\n",
      " * Server starting on http://127.0.0.1:5000\n"
     ]
    }
   ],
   "source": [
    "gui.stop()\n",
    "page.set_content(country_md)\n",
    "gui.run()"
   ]
  },
  {
   "cell_type": "markdown",
   "id": "f84e0a88",
   "metadata": {
    "id": "f84e0a88"
   },
   "source": [
    "## Style the graph with personnalized properties\n",
    "The _layout_ dictionnary specifies how bars should be displayed. They would be 'stacked'.\n",
    "\n",
    "The _options_ dictionary will change the opacity of the unselected markers.\n",
    "\n",
    "These are Plotly properties."
   ]
  },
  {
   "cell_type": "markdown",
   "id": "99c5d669",
   "metadata": {
    "id": "99c5d669"
   },
   "source": [
    "![](img/stack_chart.png)"
   ]
  },
  {
   "cell_type": "code",
   "execution_count": 18,
   "id": "f068e3ba",
   "metadata": {
    "id": "f068e3ba"
   },
   "outputs": [],
   "source": [
    "layout = {'barmode':'stack'}\n",
    "options = {\"unselected\":{\"marker\":{\"opacity\":0.5}}}\n",
    "country_md = \"<|{data_country_date}|chart|type=bar|x=Date|y[1]=Deaths|y[2]=Recovered|y[3]=Confirmed|layout={layout}|options={options}|>\""
   ]
  },
  {
   "cell_type": "code",
   "execution_count": 19,
   "id": "dfa787fb",
   "metadata": {
    "id": "dfa787fb",
    "outputId": "fa1a08c7-a1ed-4dde-c9c5-06cdd0db8872"
   },
   "outputs": [
    {
     "name": "stdout",
     "output_type": "stream",
     "text": [
      "Gui server has been stopped\n",
      " * Server starting on http://127.0.0.1:5000\n"
     ]
    }
   ],
   "source": [
    "gui.stop()\n",
    "page.set_content(country_md)\n",
    "gui.run()"
   ]
  },
  {
   "cell_type": "markdown",
   "id": "cd4d0268",
   "metadata": {
    "id": "cd4d0268"
   },
   "source": [
    "## Add texts that sums up the data\n",
    "\n",
    "Use the [text](https://docs.taipy.io/en/latest/manuals/gui/viselements/text/) visual element.\n",
    "\n",
    "- Add the total number of Deaths (last line of _data_country_date_)\n",
    "- Add the total number of Recovered (last line of _data_country_date_)\n",
    "- Add the total number of Confirmed (last line of _data_country_date_)\n"
   ]
  },
  {
   "cell_type": "code",
   "execution_count": 20,
   "id": "f9060a46",
   "metadata": {
    "id": "f9060a46",
    "outputId": "0d12534f-60a6-4acf-c555-5a6babd1c3d4"
   },
   "outputs": [
    {
     "data": {
      "text/html": [
       "<div>\n",
       "<style scoped>\n",
       "    .dataframe tbody tr th:only-of-type {\n",
       "        vertical-align: middle;\n",
       "    }\n",
       "\n",
       "    .dataframe tbody tr th {\n",
       "        vertical-align: top;\n",
       "    }\n",
       "\n",
       "    .dataframe thead th {\n",
       "        text-align: right;\n",
       "    }\n",
       "</style>\n",
       "<table border=\"1\" class=\"dataframe\">\n",
       "  <thead>\n",
       "    <tr style=\"text-align: right;\">\n",
       "      <th></th>\n",
       "      <th>Country/Region</th>\n",
       "      <th>Date</th>\n",
       "      <th>Latitude</th>\n",
       "      <th>Longitude</th>\n",
       "      <th>Confirmed</th>\n",
       "      <th>Recovered</th>\n",
       "      <th>Deaths</th>\n",
       "    </tr>\n",
       "  </thead>\n",
       "  <tbody>\n",
       "    <tr>\n",
       "      <th>18101</th>\n",
       "      <td>France</td>\n",
       "      <td>2020-01-24</td>\n",
       "      <td>14.641500</td>\n",
       "      <td>-56.315900</td>\n",
       "      <td>2.0</td>\n",
       "      <td>0.0</td>\n",
       "      <td>0.0</td>\n",
       "    </tr>\n",
       "    <tr>\n",
       "      <th>18102</th>\n",
       "      <td>France</td>\n",
       "      <td>2020-01-25</td>\n",
       "      <td>14.641500</td>\n",
       "      <td>-56.315900</td>\n",
       "      <td>3.0</td>\n",
       "      <td>0.0</td>\n",
       "      <td>0.0</td>\n",
       "    </tr>\n",
       "    <tr>\n",
       "      <th>18103</th>\n",
       "      <td>France</td>\n",
       "      <td>2020-01-26</td>\n",
       "      <td>14.641500</td>\n",
       "      <td>-56.315900</td>\n",
       "      <td>3.0</td>\n",
       "      <td>0.0</td>\n",
       "      <td>0.0</td>\n",
       "    </tr>\n",
       "    <tr>\n",
       "      <th>18104</th>\n",
       "      <td>France</td>\n",
       "      <td>2020-01-27</td>\n",
       "      <td>14.641500</td>\n",
       "      <td>-56.315900</td>\n",
       "      <td>3.0</td>\n",
       "      <td>0.0</td>\n",
       "      <td>0.0</td>\n",
       "    </tr>\n",
       "    <tr>\n",
       "      <th>18105</th>\n",
       "      <td>France</td>\n",
       "      <td>2020-01-28</td>\n",
       "      <td>14.641500</td>\n",
       "      <td>-56.315900</td>\n",
       "      <td>4.0</td>\n",
       "      <td>0.0</td>\n",
       "      <td>0.0</td>\n",
       "    </tr>\n",
       "    <tr>\n",
       "      <th>...</th>\n",
       "      <td>...</td>\n",
       "      <td>...</td>\n",
       "      <td>...</td>\n",
       "      <td>...</td>\n",
       "      <td>...</td>\n",
       "      <td>...</td>\n",
       "      <td>...</td>\n",
       "    </tr>\n",
       "    <tr>\n",
       "      <th>18439</th>\n",
       "      <td>France</td>\n",
       "      <td>2020-12-27</td>\n",
       "      <td>91.463495</td>\n",
       "      <td>-238.646914</td>\n",
       "      <td>2616510.0</td>\n",
       "      <td>195861.0</td>\n",
       "      <td>62867.0</td>\n",
       "    </tr>\n",
       "    <tr>\n",
       "      <th>18440</th>\n",
       "      <td>France</td>\n",
       "      <td>2020-12-28</td>\n",
       "      <td>91.463495</td>\n",
       "      <td>-238.646914</td>\n",
       "      <td>2619616.0</td>\n",
       "      <td>196642.0</td>\n",
       "      <td>63235.0</td>\n",
       "    </tr>\n",
       "    <tr>\n",
       "      <th>18441</th>\n",
       "      <td>France</td>\n",
       "      <td>2020-12-29</td>\n",
       "      <td>91.463495</td>\n",
       "      <td>-238.646914</td>\n",
       "      <td>2631110.0</td>\n",
       "      <td>197726.0</td>\n",
       "      <td>64204.0</td>\n",
       "    </tr>\n",
       "    <tr>\n",
       "      <th>18442</th>\n",
       "      <td>France</td>\n",
       "      <td>2020-12-30</td>\n",
       "      <td>91.463495</td>\n",
       "      <td>-238.646914</td>\n",
       "      <td>2657624.0</td>\n",
       "      <td>198966.0</td>\n",
       "      <td>64508.0</td>\n",
       "    </tr>\n",
       "    <tr>\n",
       "      <th>18443</th>\n",
       "      <td>France</td>\n",
       "      <td>2020-12-31</td>\n",
       "      <td>91.463495</td>\n",
       "      <td>-238.646914</td>\n",
       "      <td>2677666.0</td>\n",
       "      <td>200142.0</td>\n",
       "      <td>64759.0</td>\n",
       "    </tr>\n",
       "  </tbody>\n",
       "</table>\n",
       "<p>343 rows × 7 columns</p>\n",
       "</div>"
      ],
      "text/plain": [
       "      Country/Region        Date   Latitude   Longitude  Confirmed  Recovered  \\\n",
       "18101         France  2020-01-24  14.641500  -56.315900        2.0        0.0   \n",
       "18102         France  2020-01-25  14.641500  -56.315900        3.0        0.0   \n",
       "18103         France  2020-01-26  14.641500  -56.315900        3.0        0.0   \n",
       "18104         France  2020-01-27  14.641500  -56.315900        3.0        0.0   \n",
       "18105         France  2020-01-28  14.641500  -56.315900        4.0        0.0   \n",
       "...              ...         ...        ...         ...        ...        ...   \n",
       "18439         France  2020-12-27  91.463495 -238.646914  2616510.0   195861.0   \n",
       "18440         France  2020-12-28  91.463495 -238.646914  2619616.0   196642.0   \n",
       "18441         France  2020-12-29  91.463495 -238.646914  2631110.0   197726.0   \n",
       "18442         France  2020-12-30  91.463495 -238.646914  2657624.0   198966.0   \n",
       "18443         France  2020-12-31  91.463495 -238.646914  2677666.0   200142.0   \n",
       "\n",
       "        Deaths  \n",
       "18101      0.0  \n",
       "18102      0.0  \n",
       "18103      0.0  \n",
       "18104      0.0  \n",
       "18105      0.0  \n",
       "...        ...  \n",
       "18439  62867.0  \n",
       "18440  63235.0  \n",
       "18441  64204.0  \n",
       "18442  64508.0  \n",
       "18443  64759.0  \n",
       "\n",
       "[343 rows x 7 columns]"
      ]
     },
     "execution_count": 20,
     "metadata": {},
     "output_type": "execute_result"
    }
   ],
   "source": [
    "data_country_date"
   ]
  },
  {
   "cell_type": "markdown",
   "id": "ec27c620",
   "metadata": {
    "id": "ec27c620"
   },
   "source": [
    "This is how we can get the total number of Deaths from the daatset for France."
   ]
  },
  {
   "cell_type": "code",
   "execution_count": 21,
   "id": "c0a73440",
   "metadata": {
    "id": "c0a73440",
    "outputId": "642a8cff-1c8f-4748-af5e-7b4dc70d9627"
   },
   "outputs": [
    {
     "data": {
      "text/plain": [
       "64759.0"
      ]
     },
     "execution_count": 21,
     "metadata": {},
     "output_type": "execute_result"
    }
   ],
   "source": [
    "data_country_date.iloc[-1, 6] # gives the number of deaths for France (5 is for recovered and 4 is confirmed)"
   ]
  },
  {
   "cell_type": "markdown",
   "id": "4a043817",
   "metadata": {
    "id": "4a043817"
   },
   "source": [
    "Use the [text](https://docs.taipy.io/en/release-1.1/manuals/gui/viselements/text/) visual element. Note that between `{}`, any Python variable can be put but also any Python code."
   ]
  },
  {
   "cell_type": "markdown",
   "id": "8b5b47ec",
   "metadata": {
    "id": "8b5b47ec"
   },
   "source": [
    "![](img/control_text.png)"
   ]
  },
  {
   "cell_type": "code",
   "execution_count": 22,
   "id": "beab9af4",
   "metadata": {
    "id": "beab9af4"
   },
   "outputs": [],
   "source": [
    "country_md = \"\"\"\n",
    "## Deaths <|{data_country_date.iloc[-1, 6]}|text|>\n",
    "\n",
    "## Recovered <|{data_country_date.iloc[-1, 5]}|text|>\n",
    "\n",
    "## Confirmed <|{data_country_date.iloc[-1, 4]}|text|>\n",
    "\n",
    "<|{data_country_date}|chart|type=bar|x=Date|y[1]=Deaths|y[2]=Recovered|y[3]=Confirmed|layout={layout}|options={options}|>\n",
    "\"\"\""
   ]
  },
  {
   "cell_type": "code",
   "execution_count": 23,
   "id": "1b8e26f5",
   "metadata": {
    "id": "1b8e26f5",
    "outputId": "cde6776e-5097-4743-ce8d-23bc29819b1d"
   },
   "outputs": [
    {
     "name": "stdout",
     "output_type": "stream",
     "text": [
      "Gui server has been stopped\n",
      " * Server starting on http://127.0.0.1:5000\n"
     ]
    }
   ],
   "source": [
    "gui.stop()\n",
    "page.set_content(country_md)\n",
    "gui.run()"
   ]
  },
  {
   "cell_type": "markdown",
   "id": "f48f94cd",
   "metadata": {
    "id": "f48f94cd"
   },
   "source": [
    "## Local _on_change_\n",
    "\n",
    "- Add a [selector](https://docs.taipy.io/en/latest/manuals/gui/viselements/selector/) with `dropdown=True` containing the name of all the _Country/region_\n",
    "- Give to the _on_change_ selector property the name of the _on_change_country_ function. This function will be called when the selector will be used.\n",
    "- This function has a 'state' parameter and has to be completed. When the selector is used, this function is called with the _state_ argument. It contains all the Gui variables; 'state.data_country_date' is then the dataframe used in the Gui."
   ]
  },
  {
   "cell_type": "markdown",
   "id": "35953a48",
   "metadata": {
    "id": "35953a48"
   },
   "source": [
    "![](img/on_change_local.png)"
   ]
  },
  {
   "cell_type": "code",
   "execution_count": 24,
   "id": "ed63f76a",
   "metadata": {
    "id": "ed63f76a"
   },
   "outputs": [],
   "source": [
    "selector_country = list(data['Country/Region'].astype(str).unique())\n",
    "selected_country = 'France'\n",
    "\n",
    "country_md = \"\"\"\n",
    "<|{selected_country}|selector|lov={selector_country}|on_change=on_change_country|dropdown|label=Country|>\n",
    "\n",
    "## Deaths <|{data_country_date.iloc[-1, 6]}|>\n",
    "\n",
    "## Recovered <|{data_country_date.iloc[-1, 5]}|>\n",
    "\n",
    "## Confirmed <|{data_country_date.iloc[-1, 4]}|>\n",
    "\n",
    "<|{data_country_date}|chart|type=bar|x=Date|y[1]=Deaths|y[2]=Recovered|y[3]=Confirmed|layout={layout}|options={options}|>\n",
    "\"\"\""
   ]
  },
  {
   "cell_type": "code",
   "execution_count": 25,
   "id": "42e91877",
   "metadata": {
    "id": "42e91877"
   },
   "outputs": [],
   "source": [
    "def on_change_country(state):\n",
    "    # state contains all the Gui variables and this is through this state variable that we can update the Gui\n",
    "    # state.selected_country, state.data_country_date, ...\n",
    "    # update data_country_date with the right country (use initialize_case_evolution)\n",
    "    print(\"Chosen country: \", state.selected_country)\n",
    "    state.data_country_date = initialize_case_evolution(data, state.selected_country)"
   ]
  },
  {
   "cell_type": "code",
   "execution_count": 26,
   "id": "8f2541f5",
   "metadata": {
    "id": "8f2541f5",
    "outputId": "dd07a1b2-283d-4a53-aa71-a432c4a29645"
   },
   "outputs": [
    {
     "name": "stdout",
     "output_type": "stream",
     "text": [
      "Gui server has been stopped\n",
      " * Server starting on http://127.0.0.1:5000\n"
     ]
    }
   ],
   "source": [
    "gui.stop()\n",
    "page.set_content(country_md)\n",
    "gui.run()"
   ]
  },
  {
   "cell_type": "markdown",
   "id": "6e528ce2",
   "metadata": {
    "id": "6e528ce2"
   },
   "source": [
    "## Layout\n",
    "\n",
    "Use the [layout](https://docs.taipy.io/en/latest/manuals/gui/viselements/layout/) block to change the page structure. This block creates invisible columns to put text/visual elements in.\n",
    "\n",
    "Syntax :\n",
    "```\n",
    "<|layout|columns=1 1 1 ...|\n",
    "(first column)\n",
    "\n",
    "(in second column)\n",
    "\n",
    "(third column)\n",
    "(again, third column)\n",
    "\n",
    "(...)\n",
    "|>\n",
    "```"
   ]
  },
  {
   "cell_type": "code",
   "execution_count": 27,
   "id": "f89fd2fb",
   "metadata": {
    "id": "f89fd2fb"
   },
   "outputs": [],
   "source": [
    "final_country_md = \"\"\"\n",
    "<|layout|columns=1 1 1 1|\n",
    "<|{selected_country}|selector|lov={selector_country}|on_change=on_change_country|dropdown|label=Country|>\n",
    "\n",
    "## Deaths <|{data_country_date.iloc[-1, 6]}|>\n",
    "\n",
    "## Recovered <|{data_country_date.iloc[-1, 5]}|>\n",
    "\n",
    "## Confirmed <|{data_country_date.iloc[-1, 4]}|>\n",
    "|>\n",
    "\n",
    "<|{data_country_date}|chart|type=bar|x=Date|y[1]=Deaths|y[2]=Recovered|y[3]=Confirmed|layout={layout}|options={options}|>\n",
    "\"\"\""
   ]
  },
  {
   "cell_type": "code",
   "execution_count": 28,
   "id": "a349a33f",
   "metadata": {
    "id": "a349a33f",
    "outputId": "aa184e5c-74a5-4646-cd3a-d83bcfb5cbed"
   },
   "outputs": [
    {
     "name": "stdout",
     "output_type": "stream",
     "text": [
      "Gui server has been stopped\n",
      " * Server starting on http://127.0.0.1:5000\n"
     ]
    }
   ],
   "source": [
    "gui.stop()\n",
    "page.set_content(final_country_md)\n",
    "gui.run()"
   ]
  },
  {
   "cell_type": "markdown",
   "id": "f63dcc18",
   "metadata": {
    "id": "f63dcc18"
   },
   "source": [
    "![](img/layout.png)"
   ]
  },
  {
   "cell_type": "markdown",
   "id": "e9ab05a9",
   "metadata": {
    "id": "e9ab05a9"
   },
   "source": [
    "# Map"
   ]
  },
  {
   "cell_type": "code",
   "execution_count": 29,
   "id": "92212747",
   "metadata": {
    "id": "92212747"
   },
   "outputs": [],
   "source": [
    "def initialize_map(data):\n",
    "    data['Province/State'] = data['Province/State'].fillna(data[\"Country/Region\"])\n",
    "    data_province = data.groupby([\"Country/Region\",\n",
    "                                  'Province/State',\n",
    "                                  'Longitude',\n",
    "                                  'Latitude'])\\\n",
    "                         .max()\n",
    "\n",
    "    data_province_displayed = data_province[data_province['Deaths']>10].reset_index()\n",
    "\n",
    "    data_province_displayed['Size'] = np.sqrt(data_province_displayed.loc[:,'Deaths']/data_province_displayed.loc[:,'Deaths'].max())*80 + 3\n",
    "    data_province_displayed['Text'] = data_province_displayed.loc[:,'Deaths'].astype(str) + ' deaths </br> ' + data_province_displayed.loc[:,'Province/State']\n",
    "    return data_province_displayed"
   ]
  },
  {
   "cell_type": "code",
   "execution_count": 30,
   "id": "5a1f5cb6",
   "metadata": {
    "id": "5a1f5cb6",
    "outputId": "ff8c0dc6-5b6a-4693-c1f1-01635ecf65c5"
   },
   "outputs": [
    {
     "data": {
      "text/html": [
       "<div>\n",
       "<style scoped>\n",
       "    .dataframe tbody tr th:only-of-type {\n",
       "        vertical-align: middle;\n",
       "    }\n",
       "\n",
       "    .dataframe tbody tr th {\n",
       "        vertical-align: top;\n",
       "    }\n",
       "\n",
       "    .dataframe thead th {\n",
       "        text-align: right;\n",
       "    }\n",
       "</style>\n",
       "<table border=\"1\" class=\"dataframe\">\n",
       "  <thead>\n",
       "    <tr style=\"text-align: right;\">\n",
       "      <th></th>\n",
       "      <th>Country/Region</th>\n",
       "      <th>Province/State</th>\n",
       "      <th>Longitude</th>\n",
       "      <th>Latitude</th>\n",
       "      <th>Confirmed</th>\n",
       "      <th>Recovered</th>\n",
       "      <th>Deaths</th>\n",
       "      <th>Date</th>\n",
       "      <th>Size</th>\n",
       "      <th>Text</th>\n",
       "    </tr>\n",
       "  </thead>\n",
       "  <tbody>\n",
       "    <tr>\n",
       "      <th>0</th>\n",
       "      <td>Afghanistan</td>\n",
       "      <td>Afghanistan</td>\n",
       "      <td>67.709953</td>\n",
       "      <td>33.93911</td>\n",
       "      <td>51526.0</td>\n",
       "      <td>41727.0</td>\n",
       "      <td>2191.0</td>\n",
       "      <td>2020-12-31</td>\n",
       "      <td>17.771247</td>\n",
       "      <td>2191.0 deaths &lt;/br&gt; Afghanistan</td>\n",
       "    </tr>\n",
       "    <tr>\n",
       "      <th>1</th>\n",
       "      <td>Albania</td>\n",
       "      <td>Albania</td>\n",
       "      <td>20.168300</td>\n",
       "      <td>41.15330</td>\n",
       "      <td>58316.0</td>\n",
       "      <td>33634.0</td>\n",
       "      <td>1181.0</td>\n",
       "      <td>2020-12-31</td>\n",
       "      <td>13.844784</td>\n",
       "      <td>1181.0 deaths &lt;/br&gt; Albania</td>\n",
       "    </tr>\n",
       "    <tr>\n",
       "      <th>2</th>\n",
       "      <td>Algeria</td>\n",
       "      <td>Algeria</td>\n",
       "      <td>1.659600</td>\n",
       "      <td>28.03390</td>\n",
       "      <td>99610.0</td>\n",
       "      <td>67127.0</td>\n",
       "      <td>2756.0</td>\n",
       "      <td>2020-12-31</td>\n",
       "      <td>19.566684</td>\n",
       "      <td>2756.0 deaths &lt;/br&gt; Algeria</td>\n",
       "    </tr>\n",
       "    <tr>\n",
       "      <th>3</th>\n",
       "      <td>Andorra</td>\n",
       "      <td>Andorra</td>\n",
       "      <td>1.521800</td>\n",
       "      <td>42.50630</td>\n",
       "      <td>8049.0</td>\n",
       "      <td>7432.0</td>\n",
       "      <td>84.0</td>\n",
       "      <td>2020-12-31</td>\n",
       "      <td>5.892249</td>\n",
       "      <td>84.0 deaths &lt;/br&gt; Andorra</td>\n",
       "    </tr>\n",
       "    <tr>\n",
       "      <th>4</th>\n",
       "      <td>Angola</td>\n",
       "      <td>Angola</td>\n",
       "      <td>17.873900</td>\n",
       "      <td>-11.20270</td>\n",
       "      <td>17553.0</td>\n",
       "      <td>11044.0</td>\n",
       "      <td>405.0</td>\n",
       "      <td>2020-12-31</td>\n",
       "      <td>9.350728</td>\n",
       "      <td>405.0 deaths &lt;/br&gt; Angola</td>\n",
       "    </tr>\n",
       "  </tbody>\n",
       "</table>\n",
       "</div>"
      ],
      "text/plain": [
       "  Country/Region Province/State  Longitude  Latitude  Confirmed  Recovered  \\\n",
       "0    Afghanistan    Afghanistan  67.709953  33.93911    51526.0    41727.0   \n",
       "1        Albania        Albania  20.168300  41.15330    58316.0    33634.0   \n",
       "2        Algeria        Algeria   1.659600  28.03390    99610.0    67127.0   \n",
       "3        Andorra        Andorra   1.521800  42.50630     8049.0     7432.0   \n",
       "4         Angola         Angola  17.873900 -11.20270    17553.0    11044.0   \n",
       "\n",
       "   Deaths        Date       Size                             Text  \n",
       "0  2191.0  2020-12-31  17.771247  2191.0 deaths </br> Afghanistan  \n",
       "1  1181.0  2020-12-31  13.844784      1181.0 deaths </br> Albania  \n",
       "2  2756.0  2020-12-31  19.566684      2756.0 deaths </br> Algeria  \n",
       "3    84.0  2020-12-31   5.892249        84.0 deaths </br> Andorra  \n",
       "4   405.0  2020-12-31   9.350728        405.0 deaths </br> Angola  "
      ]
     },
     "execution_count": 30,
     "metadata": {},
     "output_type": "execute_result"
    }
   ],
   "source": [
    "data_province_displayed = initialize_map(data)\n",
    "data_province_displayed.head()"
   ]
  },
  {
   "cell_type": "markdown",
   "id": "fe689939",
   "metadata": {
    "id": "fe689939"
   },
   "source": [
    "Properties to style the map\n",
    "- marker color corresponds to the number of Deaths (column _Deaths_)\n",
    "- marker sizes corresponds to the size in _Size_ column which is created from the number of Deaths\n",
    "\n",
    "layout_map permet defined the initial zoom and position of the map\n"
   ]
  },
  {
   "cell_type": "code",
   "execution_count": 31,
   "id": "62a4cc23",
   "metadata": {
    "id": "62a4cc23"
   },
   "outputs": [],
   "source": [
    "marker_map = {\"color\":\"Deaths\", \"size\": \"Size\", \"showscale\":True, \"colorscale\":\"Viridis\"}\n",
    "layout_map = {\n",
    "            \"dragmode\": \"zoom\",\n",
    "            \"mapbox\": { \"style\": \"open-street-map\", \"center\": { \"lat\": 38, \"lon\": -90 }, \"zoom\": 3}\n",
    "            }"
   ]
  },
  {
   "cell_type": "markdown",
   "id": "fb251153",
   "metadata": {
    "id": "fb251153"
   },
   "source": [
    "We give to Plotly:\n",
    "- a map type\n",
    "- the name of the latitude column\n",
    "- the name of the longitude column\n",
    "- properties: on the size and color of the markers\n",
    "- the name of the column for the text of the points"
   ]
  },
  {
   "cell_type": "code",
   "execution_count": 32,
   "id": "7e65e017",
   "metadata": {
    "id": "7e65e017"
   },
   "outputs": [],
   "source": [
    "map_md = \"\"\"\n",
    "<|{data_province_displayed}|chart|type=scattermapbox|selected={selected_points}|lat=Latitude|lon=Longitude|marker={marker_map}|layout={layout_map}|text=Text|mode=markers|height=800px|options={options}|>\n",
    "\"\"\""
   ]
  },
  {
   "cell_type": "code",
   "execution_count": 33,
   "id": "b068a3af",
   "metadata": {
    "id": "b068a3af",
    "outputId": "b1fcab52-320d-49aa-8a98-60a6b21ce8fb"
   },
   "outputs": [
    {
     "name": "stdout",
     "output_type": "stream",
     "text": [
      "Gui server has been stopped\n",
      " * Server starting on http://127.0.0.1:5000\n"
     ]
    }
   ],
   "source": [
    "gui.stop()\n",
    "page.set_content(map_md)\n",
    "gui.run()"
   ]
  },
  {
   "cell_type": "markdown",
   "id": "56c0ea66",
   "metadata": {
    "id": "56c0ea66"
   },
   "source": [
    "![](img/carte.png)"
   ]
  },
  {
   "cell_type": "markdown",
   "id": "6ab0529e",
   "metadata": {
    "id": "6ab0529e"
   },
   "source": [
    "### API call when a point is selected\n",
    "\n",
    "When a point is selected on the map, data will be actualized in the _expandable_ block through an API call.\n",
    "\n",
    "To achieve this, we need the _selected_ property of the _chart_ and to handle its change through the global _on_change_ function."
   ]
  },
  {
   "cell_type": "code",
   "execution_count": 34,
   "id": "e69b465e",
   "metadata": {
    "id": "e69b465e"
   },
   "outputs": [],
   "source": [
    "map_md = \"\"\"\n",
    "<|Information|expandable|expanded=False|\n",
    "<|layout|columns=1 1|\n",
    "Country: <|{api_country}|>\n",
    "\n",
    "Population: (Year: <|{api_year}|>, Value: <|{api_pop}|>)\n",
    "|>\n",
    "|>\n",
    "\n",
    "<br/>\n",
    "<|{data_province_displayed}|chart|type=scattermapbox|selected={selected_points}|lat=Latitude|lon=Longitude|marker={marker_map}|layout={layout_map}|text=Text|mode=markers|height=800px|options={options}|>\n",
    "\"\"\""
   ]
  },
  {
   "cell_type": "code",
   "execution_count": 35,
   "id": "4efc1a8f",
   "metadata": {
    "id": "4efc1a8f"
   },
   "outputs": [],
   "source": [
    "url_pop = \"https://countriesnow.space/api/v0.1/countries/population\"\n",
    "\n",
    "def api_call(state):\n",
    "    state.api_country = state.data_province_displayed.loc[state.selected_points[0], \"Country/Region\"]\n",
    "    \n",
    "    if state.api_country == 'US':\n",
    "        state.api_country = \"United States\"\n",
    "    \n",
    "    body = {\"country\": state.api_country}\n",
    "    \n",
    "    response_pop = requests.post(url_pop, body).json()\n",
    "    \n",
    "    if not response_pop['error']:\n",
    "        state.api_year = response_pop['data']['populationCounts'][-1]['year']\n",
    "        state.api_pop = response_pop['data']['populationCounts'][-1]['value']"
   ]
  },
  {
   "cell_type": "code",
   "execution_count": 36,
   "id": "0d8a6754",
   "metadata": {
    "id": "0d8a6754"
   },
   "outputs": [],
   "source": [
    "def on_change(state, var_name, var_value):\n",
    "    print(var_name, var_value)\n",
    "    # on_change is called each time a Gui variable is changed (either through the Gui or with state.xxx = yyy\n",
    "    # 1) call 'api_call' when selected_points changes\n",
    "    if var_name == 'selected_points':\n",
    "        api_call(state)"
   ]
  },
  {
   "cell_type": "code",
   "execution_count": 37,
   "id": "66a79008",
   "metadata": {
    "id": "66a79008",
    "outputId": "0c2cc610-0f93-4044-9a70-1861c83f329d"
   },
   "outputs": [
    {
     "name": "stdout",
     "output_type": "stream",
     "text": [
      "Gui server has been stopped\n",
      " * Server starting on http://127.0.0.1:5000\n"
     ]
    }
   ],
   "source": [
    "gui.stop()\n",
    "gui.on_change = on_change\n",
    "page.set_content(map_md)\n",
    "gui.run()"
   ]
  },
  {
   "cell_type": "markdown",
   "id": "cab1cacc",
   "metadata": {
    "id": "cab1cacc"
   },
   "source": [
    "# Part and the _render_ property\n",
    "- Create a [toggle](https://docs.taipy.io/en/latest/manuals/gui/viselements/toggle/) (works the same as a selector) with a lov of 'Map' an 'Country'\n",
    "- Create two part blocks that renders or not depending on the value of the toggle\n",
    "    - To do this, use the fact that in the _render_ property of the part block, Python code can be inserted in `{}`"
   ]
  },
  {
   "cell_type": "code",
   "execution_count": 38,
   "id": "91bb95bc",
   "metadata": {
    "id": "91bb95bc"
   },
   "outputs": [],
   "source": [
    "representation_selector = ['Map', 'Country']\n",
    "selected_representation = representation_selector[0]"
   ]
  },
  {
   "cell_type": "code",
   "execution_count": 39,
   "id": "e76ebb06",
   "metadata": {
    "id": "e76ebb06"
   },
   "outputs": [],
   "source": [
    "main_page = \"\"\"\n",
    "<|{selected_representation}|toggle|lov={representation_selector}|>\n",
    "\n",
    "<|part|render={selected_representation == \"Country\"}|\n",
    "\"\"\"+final_country_md+\"\"\"\n",
    "|>\n",
    "\n",
    "<|part|render={selected_representation == \"Map\"}|\n",
    "\"\"\"+map_md+\"\"\"\n",
    "|>\n",
    "\"\"\" "
   ]
  },
  {
   "cell_type": "code",
   "execution_count": 40,
   "id": "186846ba",
   "metadata": {
    "id": "186846ba",
    "outputId": "c5cf9b85-034b-4f80-e9ca-32b31f4caab1"
   },
   "outputs": [
    {
     "name": "stdout",
     "output_type": "stream",
     "text": [
      "Gui server has been stopped\n",
      " * Server starting on http://127.0.0.1:5000\n"
     ]
    }
   ],
   "source": [
    "gui.stop()\n",
    "page.set_content(main_page)\n",
    "gui.run()"
   ]
  },
  {
   "cell_type": "markdown",
   "id": "47d5c7ce",
   "metadata": {
    "id": "47d5c7ce"
   },
   "source": [
    "![](img/part_render.png)"
   ]
  },
  {
   "cell_type": "markdown",
   "id": "0c8130ec",
   "metadata": {
    "id": "0c8130ec"
   },
   "source": [
    "# Taipy Core\n",
    "Here are the functions that we are going to use to predict the number of Deaths for a country.\n",
    "We will:\n",
    "- preprocess the data (_preprocess_),\n",
    "- create a training and testing database (_make_train_test_data_),\n",
    "- train a model (_train_model_),\n",
    "- generate predictions (_forecast_),\n",
    "- generate a dataframe with the historical data and the predictions (_result_)\n",
    "\n",
    "![](img/all_architecture.svg)"
   ]
  },
  {
   "cell_type": "code",
   "execution_count": 41,
   "id": "688ebab8",
   "metadata": {
    "id": "688ebab8"
   },
   "outputs": [],
   "source": [
    "def preprocess(initial_data, country):\n",
    "    data = initial_data.groupby([\"Country/Region\",'Date'])\\\n",
    "                       .sum()\\\n",
    "                       .dropna()\\\n",
    "                       .reset_index()\n",
    "\n",
    "    preprocess_data = data.loc[data['Country/Region']==country].reset_index(drop=True)\n",
    "    return preprocess_data\n",
    "    \n",
    "    \n",
    "def make_train_test_data(preprocess_data):\n",
    "    perc_test = 0.3\n",
    "    nb_to_predict = int(perc_test*len(preprocess_data))\n",
    "    train_data = preprocess_data[:-nb_to_predict]\n",
    "    return train_data, nb_to_predict\n",
    "\n",
    "\n",
    "def train_model(train_data):\n",
    "    model = auto_arima(train_data['Deaths'],\n",
    "                       start_p=1, start_q=1,\n",
    "                       max_p=5, max_q=5,\n",
    "                       start_P=0, seasonal=False,\n",
    "                       d=1, D=1, trace=True,\n",
    "                       error_action='ignore',  \n",
    "                       suppress_warnings=True)\n",
    "    model.fit(train_data['Deaths'])\n",
    "    return model\n",
    "\n",
    "\n",
    "def forecast(model, nb_to_predict):\n",
    "    predictions = model.predict(n_periods=nb_to_predict)\n",
    "    return predictions\n",
    "\n",
    "\n",
    "def result(preprocess_data, predictions, nb_to_predict):\n",
    "    pred_series = pd.Series([np.NaN]*(len(preprocess_data)-nb_to_predict) + list(predictions), name='Predictions')\n",
    "    return pd.concat([preprocess_data, pred_series], axis=1)"
   ]
  },
  {
   "cell_type": "markdown",
   "id": "9d2e845f",
   "metadata": {
    "id": "9d2e845f"
   },
   "source": [
    "First we must define the Data Nodes then the tasks (associated to the Python function). Furthermore, we gather these tasks into different pipelines and these pipelines into a scenario.\n",
    "\n",
    "A Data Nod needs a **unique id**. If needed, the storage type can be changed for CSV and SQL. Other parameters are then needed."
   ]
  },
  {
   "cell_type": "markdown",
   "id": "b19ed6d7",
   "metadata": {
    "id": "b19ed6d7"
   },
   "source": [
    "### Data Nodes and Task for preprocess"
   ]
  },
  {
   "cell_type": "markdown",
   "id": "6c0e2743",
   "metadata": {
    "id": "6c0e2743"
   },
   "source": [
    "<img src=\"img/preprocess.svg\" alt=\"drawing\" width=\"500\"/>"
   ]
  },
  {
   "cell_type": "code",
   "execution_count": 42,
   "id": "a0dec60e",
   "metadata": {
    "id": "a0dec60e"
   },
   "outputs": [],
   "source": [
    "initial_data_cfg = Config.configure_data_node(id=\"initial_data\",\n",
    "                                              storage_type=\"csv\",\n",
    "                                              path=path_to_data,\n",
    "                                              cacheable=True,\n",
    "                                              validity_period=dt.timedelta(days=5))\n",
    "\n",
    "country_cfg = Config.configure_data_node(id=\"country\", default_data=\"France\",\n",
    "                                         cacheable=True, validity_period=dt.timedelta(days=5))\n",
    "\n",
    "preprocess_data_cfg =  Config.configure_data_node(id=\"preprocess_data\",\n",
    "                                                  cacheable=True, validity_period=dt.timedelta(days=5))\n",
    "\n",
    "\n",
    "task_preprocess_cfg = Config.configure_task(id=\"task_preprocess_data\",\n",
    "                                           function=preprocess,\n",
    "                                           input=[initial_data_cfg, country_cfg],\n",
    "                                           output=preprocess_data_cfg)"
   ]
  },
  {
   "cell_type": "markdown",
   "id": "e9a53d43",
   "metadata": {
    "id": "e9a53d43"
   },
   "source": [
    "### Data Nodes and Task for make_train_test_data"
   ]
  },
  {
   "cell_type": "markdown",
   "id": "caacd215",
   "metadata": {
    "id": "caacd215"
   },
   "source": [
    "<img src=\"img/make_train_test_data.svg\" alt=\"drawing\" width=\"500\"/>"
   ]
  },
  {
   "cell_type": "code",
   "execution_count": 43,
   "id": "d357539c",
   "metadata": {
    "id": "d357539c"
   },
   "outputs": [],
   "source": [
    "train_data_cfg =  Config.configure_data_node(id=\"train_data\", cacheable=True, validity_period=dt.timedelta(days=5))\n",
    "\n",
    "nb_to_predict_cfg = Config.configure_data_node(id=\"nb_to_predict\",\n",
    "                                               cacheable=True, validity_period=dt.timedelta(days=5))\n",
    "\n",
    "task_train_test_cfg = Config.configure_task(id=\"task_make_train_test_data\",\n",
    "                                           function=make_train_test_data,\n",
    "                                           input=preprocess_data_cfg,\n",
    "                                           output=[train_data_cfg, nb_to_predict_cfg])"
   ]
  },
  {
   "cell_type": "markdown",
   "id": "1908c988",
   "metadata": {
    "id": "1908c988"
   },
   "source": [
    "### Data Nodes and Task for train_model"
   ]
  },
  {
   "cell_type": "markdown",
   "id": "e8bd5020",
   "metadata": {
    "id": "e8bd5020"
   },
   "source": [
    "<img src=\"img/train_model.svg\" alt=\"drawing\" width=\"500\"/>"
   ]
  },
  {
   "cell_type": "code",
   "execution_count": 44,
   "id": "96afe994",
   "metadata": {
    "id": "96afe994"
   },
   "outputs": [],
   "source": [
    "model_cfg = Config.configure_data_node(id=\"model\", cacheable=True, validity_period=dt.timedelta(days=5))\n",
    "\n",
    "task_train_cfg = Config.configure_task(id=\"task_train\",\n",
    "                                      function=train_model,\n",
    "                                      input=train_data_cfg,\n",
    "                                      output=model_cfg)"
   ]
  },
  {
   "cell_type": "markdown",
   "id": "849d0a97",
   "metadata": {
    "id": "849d0a97"
   },
   "source": [
    "### Data Nodes and Task for forecast"
   ]
  },
  {
   "cell_type": "markdown",
   "id": "e0a125c7",
   "metadata": {
    "id": "e0a125c7"
   },
   "source": [
    "<img src=\"img/forecast.svg\" alt=\"drawing\" width=\"500\"/>"
   ]
  },
  {
   "cell_type": "code",
   "execution_count": 45,
   "id": "46b0287b",
   "metadata": {
    "id": "46b0287b"
   },
   "outputs": [],
   "source": [
    "predictions_cfg = Config.configure_data_node(id=\"predictions\")\n",
    "\n",
    "task_forecast_cfg = Config.configure_task(id=\"task_forecast\",\n",
    "                                      function=forecast,\n",
    "                                      input=[model_cfg, nb_to_predict_cfg],\n",
    "                                      output=predictions_cfg)"
   ]
  },
  {
   "cell_type": "markdown",
   "id": "73ab0ee0",
   "metadata": {
    "id": "73ab0ee0"
   },
   "source": [
    "### Data Nodes and Task for result"
   ]
  },
  {
   "cell_type": "markdown",
   "id": "899c41df",
   "metadata": {
    "id": "899c41df"
   },
   "source": [
    "<img src=\"img/result.svg\" alt=\"drawing\" width=\"500\"/>"
   ]
  },
  {
   "cell_type": "code",
   "execution_count": 46,
   "id": "92f6ca0c",
   "metadata": {
    "id": "92f6ca0c"
   },
   "outputs": [],
   "source": [
    "result_cfg = Config.configure_data_node(id=\"result\")\n",
    "\n",
    "task_result_cfg = Config.configure_task(id=\"task_result\",\n",
    "                                      function=result,\n",
    "                                      input=[preprocess_data_cfg, predictions_cfg, nb_to_predict_cfg],\n",
    "                                      output=result_cfg)"
   ]
  },
  {
   "cell_type": "markdown",
   "id": "252820b6",
   "metadata": {
    "id": "252820b6"
   },
   "source": [
    "## [Configuration of pipelines](https://docs.taipy.io/en/release-1.1/manuals/reference/taipy.Config/#taipy.core.config.config.Config.configure_default_pipeline)"
   ]
  },
  {
   "cell_type": "code",
   "execution_count": 47,
   "id": "ed34224b",
   "metadata": {
    "id": "ed34224b"
   },
   "outputs": [],
   "source": [
    "pipeline_preprocessing_cfg = Config.configure_pipeline(id=\"pipeline_preprocessing\",\n",
    "                                                       task_configs=[task_preprocess_cfg, task_train_test_cfg])\n",
    "\n",
    "pipeline_train_cfg = Config.configure_pipeline(id=\"pipeline_train\",\n",
    "                                               task_configs=[task_train_cfg])\n",
    "\n",
    "pipeline_forecast_cfg = Config.configure_pipeline(id=\"pipeline_forecast\",\n",
    "                                                       task_configs=[task_forecast_cfg, task_result_cfg])"
   ]
  },
  {
   "cell_type": "markdown",
   "id": "27dbc823",
   "metadata": {
    "id": "27dbc823"
   },
   "source": [
    "## [Configuration of scénario](https://docs.taipy.io/en/release-1.1/manuals/reference/taipy.Config/#taipy.core.config.config.Config.configure_default_scenario)"
   ]
  },
  {
   "cell_type": "code",
   "execution_count": 48,
   "id": "9c742722",
   "metadata": {
    "id": "9c742722"
   },
   "outputs": [],
   "source": [
    "scenario_cfg = Config.configure_scenario(id='scenario', pipeline_configs=[pipeline_preprocessing_cfg,\n",
    "                                                                         pipeline_train_cfg,\n",
    "                                                                         pipeline_forecast_cfg])"
   ]
  },
  {
   "cell_type": "markdown",
   "id": "986ebad5",
   "metadata": {
    "id": "986ebad5"
   },
   "source": [
    "## Creation and submit of scenario"
   ]
  },
  {
   "cell_type": "code",
   "execution_count": 49,
   "id": "ee902abf",
   "metadata": {
    "id": "ee902abf",
    "outputId": "f2e36e97-1ce2-49ae-b4b7-23f84e68892a"
   },
   "outputs": [
    {
     "ename": "KeyError",
     "evalue": "'last_edition_date'",
     "output_type": "error",
     "traceback": [
      "\u001b[1;31m---------------------------------------------------------------------------\u001b[0m",
      "\u001b[1;31mKeyError\u001b[0m                                  Traceback (most recent call last)",
      "\u001b[1;32m~\\AppData\\Local\\Temp/ipykernel_20380/2477417103.py\u001b[0m in \u001b[0;36m<module>\u001b[1;34m\u001b[0m\n\u001b[1;32m----> 1\u001b[1;33m \u001b[0mscenario\u001b[0m \u001b[1;33m=\u001b[0m \u001b[0mtp\u001b[0m\u001b[1;33m.\u001b[0m\u001b[0mcreate_scenario\u001b[0m\u001b[1;33m(\u001b[0m\u001b[0mscenario_cfg\u001b[0m\u001b[1;33m,\u001b[0m \u001b[0mname\u001b[0m\u001b[1;33m=\u001b[0m\u001b[1;34m'First Scenario'\u001b[0m\u001b[1;33m)\u001b[0m\u001b[1;33m\u001b[0m\u001b[1;33m\u001b[0m\u001b[0m\n\u001b[0m\u001b[0;32m      2\u001b[0m \u001b[0mtp\u001b[0m\u001b[1;33m.\u001b[0m\u001b[0msubmit\u001b[0m\u001b[1;33m(\u001b[0m\u001b[0mscenario\u001b[0m\u001b[1;33m)\u001b[0m\u001b[1;33m\u001b[0m\u001b[1;33m\u001b[0m\u001b[0m\n",
      "\u001b[1;32m~\\anaconda3\\lib\\site-packages\\taipy\\core\\taipy.py\u001b[0m in \u001b[0;36mcreate_scenario\u001b[1;34m(config, creation_date, name)\u001b[0m\n\u001b[0;32m    393\u001b[0m         \u001b[0mScenario\u001b[0m\u001b[1;33m^\u001b[0m\u001b[1;33m:\u001b[0m \u001b[0mThe\u001b[0m \u001b[0mnew\u001b[0m \u001b[0mscenario\u001b[0m\u001b[1;33m.\u001b[0m\u001b[1;33m\u001b[0m\u001b[1;33m\u001b[0m\u001b[0m\n\u001b[0;32m    394\u001b[0m     \"\"\"\n\u001b[1;32m--> 395\u001b[1;33m     \u001b[1;32mreturn\u001b[0m \u001b[0m_ScenarioManager\u001b[0m\u001b[1;33m.\u001b[0m\u001b[0m_create\u001b[0m\u001b[1;33m(\u001b[0m\u001b[0mconfig\u001b[0m\u001b[1;33m,\u001b[0m \u001b[0mcreation_date\u001b[0m\u001b[1;33m,\u001b[0m \u001b[0mname\u001b[0m\u001b[1;33m)\u001b[0m\u001b[1;33m\u001b[0m\u001b[1;33m\u001b[0m\u001b[0m\n\u001b[0m\u001b[0;32m    396\u001b[0m \u001b[1;33m\u001b[0m\u001b[0m\n\u001b[0;32m    397\u001b[0m \u001b[1;33m\u001b[0m\u001b[0m\n",
      "\u001b[1;32m~\\anaconda3\\lib\\site-packages\\taipy\\core\\scenario\\_scenario_manager.py\u001b[0m in \u001b[0;36m_create\u001b[1;34m(cls, config, creation_date, name)\u001b[0m\n\u001b[0;32m     82\u001b[0m     ) -> Scenario:\n\u001b[0;32m     83\u001b[0m         \u001b[0mscenario_id\u001b[0m \u001b[1;33m=\u001b[0m \u001b[0mScenario\u001b[0m\u001b[1;33m.\u001b[0m\u001b[0m_new_id\u001b[0m\u001b[1;33m(\u001b[0m\u001b[0mconfig\u001b[0m\u001b[1;33m.\u001b[0m\u001b[0mid\u001b[0m\u001b[1;33m)\u001b[0m\u001b[1;33m\u001b[0m\u001b[1;33m\u001b[0m\u001b[0m\n\u001b[1;32m---> 84\u001b[1;33m         \u001b[0mpipelines\u001b[0m \u001b[1;33m=\u001b[0m \u001b[1;33m[\u001b[0m\u001b[0m_PipelineManager\u001b[0m\u001b[1;33m.\u001b[0m\u001b[0m_get_or_create\u001b[0m\u001b[1;33m(\u001b[0m\u001b[0mp_config\u001b[0m\u001b[1;33m,\u001b[0m \u001b[0mscenario_id\u001b[0m\u001b[1;33m)\u001b[0m \u001b[1;32mfor\u001b[0m \u001b[0mp_config\u001b[0m \u001b[1;32min\u001b[0m \u001b[0mconfig\u001b[0m\u001b[1;33m.\u001b[0m\u001b[0mpipeline_configs\u001b[0m\u001b[1;33m]\u001b[0m\u001b[1;33m\u001b[0m\u001b[1;33m\u001b[0m\u001b[0m\n\u001b[0m\u001b[0;32m     85\u001b[0m         \u001b[0mcycle\u001b[0m \u001b[1;33m=\u001b[0m \u001b[0m_CycleManager\u001b[0m\u001b[1;33m.\u001b[0m\u001b[0m_get_or_create\u001b[0m\u001b[1;33m(\u001b[0m\u001b[0mconfig\u001b[0m\u001b[1;33m.\u001b[0m\u001b[0mfrequency\u001b[0m\u001b[1;33m,\u001b[0m \u001b[0mcreation_date\u001b[0m\u001b[1;33m)\u001b[0m \u001b[1;32mif\u001b[0m \u001b[0mconfig\u001b[0m\u001b[1;33m.\u001b[0m\u001b[0mfrequency\u001b[0m \u001b[1;32melse\u001b[0m \u001b[1;32mNone\u001b[0m\u001b[1;33m\u001b[0m\u001b[1;33m\u001b[0m\u001b[0m\n\u001b[0;32m     86\u001b[0m         \u001b[0mis_primary_scenario\u001b[0m \u001b[1;33m=\u001b[0m \u001b[0mlen\u001b[0m\u001b[1;33m(\u001b[0m\u001b[0mcls\u001b[0m\u001b[1;33m.\u001b[0m\u001b[0m_get_all_by_cycle\u001b[0m\u001b[1;33m(\u001b[0m\u001b[0mcycle\u001b[0m\u001b[1;33m)\u001b[0m\u001b[1;33m)\u001b[0m \u001b[1;33m==\u001b[0m \u001b[1;36m0\u001b[0m \u001b[1;32mif\u001b[0m \u001b[0mcycle\u001b[0m \u001b[1;32melse\u001b[0m \u001b[1;32mFalse\u001b[0m\u001b[1;33m\u001b[0m\u001b[1;33m\u001b[0m\u001b[0m\n",
      "\u001b[1;32m~\\anaconda3\\lib\\site-packages\\taipy\\core\\scenario\\_scenario_manager.py\u001b[0m in \u001b[0;36m<listcomp>\u001b[1;34m(.0)\u001b[0m\n\u001b[0;32m     82\u001b[0m     ) -> Scenario:\n\u001b[0;32m     83\u001b[0m         \u001b[0mscenario_id\u001b[0m \u001b[1;33m=\u001b[0m \u001b[0mScenario\u001b[0m\u001b[1;33m.\u001b[0m\u001b[0m_new_id\u001b[0m\u001b[1;33m(\u001b[0m\u001b[0mconfig\u001b[0m\u001b[1;33m.\u001b[0m\u001b[0mid\u001b[0m\u001b[1;33m)\u001b[0m\u001b[1;33m\u001b[0m\u001b[1;33m\u001b[0m\u001b[0m\n\u001b[1;32m---> 84\u001b[1;33m         \u001b[0mpipelines\u001b[0m \u001b[1;33m=\u001b[0m \u001b[1;33m[\u001b[0m\u001b[0m_PipelineManager\u001b[0m\u001b[1;33m.\u001b[0m\u001b[0m_get_or_create\u001b[0m\u001b[1;33m(\u001b[0m\u001b[0mp_config\u001b[0m\u001b[1;33m,\u001b[0m \u001b[0mscenario_id\u001b[0m\u001b[1;33m)\u001b[0m \u001b[1;32mfor\u001b[0m \u001b[0mp_config\u001b[0m \u001b[1;32min\u001b[0m \u001b[0mconfig\u001b[0m\u001b[1;33m.\u001b[0m\u001b[0mpipeline_configs\u001b[0m\u001b[1;33m]\u001b[0m\u001b[1;33m\u001b[0m\u001b[1;33m\u001b[0m\u001b[0m\n\u001b[0m\u001b[0;32m     85\u001b[0m         \u001b[0mcycle\u001b[0m \u001b[1;33m=\u001b[0m \u001b[0m_CycleManager\u001b[0m\u001b[1;33m.\u001b[0m\u001b[0m_get_or_create\u001b[0m\u001b[1;33m(\u001b[0m\u001b[0mconfig\u001b[0m\u001b[1;33m.\u001b[0m\u001b[0mfrequency\u001b[0m\u001b[1;33m,\u001b[0m \u001b[0mcreation_date\u001b[0m\u001b[1;33m)\u001b[0m \u001b[1;32mif\u001b[0m \u001b[0mconfig\u001b[0m\u001b[1;33m.\u001b[0m\u001b[0mfrequency\u001b[0m \u001b[1;32melse\u001b[0m \u001b[1;32mNone\u001b[0m\u001b[1;33m\u001b[0m\u001b[1;33m\u001b[0m\u001b[0m\n\u001b[0;32m     86\u001b[0m         \u001b[0mis_primary_scenario\u001b[0m \u001b[1;33m=\u001b[0m \u001b[0mlen\u001b[0m\u001b[1;33m(\u001b[0m\u001b[0mcls\u001b[0m\u001b[1;33m.\u001b[0m\u001b[0m_get_all_by_cycle\u001b[0m\u001b[1;33m(\u001b[0m\u001b[0mcycle\u001b[0m\u001b[1;33m)\u001b[0m\u001b[1;33m)\u001b[0m \u001b[1;33m==\u001b[0m \u001b[1;36m0\u001b[0m \u001b[1;32mif\u001b[0m \u001b[0mcycle\u001b[0m \u001b[1;32melse\u001b[0m \u001b[1;32mFalse\u001b[0m\u001b[1;33m\u001b[0m\u001b[1;33m\u001b[0m\u001b[0m\n",
      "\u001b[1;32m~\\anaconda3\\lib\\site-packages\\taipy\\core\\pipeline\\_pipeline_manager.py\u001b[0m in \u001b[0;36m_get_or_create\u001b[1;34m(cls, pipeline_config, scenario_id)\u001b[0m\n\u001b[0;32m     64\u001b[0m     \u001b[1;32mdef\u001b[0m \u001b[0m_get_or_create\u001b[0m\u001b[1;33m(\u001b[0m\u001b[0mcls\u001b[0m\u001b[1;33m,\u001b[0m \u001b[0mpipeline_config\u001b[0m\u001b[1;33m:\u001b[0m \u001b[0mPipelineConfig\u001b[0m\u001b[1;33m,\u001b[0m \u001b[0mscenario_id\u001b[0m\u001b[1;33m:\u001b[0m \u001b[0mOptional\u001b[0m\u001b[1;33m[\u001b[0m\u001b[0mScenarioId\u001b[0m\u001b[1;33m]\u001b[0m \u001b[1;33m=\u001b[0m \u001b[1;32mNone\u001b[0m\u001b[1;33m)\u001b[0m \u001b[1;33m->\u001b[0m \u001b[0mPipeline\u001b[0m\u001b[1;33m:\u001b[0m\u001b[1;33m\u001b[0m\u001b[1;33m\u001b[0m\u001b[0m\n\u001b[0;32m     65\u001b[0m         \u001b[0mpipeline_id\u001b[0m \u001b[1;33m=\u001b[0m \u001b[0mPipeline\u001b[0m\u001b[1;33m.\u001b[0m\u001b[0m_new_id\u001b[0m\u001b[1;33m(\u001b[0m\u001b[0mpipeline_config\u001b[0m\u001b[1;33m.\u001b[0m\u001b[0mid\u001b[0m\u001b[1;33m)\u001b[0m\u001b[1;33m\u001b[0m\u001b[1;33m\u001b[0m\u001b[0m\n\u001b[1;32m---> 66\u001b[1;33m         tasks = [\n\u001b[0m\u001b[0;32m     67\u001b[0m             \u001b[0m_TaskManager\u001b[0m\u001b[1;33m.\u001b[0m\u001b[0m_get_or_create\u001b[0m\u001b[1;33m(\u001b[0m\u001b[0mt_config\u001b[0m\u001b[1;33m,\u001b[0m \u001b[0mscenario_id\u001b[0m\u001b[1;33m,\u001b[0m \u001b[0mpipeline_id\u001b[0m\u001b[1;33m)\u001b[0m \u001b[1;32mfor\u001b[0m \u001b[0mt_config\u001b[0m \u001b[1;32min\u001b[0m \u001b[0mpipeline_config\u001b[0m\u001b[1;33m.\u001b[0m\u001b[0mtask_configs\u001b[0m\u001b[1;33m\u001b[0m\u001b[1;33m\u001b[0m\u001b[0m\n\u001b[0;32m     68\u001b[0m         ]\n",
      "\u001b[1;32m~\\anaconda3\\lib\\site-packages\\taipy\\core\\pipeline\\_pipeline_manager.py\u001b[0m in \u001b[0;36m<listcomp>\u001b[1;34m(.0)\u001b[0m\n\u001b[0;32m     65\u001b[0m         \u001b[0mpipeline_id\u001b[0m \u001b[1;33m=\u001b[0m \u001b[0mPipeline\u001b[0m\u001b[1;33m.\u001b[0m\u001b[0m_new_id\u001b[0m\u001b[1;33m(\u001b[0m\u001b[0mpipeline_config\u001b[0m\u001b[1;33m.\u001b[0m\u001b[0mid\u001b[0m\u001b[1;33m)\u001b[0m\u001b[1;33m\u001b[0m\u001b[1;33m\u001b[0m\u001b[0m\n\u001b[0;32m     66\u001b[0m         tasks = [\n\u001b[1;32m---> 67\u001b[1;33m             \u001b[0m_TaskManager\u001b[0m\u001b[1;33m.\u001b[0m\u001b[0m_get_or_create\u001b[0m\u001b[1;33m(\u001b[0m\u001b[0mt_config\u001b[0m\u001b[1;33m,\u001b[0m \u001b[0mscenario_id\u001b[0m\u001b[1;33m,\u001b[0m \u001b[0mpipeline_id\u001b[0m\u001b[1;33m)\u001b[0m \u001b[1;32mfor\u001b[0m \u001b[0mt_config\u001b[0m \u001b[1;32min\u001b[0m \u001b[0mpipeline_config\u001b[0m\u001b[1;33m.\u001b[0m\u001b[0mtask_configs\u001b[0m\u001b[1;33m\u001b[0m\u001b[1;33m\u001b[0m\u001b[0m\n\u001b[0m\u001b[0;32m     68\u001b[0m         ]\n\u001b[0;32m     69\u001b[0m         \u001b[0mscope\u001b[0m \u001b[1;33m=\u001b[0m \u001b[0mmin\u001b[0m\u001b[1;33m(\u001b[0m\u001b[0mtask\u001b[0m\u001b[1;33m.\u001b[0m\u001b[0mscope\u001b[0m \u001b[1;32mfor\u001b[0m \u001b[0mtask\u001b[0m \u001b[1;32min\u001b[0m \u001b[0mtasks\u001b[0m\u001b[1;33m)\u001b[0m \u001b[1;32mif\u001b[0m \u001b[0mlen\u001b[0m\u001b[1;33m(\u001b[0m\u001b[0mtasks\u001b[0m\u001b[1;33m)\u001b[0m \u001b[1;33m!=\u001b[0m \u001b[1;36m0\u001b[0m \u001b[1;32melse\u001b[0m \u001b[0mScope\u001b[0m\u001b[1;33m.\u001b[0m\u001b[0mGLOBAL\u001b[0m\u001b[1;33m\u001b[0m\u001b[1;33m\u001b[0m\u001b[0m\n",
      "\u001b[1;32m~\\anaconda3\\lib\\site-packages\\taipy\\core\\task\\_task_manager.py\u001b[0m in \u001b[0;36m_get_or_create\u001b[1;34m(cls, task_config, scenario_id, pipeline_id)\u001b[0m\n\u001b[0;32m     52\u001b[0m         \u001b[0mpipeline_id\u001b[0m\u001b[1;33m:\u001b[0m \u001b[0mOptional\u001b[0m\u001b[1;33m[\u001b[0m\u001b[0mPipelineId\u001b[0m\u001b[1;33m]\u001b[0m \u001b[1;33m=\u001b[0m \u001b[1;32mNone\u001b[0m\u001b[1;33m,\u001b[0m\u001b[1;33m\u001b[0m\u001b[1;33m\u001b[0m\u001b[0m\n\u001b[0;32m     53\u001b[0m     ) -> Task:\n\u001b[1;32m---> 54\u001b[1;33m         data_nodes = {\n\u001b[0m\u001b[0;32m     55\u001b[0m             \u001b[0mdn_config\u001b[0m\u001b[1;33m:\u001b[0m \u001b[0m_DataManager\u001b[0m\u001b[1;33m.\u001b[0m\u001b[0m_get_or_create\u001b[0m\u001b[1;33m(\u001b[0m\u001b[0mdn_config\u001b[0m\u001b[1;33m,\u001b[0m \u001b[0mscenario_id\u001b[0m\u001b[1;33m,\u001b[0m \u001b[0mpipeline_id\u001b[0m\u001b[1;33m)\u001b[0m\u001b[1;33m\u001b[0m\u001b[1;33m\u001b[0m\u001b[0m\n\u001b[0;32m     56\u001b[0m             \u001b[1;32mfor\u001b[0m \u001b[0mdn_config\u001b[0m \u001b[1;32min\u001b[0m \u001b[0mset\u001b[0m\u001b[1;33m(\u001b[0m\u001b[0mitertools\u001b[0m\u001b[1;33m.\u001b[0m\u001b[0mchain\u001b[0m\u001b[1;33m(\u001b[0m\u001b[0mtask_config\u001b[0m\u001b[1;33m.\u001b[0m\u001b[0minput_configs\u001b[0m\u001b[1;33m,\u001b[0m \u001b[0mtask_config\u001b[0m\u001b[1;33m.\u001b[0m\u001b[0moutput_configs\u001b[0m\u001b[1;33m)\u001b[0m\u001b[1;33m)\u001b[0m\u001b[1;33m\u001b[0m\u001b[1;33m\u001b[0m\u001b[0m\n",
      "\u001b[1;32m~\\anaconda3\\lib\\site-packages\\taipy\\core\\task\\_task_manager.py\u001b[0m in \u001b[0;36m<dictcomp>\u001b[1;34m(.0)\u001b[0m\n\u001b[0;32m     53\u001b[0m     ) -> Task:\n\u001b[0;32m     54\u001b[0m         data_nodes = {\n\u001b[1;32m---> 55\u001b[1;33m             \u001b[0mdn_config\u001b[0m\u001b[1;33m:\u001b[0m \u001b[0m_DataManager\u001b[0m\u001b[1;33m.\u001b[0m\u001b[0m_get_or_create\u001b[0m\u001b[1;33m(\u001b[0m\u001b[0mdn_config\u001b[0m\u001b[1;33m,\u001b[0m \u001b[0mscenario_id\u001b[0m\u001b[1;33m,\u001b[0m \u001b[0mpipeline_id\u001b[0m\u001b[1;33m)\u001b[0m\u001b[1;33m\u001b[0m\u001b[1;33m\u001b[0m\u001b[0m\n\u001b[0m\u001b[0;32m     56\u001b[0m             \u001b[1;32mfor\u001b[0m \u001b[0mdn_config\u001b[0m \u001b[1;32min\u001b[0m \u001b[0mset\u001b[0m\u001b[1;33m(\u001b[0m\u001b[0mitertools\u001b[0m\u001b[1;33m.\u001b[0m\u001b[0mchain\u001b[0m\u001b[1;33m(\u001b[0m\u001b[0mtask_config\u001b[0m\u001b[1;33m.\u001b[0m\u001b[0minput_configs\u001b[0m\u001b[1;33m,\u001b[0m \u001b[0mtask_config\u001b[0m\u001b[1;33m.\u001b[0m\u001b[0moutput_configs\u001b[0m\u001b[1;33m)\u001b[0m\u001b[1;33m)\u001b[0m\u001b[1;33m\u001b[0m\u001b[1;33m\u001b[0m\u001b[0m\n\u001b[0;32m     57\u001b[0m         }\n",
      "\u001b[1;32m~\\anaconda3\\lib\\site-packages\\taipy\\core\\data\\_data_manager.py\u001b[0m in \u001b[0;36m_get_or_create\u001b[1;34m(cls, data_node_config, scenario_id, pipeline_id)\u001b[0m\n\u001b[0;32m     39\u001b[0m         \u001b[0mparent_id\u001b[0m \u001b[1;33m=\u001b[0m \u001b[0mpipeline_id\u001b[0m \u001b[1;32mif\u001b[0m \u001b[0mscope\u001b[0m \u001b[1;33m==\u001b[0m \u001b[0mScope\u001b[0m\u001b[1;33m.\u001b[0m\u001b[0mPIPELINE\u001b[0m \u001b[1;32melse\u001b[0m \u001b[0mscenario_id\u001b[0m \u001b[1;32mif\u001b[0m \u001b[0mscope\u001b[0m \u001b[1;33m==\u001b[0m \u001b[0mScope\u001b[0m\u001b[1;33m.\u001b[0m\u001b[0mSCENARIO\u001b[0m \u001b[1;32melse\u001b[0m \u001b[1;32mNone\u001b[0m\u001b[1;33m\u001b[0m\u001b[1;33m\u001b[0m\u001b[0m\n\u001b[0;32m     40\u001b[0m \u001b[1;33m\u001b[0m\u001b[0m\n\u001b[1;32m---> 41\u001b[1;33m         \u001b[1;32mif\u001b[0m \u001b[0mdn_from_parent\u001b[0m \u001b[1;33m:=\u001b[0m \u001b[0mcls\u001b[0m\u001b[1;33m.\u001b[0m\u001b[0m_repository\u001b[0m\u001b[1;33m.\u001b[0m\u001b[0m_get_by_config_and_parent_ids\u001b[0m\u001b[1;33m(\u001b[0m\u001b[0mdata_node_config\u001b[0m\u001b[1;33m.\u001b[0m\u001b[0mid\u001b[0m\u001b[1;33m,\u001b[0m \u001b[0mparent_id\u001b[0m\u001b[1;33m)\u001b[0m\u001b[1;33m:\u001b[0m\u001b[1;33m\u001b[0m\u001b[1;33m\u001b[0m\u001b[0m\n\u001b[0m\u001b[0;32m     42\u001b[0m             \u001b[1;32mreturn\u001b[0m \u001b[0mdn_from_parent\u001b[0m\u001b[1;33m\u001b[0m\u001b[1;33m\u001b[0m\u001b[0m\n\u001b[0;32m     43\u001b[0m \u001b[1;33m\u001b[0m\u001b[0m\n",
      "\u001b[1;32m~\\anaconda3\\lib\\site-packages\\taipy\\core\\_repository\\_fs_base.py\u001b[0m in \u001b[0;36m_get_by_config_and_parent_ids\u001b[1;34m(self, config_id, parent_id)\u001b[0m\n\u001b[0;32m    120\u001b[0m     \u001b[1;32mdef\u001b[0m \u001b[0m_get_by_config_and_parent_ids\u001b[0m\u001b[1;33m(\u001b[0m\u001b[0mself\u001b[0m\u001b[1;33m,\u001b[0m \u001b[0mconfig_id\u001b[0m\u001b[1;33m:\u001b[0m \u001b[0mstr\u001b[0m\u001b[1;33m,\u001b[0m \u001b[0mparent_id\u001b[0m\u001b[1;33m:\u001b[0m \u001b[0mOptional\u001b[0m\u001b[1;33m[\u001b[0m\u001b[0mstr\u001b[0m\u001b[1;33m]\u001b[0m\u001b[1;33m)\u001b[0m \u001b[1;33m->\u001b[0m \u001b[0mOptional\u001b[0m\u001b[1;33m[\u001b[0m\u001b[0mEntity\u001b[0m\u001b[1;33m]\u001b[0m\u001b[1;33m:\u001b[0m\u001b[1;33m\u001b[0m\u001b[1;33m\u001b[0m\u001b[0m\n\u001b[0;32m    121\u001b[0m         \u001b[1;32mfor\u001b[0m \u001b[0mf\u001b[0m \u001b[1;32min\u001b[0m \u001b[0mself\u001b[0m\u001b[1;33m.\u001b[0m\u001b[0m_directory\u001b[0m\u001b[1;33m.\u001b[0m\u001b[0mglob\u001b[0m\u001b[1;33m(\u001b[0m\u001b[1;34mf\"*_{config_id}_*.json\"\u001b[0m\u001b[1;33m)\u001b[0m\u001b[1;33m:\u001b[0m\u001b[1;33m\u001b[0m\u001b[1;33m\u001b[0m\u001b[0m\n\u001b[1;32m--> 122\u001b[1;33m             \u001b[0mentity\u001b[0m \u001b[1;33m=\u001b[0m \u001b[0mself\u001b[0m\u001b[1;33m.\u001b[0m\u001b[0m__to_entity\u001b[0m\u001b[1;33m(\u001b[0m\u001b[0mf\u001b[0m\u001b[1;33m)\u001b[0m\u001b[1;33m\u001b[0m\u001b[1;33m\u001b[0m\u001b[0m\n\u001b[0m\u001b[0;32m    123\u001b[0m             \u001b[1;32mif\u001b[0m \u001b[0mentity\u001b[0m\u001b[1;33m.\u001b[0m\u001b[0mconfig_id\u001b[0m \u001b[1;33m==\u001b[0m \u001b[0mconfig_id\u001b[0m \u001b[1;32mand\u001b[0m \u001b[0mentity\u001b[0m\u001b[1;33m.\u001b[0m\u001b[0mparent_id\u001b[0m \u001b[1;33m==\u001b[0m \u001b[0mparent_id\u001b[0m\u001b[1;33m:\u001b[0m\u001b[1;33m\u001b[0m\u001b[1;33m\u001b[0m\u001b[0m\n\u001b[0;32m    124\u001b[0m                 \u001b[1;32mreturn\u001b[0m \u001b[0mentity\u001b[0m\u001b[1;33m\u001b[0m\u001b[1;33m\u001b[0m\u001b[0m\n",
      "\u001b[1;32m~\\anaconda3\\lib\\site-packages\\taipy\\core\\_repository\\_fs_base.py\u001b[0m in \u001b[0;36m__to_entity\u001b[1;34m(self, filepath)\u001b[0m\n\u001b[0;32m    142\u001b[0m         \u001b[1;32mwith\u001b[0m \u001b[0mopen\u001b[0m\u001b[1;33m(\u001b[0m\u001b[0mfilepath\u001b[0m\u001b[1;33m,\u001b[0m \u001b[1;34m\"r\"\u001b[0m\u001b[1;33m)\u001b[0m \u001b[1;32mas\u001b[0m \u001b[0mf\u001b[0m\u001b[1;33m:\u001b[0m\u001b[1;33m\u001b[0m\u001b[1;33m\u001b[0m\u001b[0m\n\u001b[0;32m    143\u001b[0m             \u001b[0mdata\u001b[0m \u001b[1;33m=\u001b[0m \u001b[0mjson\u001b[0m\u001b[1;33m.\u001b[0m\u001b[0mload\u001b[0m\u001b[1;33m(\u001b[0m\u001b[0mf\u001b[0m\u001b[1;33m,\u001b[0m \u001b[0mcls\u001b[0m\u001b[1;33m=\u001b[0m\u001b[0m_CustomDecoder\u001b[0m\u001b[1;33m)\u001b[0m\u001b[1;33m\u001b[0m\u001b[1;33m\u001b[0m\u001b[0m\n\u001b[1;32m--> 144\u001b[1;33m         \u001b[0mmodel\u001b[0m \u001b[1;33m=\u001b[0m \u001b[0mself\u001b[0m\u001b[1;33m.\u001b[0m\u001b[0mmodel\u001b[0m\u001b[1;33m.\u001b[0m\u001b[0mfrom_dict\u001b[0m\u001b[1;33m(\u001b[0m\u001b[0mdata\u001b[0m\u001b[1;33m)\u001b[0m  \u001b[1;31m# type: ignore\u001b[0m\u001b[1;33m\u001b[0m\u001b[1;33m\u001b[0m\u001b[0m\n\u001b[0m\u001b[0;32m    145\u001b[0m         \u001b[1;32mreturn\u001b[0m \u001b[0mself\u001b[0m\u001b[1;33m.\u001b[0m\u001b[0m_from_model\u001b[0m\u001b[1;33m(\u001b[0m\u001b[0mmodel\u001b[0m\u001b[1;33m)\u001b[0m\u001b[1;33m\u001b[0m\u001b[1;33m\u001b[0m\u001b[0m\n\u001b[0;32m    146\u001b[0m \u001b[1;33m\u001b[0m\u001b[0m\n",
      "\u001b[1;32m~\\anaconda3\\lib\\site-packages\\taipy\\core\\data\\_data_model.py\u001b[0m in \u001b[0;36mfrom_dict\u001b[1;34m(data)\u001b[0m\n\u001b[0;32m     46\u001b[0m             \u001b[0mname\u001b[0m\u001b[1;33m=\u001b[0m\u001b[0mdata\u001b[0m\u001b[1;33m[\u001b[0m\u001b[1;34m\"name\"\u001b[0m\u001b[1;33m]\u001b[0m\u001b[1;33m,\u001b[0m\u001b[1;33m\u001b[0m\u001b[1;33m\u001b[0m\u001b[0m\n\u001b[0;32m     47\u001b[0m             \u001b[0mparent_id\u001b[0m\u001b[1;33m=\u001b[0m\u001b[0mdata\u001b[0m\u001b[1;33m[\u001b[0m\u001b[1;34m\"parent_id\"\u001b[0m\u001b[1;33m]\u001b[0m\u001b[1;33m,\u001b[0m\u001b[1;33m\u001b[0m\u001b[1;33m\u001b[0m\u001b[0m\n\u001b[1;32m---> 48\u001b[1;33m             \u001b[0mlast_edition_date\u001b[0m\u001b[1;33m=\u001b[0m\u001b[0mdata\u001b[0m\u001b[1;33m[\u001b[0m\u001b[1;34m\"last_edition_date\"\u001b[0m\u001b[1;33m]\u001b[0m\u001b[1;33m,\u001b[0m\u001b[1;33m\u001b[0m\u001b[1;33m\u001b[0m\u001b[0m\n\u001b[0m\u001b[0;32m     49\u001b[0m             \u001b[0mjob_ids\u001b[0m\u001b[1;33m=\u001b[0m\u001b[0mdata\u001b[0m\u001b[1;33m[\u001b[0m\u001b[1;34m\"job_ids\"\u001b[0m\u001b[1;33m]\u001b[0m\u001b[1;33m,\u001b[0m\u001b[1;33m\u001b[0m\u001b[1;33m\u001b[0m\u001b[0m\n\u001b[0;32m     50\u001b[0m             \u001b[0mvalidity_days\u001b[0m\u001b[1;33m=\u001b[0m\u001b[0mdata\u001b[0m\u001b[1;33m[\u001b[0m\u001b[1;34m\"validity_days\"\u001b[0m\u001b[1;33m]\u001b[0m\u001b[1;33m,\u001b[0m\u001b[1;33m\u001b[0m\u001b[1;33m\u001b[0m\u001b[0m\n",
      "\u001b[1;31mKeyError\u001b[0m: 'last_edition_date'"
     ]
    }
   ],
   "source": [
    "scenario = tp.create_scenario(scenario_cfg, name='First Scenario')\n",
    "tp.submit(scenario)"
   ]
  },
  {
   "cell_type": "code",
   "execution_count": null,
   "id": "0438a233",
   "metadata": {
    "id": "0438a233",
    "outputId": "494c2bd8-eef2-4a0f-92ca-46ce061aeaee"
   },
   "outputs": [],
   "source": [
    "scenario.model.read()"
   ]
  },
  {
   "cell_type": "code",
   "execution_count": null,
   "id": "a4f4dafd",
   "metadata": {
    "id": "a4f4dafd",
    "outputId": "a9928f34-27e3-4e90-c43d-4aa073fc5617"
   },
   "outputs": [],
   "source": [
    "scenario.result.read()"
   ]
  },
  {
   "cell_type": "code",
   "execution_count": null,
   "id": "79602c0e",
   "metadata": {
    "id": "79602c0e",
    "outputId": "fe06a4ba-a59a-419e-f244-aed87412fb05"
   },
   "outputs": [],
   "source": [
    "scenario.predictions.read()"
   ]
  },
  {
   "cell_type": "markdown",
   "id": "d9915978",
   "metadata": {
    "id": "d9915978"
   },
   "source": [
    "## Caching\n",
    "Some job are skipped because no change has been done to the \"input\" Data Nodes."
   ]
  },
  {
   "cell_type": "code",
   "execution_count": null,
   "id": "7cb68da0",
   "metadata": {
    "id": "7cb68da0",
    "outputId": "b06a184d-f2aa-4e00-cac4-3a0111d1755c"
   },
   "outputs": [],
   "source": [
    "tp.submit(scenario)"
   ]
  },
  {
   "cell_type": "markdown",
   "id": "ba83beac",
   "metadata": {
    "id": "ba83beac"
   },
   "source": [
    "## Write in data nodes\n",
    "\n",
    "To write a data node:\n",
    "\n",
    "`<Data Node>.write(new_value)`"
   ]
  },
  {
   "cell_type": "code",
   "execution_count": null,
   "id": "31d6562d",
   "metadata": {
    "id": "31d6562d",
    "outputId": "9fef8e2d-9026-438f-da23-8299d3fe3497"
   },
   "outputs": [],
   "source": [
    "scenario.country.write('US')\n",
    "tp.submit(scenario)\n",
    "scenario.result.read()"
   ]
  },
  {
   "cell_type": "markdown",
   "id": "9d9d2c81",
   "metadata": {},
   "source": [
    "## Simple framework"
   ]
  },
  {
   "cell_type": "code",
   "execution_count": null,
   "id": "4892eb7d",
   "metadata": {},
   "outputs": [],
   "source": [
    "scenario = tp.create_scenario(scenario_cfg, name='Second Scenario')\n",
    "tp.submit(scenario)"
   ]
  },
  {
   "cell_type": "code",
   "execution_count": null,
   "id": "a9248942",
   "metadata": {},
   "outputs": [],
   "source": [
    "[s.model.read() for s in tp.get_scenarios()]"
   ]
  },
  {
   "cell_type": "markdown",
   "id": "73fd648f",
   "metadata": {
    "id": "73fd648f"
   },
   "source": [
    "## Create a Gui for the backend\n",
    "_scenario_selector_ lets you choose a scenario and display its results."
   ]
  },
  {
   "cell_type": "code",
   "execution_count": null,
   "id": "760f1a04",
   "metadata": {
    "id": "760f1a04",
    "outputId": "447fe599-faf2-47d9-d3f8-2f3e2297642a"
   },
   "outputs": [],
   "source": [
    "scenario_selector = [(s.id, s.name) for s in tp.get_scenarios()]\n",
    "selected_scenario = scenario.id\n",
    "print(scenario_selector,'\\n', selected_scenario)"
   ]
  },
  {
   "cell_type": "code",
   "execution_count": null,
   "id": "b590bdcc",
   "metadata": {
    "id": "b590bdcc",
    "outputId": "5747bb81-4c48-45ad-8457-f36fa783cff5"
   },
   "outputs": [],
   "source": [
    "result = scenario.result.read()\n",
    "result"
   ]
  },
  {
   "cell_type": "markdown",
   "id": "53c5cbc8",
   "metadata": {
    "id": "53c5cbc8"
   },
   "source": [
    "**Tips** : the _value_by_id_ property if set to True for a selected will make _selected_scenario_ directly refer to the first element of the tupple (here the id)"
   ]
  },
  {
   "cell_type": "markdown",
   "id": "4d705028",
   "metadata": {
    "id": "4d705028"
   },
   "source": [
    "![](img/predictions.png)"
   ]
  },
  {
   "cell_type": "code",
   "execution_count": null,
   "id": "ff76ef5f",
   "metadata": {
    "id": "ff76ef5f"
   },
   "outputs": [],
   "source": [
    "prediction_md = \"\"\"\n",
    "<|layout|columns=1 5 1 3|\n",
    "<|{scenario_name}|input|label=Name|>\n",
    "\n",
    "<br/>\n",
    "<|Create|button|on_action=create_new_scenario|>\n",
    "\n",
    "<|{selected_country}|selector|lov={selector_country}|dropdown|on_change=on_change_country|label=Country|>\n",
    "\n",
    "<br/>\n",
    "<|Submit|button|on_action=submit_scenario|>\n",
    "\n",
    "<|{selected_scenario}|selector|lov={scenario_selector}|on_change=actualize_graph|dropdown|value_by_id|label=Scenario|>\n",
    "|>\n",
    "\n",
    "<|{result}|chart|x=Date|y[1]=Deaths|type[1]=bar|y[2]=Predictions|>\n",
    "\"\"\""
   ]
  },
  {
   "cell_type": "code",
   "execution_count": null,
   "id": "de9e35b6",
   "metadata": {
    "id": "de9e35b6"
   },
   "outputs": [],
   "source": [
    "def create_new_scenario(state):\n",
    "    scenario = tp.create_scenario(scenario_cfg, name=state.scenario_name)\n",
    "    state.scenario_selector += [(scenario.id, scenario.name)]"
   ]
  },
  {
   "cell_type": "code",
   "execution_count": null,
   "id": "ef2d2fff",
   "metadata": {
    "id": "ef2d2fff"
   },
   "outputs": [],
   "source": [
    "def actualize_graph(state):\n",
    "    # 1) update the result dataframe\n",
    "    # 2) change selected_country with the predicted country of the scenario\n",
    "    scenario = tp.get(state.selected_scenario)\n",
    "    state.result = scenario.result.read()\n",
    "    state.selected_country = scenario.country.read()"
   ]
  },
  {
   "cell_type": "code",
   "execution_count": null,
   "id": "41f73a34",
   "metadata": {
    "id": "41f73a34"
   },
   "outputs": [],
   "source": [
    "def submit_scenario(state):\n",
    "    # 1) get the selected scenario\n",
    "    # 2) write in country Data Node, the selected country\n",
    "    # 3) submit the scenario\n",
    "    # 4) actualize le graph avec actualize_graph\n",
    "    scenario = tp.get(state.selected_scenario)\n",
    "    scenario.country.write(state.selected_country)\n",
    "    tp.submit(scenario)\n",
    "    actualize_graph(state)"
   ]
  },
  {
   "cell_type": "code",
   "execution_count": null,
   "id": "b9d18b7f",
   "metadata": {
    "id": "b9d18b7f",
    "outputId": "f0b7e1d3-3a44-4f8d-fccf-95065ae86ea1"
   },
   "outputs": [],
   "source": [
    "gui.stop()\n",
    "page.set_content(prediction_md)\n",
    "gui.run()"
   ]
  },
  {
   "cell_type": "markdown",
   "id": "40a63136",
   "metadata": {
    "id": "40a63136"
   },
   "source": [
    "# Multi-pages and Taipy Rest"
   ]
  },
  {
   "cell_type": "markdown",
   "id": "9b4d3ab8",
   "metadata": {
    "id": "9b4d3ab8"
   },
   "source": [
    "To create a multi-pages app, we only need a dictionary with names as the keys and the Markdowns as the values.\n",
    "\n",
    "The _navbar_ control (<|navbar|>) has a default behaviour. It redirects to the different pages of the app automatically. Other solutions exists."
   ]
  },
  {
   "cell_type": "markdown",
   "id": "77019d17",
   "metadata": {
    "id": "77019d17"
   },
   "source": [
    "![](img/multi_pages.png)"
   ]
  },
  {
   "cell_type": "code",
   "execution_count": null,
   "id": "b0db7725",
   "metadata": {
    "id": "b0db7725",
    "outputId": "26b9efff-d31d-429a-ca16-a7f07e704605"
   },
   "outputs": [],
   "source": [
    "navbar_md = \"<center>\\n<|navbar|>\\n</center>\"\n",
    "\n",
    "pages = {\n",
    "    \"Map\":navbar_md+map_md,\n",
    "    \"Country\":navbar_md+final_country_md,\n",
    "    \"Predictions\":navbar_md+prediction_md\n",
    "}\n",
    "\n",
    "rest = tp.Rest()\n",
    "\n",
    "gui_multi_pages = Gui(pages=pages)\n",
    "tp.run(gui_multi_pages, rest, dark_mode=False, port=5006)"
   ]
  }
 ],
 "metadata": {
  "colab": {
   "collapsed_sections": [
    "b4ac0541",
    "6580b5fe",
    "f84e0a88",
    "cd4d0268",
    "f48f94cd",
    "6e528ce2",
    "6ab0529e",
    "b19ed6d7",
    "e9a53d43",
    "1908c988",
    "849d0a97",
    "73ab0ee0",
    "252820b6",
    "27dbc823",
    "986ebad5",
    "d9915978",
    "ba83beac",
    "73fd648f"
   ],
   "name": "Microsoft_workshop-solution_en.ipynb",
   "provenance": []
  },
  "kernelspec": {
   "display_name": "Python 3 (ipykernel)",
   "language": "python",
   "name": "python3"
  },
  "language_info": {
   "codemirror_mode": {
    "name": "ipython",
    "version": 3
   },
   "file_extension": ".py",
   "mimetype": "text/x-python",
   "name": "python",
   "nbconvert_exporter": "python",
   "pygments_lexer": "ipython3",
   "version": "3.9.7"
  }
 },
 "nbformat": 4,
 "nbformat_minor": 5
}
